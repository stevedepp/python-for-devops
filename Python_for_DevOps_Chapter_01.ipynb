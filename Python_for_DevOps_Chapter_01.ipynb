{
  "nbformat": 4,
  "nbformat_minor": 0,
  "metadata": {
    "colab": {
      "name": "Python for DevOps Chapter 01.ipynb",
      "provenance": [],
      "collapsed_sections": [],
      "authorship_tag": "ABX9TyOZs31OvFxkWH2ZEEQe7CY4",
      "include_colab_link": true
    },
    "kernelspec": {
      "name": "python3",
      "display_name": "Python 3"
    }
  },
  "cells": [
    {
      "cell_type": "markdown",
      "metadata": {
        "id": "view-in-github",
        "colab_type": "text"
      },
      "source": [
        "<a href=\"https://colab.research.google.com/github/herculeslyndel/python-for-devops/blob/master/Python_for_DevOps_Chapter_01.ipynb\" target=\"_parent\"><img src=\"https://colab.research.google.com/assets/colab-badge.svg\" alt=\"Open In Colab\"/></a>"
      ]
    },
    {
      "cell_type": "code",
      "metadata": {
        "id": "HX0KIxlAMkAd",
        "colab_type": "code",
        "colab": {
          "base_uri": "https://localhost:8080/",
          "height": 34
        },
        "outputId": "2d3f3d77-dc0e-4af6-eac7-eb6bbb3c9c7b"
      },
      "source": [
        "!python --version"
      ],
      "execution_count": null,
      "outputs": [
        {
          "output_type": "stream",
          "text": [
            "Python 3.6.9\n"
          ],
          "name": "stdout"
        }
      ]
    },
    {
      "cell_type": "markdown",
      "metadata": {
        "id": "y964j5KbOqSo",
        "colab_type": "text"
      },
      "source": [
        "```\n",
        "package managers:\n",
        "apt\n",
        "rpm\n",
        "macports\n",
        "homebrew\n",
        "chocolatey\n",
        "```"
      ]
    },
    {
      "cell_type": "markdown",
      "metadata": {
        "id": "NQtfQ3esRWm-",
        "colab_type": "text"
      },
      "source": [
        "```\n",
        "running python:\n",
        "shell\n",
        "ipython\n",
        "jupyter\n",
        "```"
      ]
    },
    {
      "cell_type": "markdown",
      "metadata": {
        "id": "t2gGXneZUMKN",
        "colab_type": "text"
      },
      "source": [
        "```\n",
        "arguments\n",
        "```"
      ]
    },
    {
      "cell_type": "markdown",
      "metadata": {
        "id": "zFdoW_bTUVx8",
        "colab_type": "text"
      },
      "source": [
        "```\n",
        "execution control\n",
        "\n",
        "python uses indentation to demark code blocks or group statements\n",
        "\n",
        "if\n",
        "\n",
        "for\n",
        "    repeat block of statements once for each member of a sequence = ordered group of items\n",
        "\n",
        "    continue statement skips a step in the for loop, jumping to the next item int eh sequence\n",
        "\n",
        "while \n",
        "    repeat a block as long as condition is true\n",
        "    must define way for loop to end\n",
        "    best to have conditional statement that eventually evaluateds to False\n",
        "```"
      ]
    },
    {
      "cell_type": "code",
      "metadata": {
        "id": "NJj9Nx7uPAVQ",
        "colab_type": "code",
        "colab": {
          "base_uri": "https://localhost:8080/",
          "height": 105
        },
        "outputId": "395240eb-ce52-470a-ec70-39973cecb614"
      },
      "source": [
        "for i in range(6):\n",
        "    if i == 3:\n",
        "        continue\n",
        "    print(i)"
      ],
      "execution_count": null,
      "outputs": [
        {
          "output_type": "stream",
          "text": [
            "0\n",
            "1\n",
            "2\n",
            "4\n",
            "5\n"
          ],
          "name": "stdout"
        }
      ]
    },
    {
      "cell_type": "code",
      "metadata": {
        "id": "SoOIdRVDV7Bp",
        "colab_type": "code",
        "colab": {
          "base_uri": "https://localhost:8080/",
          "height": 87
        },
        "outputId": "f27f6f4a-835c-4c96-b8ad-114219eb4e27"
      },
      "source": [
        "count = 0\n",
        "while count < 4:\n",
        "    print(f'the count is {count}')\n",
        "    count += 1"
      ],
      "execution_count": null,
      "outputs": [
        {
          "output_type": "stream",
          "text": [
            "the count is 0\n",
            "the count is 1\n",
            "the count is 2\n",
            "the count is 3\n"
          ],
          "name": "stdout"
        }
      ]
    },
    {
      "cell_type": "markdown",
      "metadata": {
        "id": "DfXKNso5WP4H",
        "colab_type": "text"
      },
      "source": [
        "```\n",
        "or exit the while this way\n",
        "exiting the loop with break\n",
        "```"
      ]
    },
    {
      "cell_type": "code",
      "metadata": {
        "id": "Z_OF_SENWGVI",
        "colab_type": "code",
        "colab": {
          "base_uri": "https://localhost:8080/",
          "height": 141
        },
        "outputId": "7b94bd6b-d9fa-4035-fdff-5581d32d8636"
      },
      "source": [
        "count = 0 \n",
        "while True:\n",
        "    print(f'the count is {count}')\n",
        "    if count > 5:\n",
        "        break\n",
        "    count += 1    "
      ],
      "execution_count": null,
      "outputs": [
        {
          "output_type": "stream",
          "text": [
            "the count is 0\n",
            "the count is 1\n",
            "the count is 2\n",
            "the count is 3\n",
            "the count is 4\n",
            "the count is 5\n",
            "the count is 6\n"
          ],
          "name": "stdout"
        }
      ]
    },
    {
      "cell_type": "markdown",
      "metadata": {
        "id": "76iHxgCQW21U",
        "colab_type": "text"
      },
      "source": [
        "```can use that for for loops too```"
      ]
    },
    {
      "cell_type": "code",
      "metadata": {
        "id": "X0PBEL1DWWGl",
        "colab_type": "code",
        "colab": {
          "base_uri": "https://localhost:8080/",
          "height": 105
        },
        "outputId": "834f4c27-b988-48c5-fcd4-5935c82b0d34"
      },
      "source": [
        "for i in range(60):\n",
        "    if i == 3:\n",
        "        continue\n",
        "    if i >= 6:\n",
        "        break\n",
        "    print(i)"
      ],
      "execution_count": null,
      "outputs": [
        {
          "output_type": "stream",
          "text": [
            "0\n",
            "1\n",
            "2\n",
            "4\n",
            "5\n"
          ],
          "name": "stdout"
        }
      ]
    },
    {
      "cell_type": "markdown",
      "metadata": {
        "id": "4yVHaw3HXdnC",
        "colab_type": "text"
      },
      "source": [
        "```\n",
        "handling exceptions\n",
        "try statement \n",
        "    indenting block in which exception might be raised\n",
        "except\n",
        "    indenting block of code to run when error occurs\n",
        "    [here he gives IndexError a variable name and prints that variable]\n",
        "    [then breaks to exit the while]\n",
        "\n",
        "python and 3rd party libraries have their own exceptions. ideally specify explicitly which exception youre trying to catch.\n",
        "```\n"
      ]
    },
    {
      "cell_type": "code",
      "metadata": {
        "id": "DymInaHDWqWw",
        "colab_type": "code",
        "colab": {
          "base_uri": "https://localhost:8080/",
          "height": 105
        },
        "outputId": "da27c2e4-6084-4bea-d8fc-16e43c07ea1f"
      },
      "source": [
        "thinkers = ['plato', 'playdo', 'gumpy']\n",
        "while True:\n",
        "    try:\n",
        "        thinker = thinkers.pop()\n",
        "        print(thinker)\n",
        "    except IndexError as e:\n",
        "        print('we tried to pop too many thinkers')\n",
        "        print(f'error is \"{e}\"')\n",
        "        break"
      ],
      "execution_count": null,
      "outputs": [
        {
          "output_type": "stream",
          "text": [
            "gumpy\n",
            "playdo\n",
            "plato\n",
            "we tried to pop too many thinkers\n",
            "error is \"pop from empty list\"\n"
          ],
          "name": "stdout"
        }
      ]
    },
    {
      "cell_type": "markdown",
      "metadata": {
        "id": "99EEPpE3kElK",
        "colab_type": "text"
      },
      "source": [
        "```\n",
        "built in objects\n",
        "```"
      ]
    },
    {
      "cell_type": "markdown",
      "metadata": {
        "id": "hzKaZVGVZYm6",
        "colab_type": "text"
      },
      "source": [
        "```\n",
        "what is an object\n",
        "\n",
        "oop has data or state and functionality together.\n",
        "\n",
        "essential to understand: \n",
        "    class instantiation = creating objects from classes\n",
        "    dot syntax = syntax accessing object attributes and methods\n",
        "    class = defines attributes and methods shared by objects\n",
        "\n",
        "```"
      ]
    },
    {
      "cell_type": "markdown",
      "metadata": {
        "id": "8Xx7WiHya4Ep",
        "colab_type": "text"
      },
      "source": [
        "```\n",
        "so here FancyCar is a data type?\n",
        "```"
      ]
    },
    {
      "cell_type": "code",
      "metadata": {
        "id": "jt5qI7x9YP3j",
        "colab_type": "code",
        "colab": {
          "base_uri": "https://localhost:8080/",
          "height": 34
        },
        "outputId": "f1db0a5e-4a39-4663-fa69-4780d34e4a42"
      },
      "source": [
        "class FancyCar():\n",
        "    pass\n",
        "\n",
        "type(FancyCar)"
      ],
      "execution_count": null,
      "outputs": [
        {
          "output_type": "execute_result",
          "data": {
            "text/plain": [
              "type"
            ]
          },
          "metadata": {
            "tags": []
          },
          "execution_count": 12
        }
      ]
    },
    {
      "cell_type": "markdown",
      "metadata": {
        "id": "yFqD2RKSbPVw",
        "colab_type": "text"
      },
      "source": [
        "```\n",
        "instantiate a fancy car object\n",
        "```"
      ]
    },
    {
      "cell_type": "code",
      "metadata": {
        "id": "DfDOTrpJayFS",
        "colab_type": "code",
        "colab": {
          "base_uri": "https://localhost:8080/",
          "height": 34
        },
        "outputId": "055995ce-b242-4315-ef8e-38a457a73ba4"
      },
      "source": [
        "my_car = FancyCar()\n",
        "type(my_car)"
      ],
      "execution_count": null,
      "outputs": [
        {
          "output_type": "execute_result",
          "data": {
            "text/plain": [
              "__main__.FancyCar"
            ]
          },
          "metadata": {
            "tags": []
          },
          "execution_count": 14
        }
      ]
    },
    {
      "cell_type": "markdown",
      "metadata": {
        "id": "ypkEMDb0boVi",
        "colab_type": "text"
      },
      "source": [
        "```\n",
        "just remember that a object is an instantiation of a class\n",
        "```"
      ]
    },
    {
      "cell_type": "markdown",
      "metadata": {
        "id": "8qtGDnUCbqWX",
        "colab_type": "text"
      },
      "source": [
        "```\n",
        "object methods and attributes\n",
        "\n",
        "    objects store data in attributes\n",
        "        attributes are variables attached to the object or object class\n",
        "\n",
        "    objects define functionality in 2 forms\n",
        "    \n",
        "        object methods\n",
        "            methods defined for all objects in a class\n",
        "        class methods\n",
        "            methods attached to a class and shared by objects in a class \n",
        "            [notice it doesnt say \"defined by\"]\n",
        "        [both of] \"which are functions attached to the object\"\n",
        "        these functions have access to object's attributes and can modify and use object's data\n",
        "\n",
        "\n",
        "in python, functions ATTACHED to objects and classes are referred to as methods\n",
        "\n",
        "here e.g. FancyCar class defines \n",
        "    driveFast method\n",
        "    wheels attribute\n",
        "```"
      ]
    },
    {
      "cell_type": "code",
      "metadata": {
        "id": "nyTWZNpMbmFa",
        "colab_type": "code",
        "colab": {}
      },
      "source": [
        "class FancyCar():\n",
        "    wheels = 4\n",
        "    def driveFast(self):\n",
        "        print('Driving so fast')"
      ],
      "execution_count": null,
      "outputs": []
    },
    {
      "cell_type": "markdown",
      "metadata": {
        "id": "hLIHpgZ4dhIO",
        "colab_type": "text"
      },
      "source": [
        "```\n",
        "now instantiate a fancy car\n",
        "when instantiate and instance of FancyCar \n",
        "where the instance is named my_car\n",
        "you can \n",
        "    access the attribute with dot syntax\n",
        "    and \n",
        "    invoke the method with dot syntax\n",
        "```"
      ]
    },
    {
      "cell_type": "code",
      "metadata": {
        "id": "oQlFuCbfdef4",
        "colab_type": "code",
        "colab": {
          "base_uri": "https://localhost:8080/",
          "height": 34
        },
        "outputId": "3d78cff8-8d2e-4d53-e69d-185d8c51f27b"
      },
      "source": [
        "my_car = FancyCar()\n",
        "my_car.wheels"
      ],
      "execution_count": null,
      "outputs": [
        {
          "output_type": "execute_result",
          "data": {
            "text/plain": [
              "4"
            ]
          },
          "metadata": {
            "tags": []
          },
          "execution_count": 17
        }
      ]
    },
    {
      "cell_type": "markdown",
      "metadata": {
        "id": "fQVO9tTedq7p",
        "colab_type": "text"
      },
      "source": [
        "```\n",
        "invoke the method\n",
        "```"
      ]
    },
    {
      "cell_type": "code",
      "metadata": {
        "id": "wanU7g4ado51",
        "colab_type": "code",
        "colab": {
          "base_uri": "https://localhost:8080/",
          "height": 34
        },
        "outputId": "aba1d76d-1ea1-4a1a-ab32-1da87906215b"
      },
      "source": [
        "my_car.driveFast()"
      ],
      "execution_count": null,
      "outputs": [
        {
          "output_type": "stream",
          "text": [
            "Driving so fast\n"
          ],
          "name": "stdout"
        }
      ]
    },
    {
      "cell_type": "markdown",
      "metadata": {
        "id": "XZHw2QU7nMyy",
        "colab_type": "text"
      },
      "source": [
        "```\n",
        "sequences\n",
        "    = ordered / finite collections\n",
        "    list\n",
        "    tuple\n",
        "    range\n",
        "    string\n",
        "    binary\n",
        "```"
      ]
    },
    {
      "cell_type": "markdown",
      "metadata": {
        "id": "fXcpbwrWnY1_",
        "colab_type": "text"
      },
      "source": [
        "```\n",
        "sequence operations for any sequence type\n",
        "    in\n",
        "    not in\n",
        "    indexing\n",
        "    slicing\n",
        "    finding an index\n",
        "    length\n",
        "    min / max\n",
        "    count\n",
        "```"
      ]
    },
    {
      "cell_type": "code",
      "metadata": {
        "id": "R7-2rmM7dvrE",
        "colab_type": "code",
        "colab": {
          "base_uri": "https://localhost:8080/",
          "height": 34
        },
        "outputId": "2a497a85-4ffd-4946-9c3b-555fdcaa0caf"
      },
      "source": [
        "'a' in 'cat', 1 in [1, 2, 3]"
      ],
      "execution_count": null,
      "outputs": [
        {
          "output_type": "execute_result",
          "data": {
            "text/plain": [
              "(True, True)"
            ]
          },
          "metadata": {
            "tags": []
          },
          "execution_count": 23
        }
      ]
    },
    {
      "cell_type": "code",
      "metadata": {
        "id": "rujHGREJny8F",
        "colab_type": "code",
        "colab": {
          "base_uri": "https://localhost:8080/",
          "height": 34
        },
        "outputId": "771b89b6-0549-4ca9-d17c-e32672730167"
      },
      "source": [
        "True in ['a' in 'cat', 1 in [1, 2, 3]]"
      ],
      "execution_count": null,
      "outputs": [
        {
          "output_type": "execute_result",
          "data": {
            "text/plain": [
              "True"
            ]
          },
          "metadata": {
            "tags": []
          },
          "execution_count": 24
        }
      ]
    },
    {
      "cell_type": "code",
      "metadata": {
        "id": "lYTN3n5Kn-x4",
        "colab_type": "code",
        "colab": {
          "base_uri": "https://localhost:8080/",
          "height": 34
        },
        "outputId": "360703ac-6606-4df2-f7ef-8c26413539ad"
      },
      "source": [
        "a_name_sequence = 'steve depp'\n",
        "a_name_sequence[-1], a_name_sequence.index('e'), a_name_sequence.index('e', 7, 10), "
      ],
      "execution_count": null,
      "outputs": [
        {
          "output_type": "execute_result",
          "data": {
            "text/plain": [
              "('p', 2, 7)"
            ]
          },
          "metadata": {
            "tags": []
          },
          "execution_count": 37
        }
      ]
    },
    {
      "cell_type": "code",
      "metadata": {
        "id": "DwHwupdzoVpA",
        "colab_type": "code",
        "colab": {
          "base_uri": "https://localhost:8080/",
          "height": 35
        },
        "outputId": "cdad2bd2-9956-4753-f05b-e55c1807fe20"
      },
      "source": [
        "start = 2\n",
        "stop = 8\n",
        "step = 2\n",
        "a_name_sequence[start:stop:step]"
      ],
      "execution_count": null,
      "outputs": [
        {
          "output_type": "execute_result",
          "data": {
            "application/vnd.google.colaboratory.intrinsic": {
              "type": "string"
            },
            "text/plain": [
              "'eed'"
            ]
          },
          "metadata": {
            "tags": []
          },
          "execution_count": 38
        }
      ]
    },
    {
      "cell_type": "code",
      "metadata": {
        "id": "W3KjxElQpQFE",
        "colab_type": "code",
        "colab": {
          "base_uri": "https://localhost:8080/",
          "height": 34
        },
        "outputId": "2bd0b0e9-f905-4b1c-85fa-2204a275e3f4"
      },
      "source": [
        "a_number_sequence = [1, 2, 3, 4, 5, 6, 7, 8, 9, 10, 11]\n",
        "start = 2\n",
        "stop = 8\n",
        "step = 2\n",
        "a_number_sequence[start:stop:step], a_number_sequence[stop:start:-step]"
      ],
      "execution_count": null,
      "outputs": [
        {
          "output_type": "execute_result",
          "data": {
            "text/plain": [
              "([3, 5, 7], [9, 7, 5])"
            ]
          },
          "metadata": {
            "tags": []
          },
          "execution_count": 43
        }
      ]
    },
    {
      "cell_type": "code",
      "metadata": {
        "id": "OjI67TjZqyIb",
        "colab_type": "code",
        "colab": {
          "base_uri": "https://localhost:8080/",
          "height": 34
        },
        "outputId": "4e4b08d5-6450-4aab-e152-341f57ebd24d"
      },
      "source": [
        "len(a_number_sequence), a_name_sequence.count('e'), max(a_number_sequence)"
      ],
      "execution_count": null,
      "outputs": [
        {
          "output_type": "execute_result",
          "data": {
            "text/plain": [
              "(11, 3, 11)"
            ]
          },
          "metadata": {
            "tags": []
          },
          "execution_count": 46
        }
      ]
    },
    {
      "cell_type": "markdown",
      "metadata": {
        "id": "TKglM6WmsK_d",
        "colab_type": "text"
      },
      "source": [
        "```\n",
        "lists\n",
        "    data structure\n",
        "    ordered collection \n",
        "    any types can be mixed\n",
        "    define list with list() or list(another finite object)\n",
        "    list() takes only 1 argument!\n",
        "    add item to list with \n",
        "        append which is most efficient\n",
        "        insert which is less efficient\n",
        "    add one list ot another list\n",
        "    remove items from end\n",
        "    remove the 1st occurrence of an items\n",
        "    list comprehensions = for loops in a single line\n",
        "    add variable values at run time\n",
        "        legacy way\n",
        "        format method\n",
        "        template strings\n",
        "        f-strings\n",
        "```"
      ]
    },
    {
      "cell_type": "code",
      "metadata": {
        "id": "RavOvFFPrJEY",
        "colab_type": "code",
        "colab": {
          "base_uri": "https://localhost:8080/",
          "height": 70
        },
        "outputId": "33d590ea-c253-4868-a99b-4f79004132c7"
      },
      "source": [
        "pies = ['cherry', 'apple']\n",
        "print(pies)\n",
        "pies.append('rhubarb')\n",
        "print(pies)\n",
        "pies.insert(1, 'cream')\n",
        "print(pies)"
      ],
      "execution_count": null,
      "outputs": [
        {
          "output_type": "stream",
          "text": [
            "['cherry', 'apple']\n",
            "['cherry', 'apple', 'rhubarb']\n",
            "['cherry', 'cream', 'apple', 'rhubarb']\n"
          ],
          "name": "stdout"
        }
      ]
    },
    {
      "cell_type": "code",
      "metadata": {
        "id": "jxgWYK6As3zM",
        "colab_type": "code",
        "colab": {
          "base_uri": "https://localhost:8080/",
          "height": 34
        },
        "outputId": "79b385cf-e323-407f-850f-a25237df48c8"
      },
      "source": [
        "desserts = ['cookies', 'cake']\n",
        "desserts.extend(pies)\n",
        "print(desserts)"
      ],
      "execution_count": null,
      "outputs": [
        {
          "output_type": "stream",
          "text": [
            "['cookies', 'cake', 'cherry', 'cream', 'apple', 'rhubarb']\n"
          ],
          "name": "stdout"
        }
      ]
    },
    {
      "cell_type": "code",
      "metadata": {
        "id": "-f1wSf7DtdHR",
        "colab_type": "code",
        "colab": {
          "base_uri": "https://localhost:8080/",
          "height": 35
        },
        "outputId": "39e3705a-8a04-490d-8eff-a3676f4df542"
      },
      "source": [
        "desserts.pop()"
      ],
      "execution_count": null,
      "outputs": [
        {
          "output_type": "execute_result",
          "data": {
            "application/vnd.google.colaboratory.intrinsic": {
              "type": "string"
            },
            "text/plain": [
              "'rhubarb'"
            ]
          },
          "metadata": {
            "tags": []
          },
          "execution_count": 67
        }
      ]
    },
    {
      "cell_type": "code",
      "metadata": {
        "id": "c3M1EcVBtrvM",
        "colab_type": "code",
        "colab": {
          "base_uri": "https://localhost:8080/",
          "height": 34
        },
        "outputId": "a3c616dc-6ed7-4dad-9a72-91f525dd4aae"
      },
      "source": [
        "desserts.append('cake')\n",
        "desserts"
      ],
      "execution_count": null,
      "outputs": [
        {
          "output_type": "execute_result",
          "data": {
            "text/plain": [
              "(['cookies', 'cherry', 'cream', 'apple', 'cake'], None)"
            ]
          },
          "metadata": {
            "tags": []
          },
          "execution_count": 68
        }
      ]
    },
    {
      "cell_type": "code",
      "metadata": {
        "id": "G_wzDrmgt5KT",
        "colab_type": "code",
        "colab": {
          "base_uri": "https://localhost:8080/",
          "height": 34
        },
        "outputId": "ed7b7974-1ae1-480f-afb7-b7e010a5c13f"
      },
      "source": [
        "desserts.remove('cake')\n",
        "desserts"
      ],
      "execution_count": null,
      "outputs": [
        {
          "output_type": "execute_result",
          "data": {
            "text/plain": [
              "['cookies', 'cherry', 'cream', 'apple']"
            ]
          },
          "metadata": {
            "tags": []
          },
          "execution_count": 69
        }
      ]
    },
    {
      "cell_type": "code",
      "metadata": {
        "id": "oLLqjqvxuWG5",
        "colab_type": "code",
        "colab": {
          "base_uri": "https://localhost:8080/",
          "height": 34
        },
        "outputId": "16054a89-4b54-4769-e48b-e45a35021fbc"
      },
      "source": [
        "squares = []\n",
        "for i in range(10):\n",
        "    squared = i*i\n",
        "    squares.append(squared)\n",
        "\n",
        "squares"
      ],
      "execution_count": null,
      "outputs": [
        {
          "output_type": "execute_result",
          "data": {
            "text/plain": [
              "[0, 1, 4, 9, 16, 25, 36, 49, 64, 81]"
            ]
          },
          "metadata": {
            "tags": []
          },
          "execution_count": 71
        }
      ]
    },
    {
      "cell_type": "markdown",
      "metadata": {
        "id": "h5xVzv2cu6zf",
        "colab_type": "text"
      },
      "source": [
        "```\n",
        "the function of for loop's inner block is first\n",
        "    can also\n",
        "        add conditional at end\n",
        "        nest them\n",
        "        use multiple variables\n",
        "\n",
        "specific functions only for strings:\n",
        "    strip from left right both\n",
        "    pad with just\n",
        "    split\n",
        "    join\n",
        "    capitalize, upper, lower, title, swapcase\n",
        "    check\n",
        "        startswith\n",
        "        endswith\n",
        "        isalnum\n",
        "        isalpha\n",
        "        isnumeric\n",
        "        istitle\n",
        "        islower\n",
        "        isuppper\n",
        "    add variable values to strings at runtime\n",
        "    use variables in format\n",
        "    use Format Specification Mini-Language here ...\n",
        "    https://docs.python.org/3/library/string.html#format-specification-mini-language\n",
        "\n",
        "    or use f strings which are more intuitive\n",
        "\n",
        "    or use template strings\n",
        "```\n"
      ]
    },
    {
      "cell_type": "code",
      "metadata": {
        "id": "pdKuTBaourGG",
        "colab_type": "code",
        "colab": {
          "base_uri": "https://localhost:8080/",
          "height": 34
        },
        "outputId": "fc4f71f8-eac3-43d7-999f-d11a08f7dcbc"
      },
      "source": [
        "squares = [i*i for i in range(10)]\n",
        "squares"
      ],
      "execution_count": null,
      "outputs": [
        {
          "output_type": "execute_result",
          "data": {
            "text/plain": [
              "[0, 1, 4, 9, 16, 25, 36, 49, 64, 81]"
            ]
          },
          "metadata": {
            "tags": []
          },
          "execution_count": 73
        }
      ]
    },
    {
      "cell_type": "code",
      "metadata": {
        "id": "HogFEuPguzUv",
        "colab_type": "code",
        "colab": {
          "base_uri": "https://localhost:8080/",
          "height": 34
        },
        "outputId": "ec16ec65-fe59-438b-9491-ba7452e176e0"
      },
      "source": [
        "[i*i for i in range(10) if i%2==0]"
      ],
      "execution_count": null,
      "outputs": [
        {
          "output_type": "execute_result",
          "data": {
            "text/plain": [
              "[0, 4, 16, 36, 64]"
            ]
          },
          "metadata": {
            "tags": []
          },
          "execution_count": 74
        }
      ]
    },
    {
      "cell_type": "markdown",
      "metadata": {
        "id": "Bvx8hQqyv4Qm",
        "colab_type": "text"
      },
      "source": [
        "```\n",
        "strings\n",
        "    sequence type\n",
        "    collection of ordered characters surrounded by quotes\n",
        "    default to UTF-8 encoding\n",
        "\n",
        "    str()\n",
        "```"
      ]
    },
    {
      "cell_type": "code",
      "metadata": {
        "id": "dpGtd2MGvhn2",
        "colab_type": "code",
        "colab": {
          "base_uri": "https://localhost:8080/",
          "height": 105
        },
        "outputId": "f95bf2e7-ce29-4a58-a840-526a4ce55a24"
      },
      "source": [
        "str(), 'i am a string', \"i am also a 'string'\", str(list([1,2,3,4])), list(str('1234'))"
      ],
      "execution_count": null,
      "outputs": [
        {
          "output_type": "execute_result",
          "data": {
            "text/plain": [
              "('',\n",
              " 'i am a string',\n",
              " \"i am also a 'string'\",\n",
              " '[1, 2, 3, 4]',\n",
              " ['1', '2', '3', '4'])"
            ]
          },
          "metadata": {
            "tags": []
          },
          "execution_count": 79
        }
      ]
    },
    {
      "cell_type": "markdown",
      "metadata": {
        "id": "RP-9ocXZxHCd",
        "colab_type": "text"
      },
      "source": [
        "```interesting print --> none```"
      ]
    },
    {
      "cell_type": "code",
      "metadata": {
        "id": "qzouiB-mwEob",
        "colab_type": "code",
        "colab": {
          "base_uri": "https://localhost:8080/",
          "height": 123
        },
        "outputId": "af3a16f5-1c49-4e8d-94a1-0e797d98a95f"
      },
      "source": [
        "multiline = '''i \n",
        "am\n",
        "a\n",
        "multiline\n",
        "'''\n",
        "multiline, print(multiline)"
      ],
      "execution_count": null,
      "outputs": [
        {
          "output_type": "stream",
          "text": [
            "i \n",
            "am\n",
            "a\n",
            "multiline\n",
            "\n"
          ],
          "name": "stdout"
        },
        {
          "output_type": "execute_result",
          "data": {
            "text/plain": [
              "('i \\nam\\na\\nmultiline\\n', None)"
            ]
          },
          "metadata": {
            "tags": []
          },
          "execution_count": 83
        }
      ]
    },
    {
      "cell_type": "code",
      "metadata": {
        "id": "HPajqbaRwViT",
        "colab_type": "code",
        "colab": {
          "base_uri": "https://localhost:8080/",
          "height": 34
        },
        "outputId": "c18877fb-f515-4c99-db66-6a6b3fae4ca8"
      },
      "source": [
        "input = ' i want more '\n",
        "input.strip(), input.rstrip(), input.lstrip()"
      ],
      "execution_count": null,
      "outputs": [
        {
          "output_type": "execute_result",
          "data": {
            "text/plain": [
              "('i want more', ' i want more', 'i want more ')"
            ]
          },
          "metadata": {
            "tags": []
          },
          "execution_count": 84
        }
      ]
    },
    {
      "cell_type": "code",
      "metadata": {
        "id": "TchL9UuMxrIM",
        "colab_type": "code",
        "colab": {
          "base_uri": "https://localhost:8080/",
          "height": 34
        },
        "outputId": "44c60f77-fc22-4c68-c74b-6484f299b4ea"
      },
      "source": [
        "'more'.ljust(6), 'more'.rjust(6)"
      ],
      "execution_count": null,
      "outputs": [
        {
          "output_type": "execute_result",
          "data": {
            "text/plain": [
              "('more  ', '  more')"
            ]
          },
          "metadata": {
            "tags": []
          },
          "execution_count": 94
        }
      ]
    },
    {
      "cell_type": "markdown",
      "metadata": {
        "id": "muJA34lYzDPp",
        "colab_type": "text"
      },
      "source": [
        "```\n",
        "this isnt adding spaces or stars, its placing the text inside 6 spaces or 10 stars\n",
        "```"
      ]
    },
    {
      "cell_type": "code",
      "metadata": {
        "id": "HL8LoKJRyFqt",
        "colab_type": "code",
        "colab": {
          "base_uri": "https://localhost:8080/",
          "height": 35
        },
        "outputId": "7a27fcf7-8194-40e4-cecd-b2e3aa809579"
      },
      "source": [
        "'barry'.rjust(10, '*')"
      ],
      "execution_count": null,
      "outputs": [
        {
          "output_type": "execute_result",
          "data": {
            "application/vnd.google.colaboratory.intrinsic": {
              "type": "string"
            },
            "text/plain": [
              "'*****barry'"
            ]
          },
          "metadata": {
            "tags": []
          },
          "execution_count": 93
        }
      ]
    },
    {
      "cell_type": "code",
      "metadata": {
        "id": "t6kg9cKKylTs",
        "colab_type": "code",
        "colab": {
          "base_uri": "https://localhost:8080/",
          "height": 34
        },
        "outputId": "fe051a4a-6550-4d62-8fe9-9d0d5a0fc92d"
      },
      "source": [
        "'mary had a little lamb'.split()"
      ],
      "execution_count": null,
      "outputs": [
        {
          "output_type": "execute_result",
          "data": {
            "text/plain": [
              "['mary', 'had', 'a', 'little', 'lamb']"
            ]
          },
          "metadata": {
            "tags": []
          },
          "execution_count": 95
        }
      ]
    },
    {
      "cell_type": "code",
      "metadata": {
        "id": "P5_T53CvzXl_",
        "colab_type": "code",
        "colab": {
          "base_uri": "https://localhost:8080/",
          "height": 34
        },
        "outputId": "cdcd6585-ea07-4f57-e1d7-6da1a7a25437"
      },
      "source": [
        "'mary had a little lamb'.split(' ')"
      ],
      "execution_count": null,
      "outputs": [
        {
          "output_type": "execute_result",
          "data": {
            "text/plain": [
              "['mary', 'had', 'a', 'little', 'lamb']"
            ]
          },
          "metadata": {
            "tags": []
          },
          "execution_count": 96
        }
      ]
    },
    {
      "cell_type": "code",
      "metadata": {
        "id": "uBh4uy4aza-G",
        "colab_type": "code",
        "colab": {
          "base_uri": "https://localhost:8080/",
          "height": 34
        },
        "outputId": "ceab5753-34b9-4048-bf41-bdf8f196bfeb"
      },
      "source": [
        "'mary had a little lamb'.split('  ')"
      ],
      "execution_count": null,
      "outputs": [
        {
          "output_type": "execute_result",
          "data": {
            "text/plain": [
              "['mary had a little lamb']"
            ]
          },
          "metadata": {
            "tags": []
          },
          "execution_count": 97
        }
      ]
    },
    {
      "cell_type": "code",
      "metadata": {
        "id": "bzD5h7kmzdId",
        "colab_type": "code",
        "colab": {
          "base_uri": "https://localhost:8080/",
          "height": 105
        },
        "outputId": "1a5c8747-c3b0-4144-ff4e-eec6f5fcd676"
      },
      "source": [
        "url = 'https://colab.research.google.com/drive/1TC8D1v9ieG56WF_by1fYjrHLUlqHaWt5#scrollTo=bzD5h7kmzdId'\n",
        "url.split('/')"
      ],
      "execution_count": null,
      "outputs": [
        {
          "output_type": "execute_result",
          "data": {
            "text/plain": [
              "['https:',\n",
              " '',\n",
              " 'colab.research.google.com',\n",
              " 'drive',\n",
              " '1TC8D1v9ieG56WF_by1fYjrHLUlqHaWt5#scrollTo=bzD5h7kmzdId']"
            ]
          },
          "metadata": {
            "tags": []
          },
          "execution_count": 101
        }
      ]
    },
    {
      "cell_type": "markdown",
      "metadata": {
        "id": "bmD3q7Th0hDE",
        "colab_type": "text"
      },
      "source": [
        "```\n",
        "the list that is joined must be a list of strings\n",
        "```"
      ]
    },
    {
      "cell_type": "code",
      "metadata": {
        "id": "t2q2f1sezq-Z",
        "colab_type": "code",
        "colab": {
          "base_uri": "https://localhost:8080/",
          "height": 35
        },
        "outputId": "f2ba4603-5438-4549-985b-8107c9096668"
      },
      "source": [
        "' and '.join(['one', 'two', 'three'])"
      ],
      "execution_count": null,
      "outputs": [
        {
          "output_type": "execute_result",
          "data": {
            "application/vnd.google.colaboratory.intrinsic": {
              "type": "string"
            },
            "text/plain": [
              "'one and two and three'"
            ]
          },
          "metadata": {
            "tags": []
          },
          "execution_count": 106
        }
      ]
    },
    {
      "cell_type": "code",
      "metadata": {
        "id": "Y_k0N5VS0IoQ",
        "colab_type": "code",
        "colab": {
          "base_uri": "https://localhost:8080/",
          "height": 34
        },
        "outputId": "759bc9a7-98df-43e1-e4a4-21b024d0ffb2"
      },
      "source": [
        "name = 'steve depp'.title()\n",
        "name, name.upper(), name.swapcase()"
      ],
      "execution_count": null,
      "outputs": [
        {
          "output_type": "execute_result",
          "data": {
            "text/plain": [
              "('Steve Depp', 'STEVE DEPP', 'sTEVE dEPP')"
            ]
          },
          "metadata": {
            "tags": []
          },
          "execution_count": 109
        }
      ]
    },
    {
      "cell_type": "code",
      "metadata": {
        "id": "JHO4yg8M05sB",
        "colab_type": "code",
        "colab": {
          "base_uri": "https://localhost:8080/",
          "height": 34
        },
        "outputId": "2c0e7dd6-71a6-4934-c2b5-9b1c0d2b9d66"
      },
      "source": [
        "'Bob'.startswith('B'), 'Bob'.endswith('b'), 'Bob123'.isalnum(), 'bob'.isalpha(),\\\n",
        " '123'.isnumeric(), 'Steve'.istitle(), 'steve'.islower(), 'STEVE'.isupper()"
      ],
      "execution_count": null,
      "outputs": [
        {
          "output_type": "execute_result",
          "data": {
            "text/plain": [
              "(True, True, True, True, True, True, True, True)"
            ]
          },
          "metadata": {
            "tags": []
          },
          "execution_count": 113
        }
      ]
    },
    {
      "cell_type": "code",
      "metadata": {
        "id": "QsJX39R42Erm",
        "colab_type": "code",
        "colab": {
          "base_uri": "https://localhost:8080/",
          "height": 34
        },
        "outputId": "e67c4e47-e3c9-4c5b-e945-cb3757f344d8"
      },
      "source": [
        "'%s + %s = %s' % (1,2, \"Three\"), '%.3f' % 1.23456"
      ],
      "execution_count": null,
      "outputs": [
        {
          "output_type": "execute_result",
          "data": {
            "text/plain": [
              "('1 + 2 = Three', '1.235')"
            ]
          },
          "metadata": {
            "tags": []
          },
          "execution_count": 115
        }
      ]
    },
    {
      "cell_type": "code",
      "metadata": {
        "id": "15fHuXcX2pqE",
        "colab_type": "code",
        "colab": {
          "base_uri": "https://localhost:8080/",
          "height": 52
        },
        "outputId": "72834f07-3a65-4aa7-aa8a-7d14862f5d96"
      },
      "source": [
        "'{} comes before {}'.format('first', 'second'), \\\n",
        "'{1} comes after {0}, but {1} comes before {2}'.format('first', 'second', 'third')"
      ],
      "execution_count": null,
      "outputs": [
        {
          "output_type": "execute_result",
          "data": {
            "text/plain": [
              "('first comes before second',\n",
              " 'second comes after first, but second comes before third')"
            ]
          },
          "metadata": {
            "tags": []
          },
          "execution_count": 117
        }
      ]
    },
    {
      "cell_type": "code",
      "metadata": {
        "id": "zQjE5iY_88ay",
        "colab_type": "code",
        "colab": {
          "base_uri": "https://localhost:8080/",
          "height": 35
        },
        "outputId": "18fb4071-e637-4f4b-d99f-c3ff8f7dabde"
      },
      "source": [
        "'''{country} is an island.\n",
        "{country} is off the coast of \n",
        "{continent} in the {ocean}'''.format(ocean = 'indian ocean',\n",
        "                                     continent = 'africa',\n",
        "                                     country = 'madagascar')"
      ],
      "execution_count": null,
      "outputs": [
        {
          "output_type": "execute_result",
          "data": {
            "application/vnd.google.colaboratory.intrinsic": {
              "type": "string"
            },
            "text/plain": [
              "'madagascar is an island.\\nmadagascar is off the coast of \\nafrica in the indian ocean'"
            ]
          },
          "metadata": {
            "tags": []
          },
          "execution_count": 120
        }
      ]
    },
    {
      "cell_type": "code",
      "metadata": {
        "id": "6dduYl_A9hQg",
        "colab_type": "code",
        "colab": {
          "base_uri": "https://localhost:8080/",
          "height": 35
        },
        "outputId": "08b1f28b-5c67-4017-e221-bf7b73611e9d"
      },
      "source": [
        "values = {'ocean':'indian ocean', 'continent':'africa', 'country':'madagascar'}\n",
        "'''{country} is an island.\n",
        "{country} is off the coast of \n",
        "{continent} in the {ocean}'''.format(**values)"
      ],
      "execution_count": null,
      "outputs": [
        {
          "output_type": "execute_result",
          "data": {
            "application/vnd.google.colaboratory.intrinsic": {
              "type": "string"
            },
            "text/plain": [
              "'madagascar is an island.\\nmadagascar is off the coast of \\nafrica in the indian ocean'"
            ]
          },
          "metadata": {
            "tags": []
          },
          "execution_count": 121
        }
      ]
    },
    {
      "cell_type": "code",
      "metadata": {
        "id": "pIn1aiuo-bbB",
        "colab_type": "code",
        "colab": {
          "base_uri": "https://localhost:8080/",
          "height": 35
        },
        "outputId": "b1f3144a-1830-46cc-aeb4-ddfc7273196c"
      },
      "source": [
        "ocean = 'indian ocean'\n",
        "continent = 'africa'\n",
        "country = 'madagascar'\n",
        "f'{country} is an island. {country} is off the coast of {continent} in the {ocean}'"
      ],
      "execution_count": null,
      "outputs": [
        {
          "output_type": "execute_result",
          "data": {
            "application/vnd.google.colaboratory.intrinsic": {
              "type": "string"
            },
            "text/plain": [
              "'madagascar is an island. madagascar is off the coast of africa in the indian ocean'"
            ]
          },
          "metadata": {
            "tags": []
          },
          "execution_count": 122
        }
      ]
    },
    {
      "cell_type": "code",
      "metadata": {
        "id": "dU6P9AqA_zC2",
        "colab_type": "code",
        "colab": {
          "base_uri": "https://localhost:8080/",
          "height": 35
        },
        "outputId": "6b14b275-1f2d-4a36-8f0f-3dc1dfd0f37f"
      },
      "source": [
        "from string import Template\n",
        "greeting = Template('$hello Mark Antony')\n",
        "greeting.substitute(hello='bonjour')"
      ],
      "execution_count": null,
      "outputs": [
        {
          "output_type": "execute_result",
          "data": {
            "application/vnd.google.colaboratory.intrinsic": {
              "type": "string"
            },
            "text/plain": [
              "'bonjour Mark Antony'"
            ]
          },
          "metadata": {
            "tags": []
          },
          "execution_count": 123
        }
      ]
    },
    {
      "cell_type": "markdown",
      "metadata": {
        "id": "5lTM9eMAA8uv",
        "colab_type": "text"
      },
      "source": [
        "```\n",
        "mutable = change in place\n",
        "    lists are\n",
        "    strings and dicts are not\n",
        "        need to assign to same variable to change that variable\n",
        "```"
      ]
    },
    {
      "cell_type": "markdown",
      "metadata": {
        "id": "P4ERANKwBPdz",
        "colab_type": "text"
      },
      "source": [
        "```\n",
        "dicts \n",
        "    represented as comma separated key,value pairs in {}\n",
        "    make with dict()\n",
        "    access with dictname[key]\n",
        "        --> KeyError if no key value\n",
        "    access with dictname.get(key, default-value)\n",
        "    delete a key-value pair with del\n",
        "    return all the keys() or all the values() or all the key,value pairs with items()\n",
        "    one line it with dict comprehension\n",
        "```"
      ]
    },
    {
      "cell_type": "code",
      "metadata": {
        "id": "cycckXV4BN98",
        "colab_type": "code",
        "colab": {
          "base_uri": "https://localhost:8080/",
          "height": 34
        },
        "outputId": "14b3b34b-87f3-4c18-9877-82dd304e8d78"
      },
      "source": [
        "phones = {}\n",
        "phones['steve'] = 4846448626\n",
        "phones['rick'] = 2154928610\n",
        "phones"
      ],
      "execution_count": null,
      "outputs": [
        {
          "output_type": "execute_result",
          "data": {
            "text/plain": [
              "{'rick': 2154928610, 'steve': 4846448626}"
            ]
          },
          "metadata": {
            "tags": []
          },
          "execution_count": 124
        }
      ]
    },
    {
      "cell_type": "code",
      "metadata": {
        "id": "bjwwVtQmC25_",
        "colab_type": "code",
        "colab": {
          "base_uri": "https://localhost:8080/",
          "height": 34
        },
        "outputId": "90cf844d-d88c-41db-c8df-a2a42fac2a79"
      },
      "source": [
        "ages = [['noah',17], ['oscar', 17], ['kazumi', 50], ['steve', 58]]\n",
        "ages = dict(ages)\n",
        "ages"
      ],
      "execution_count": null,
      "outputs": [
        {
          "output_type": "execute_result",
          "data": {
            "text/plain": [
              "{'kazumi': 50, 'noah': 17, 'oscar': 17, 'steve': 58}"
            ]
          },
          "metadata": {
            "tags": []
          },
          "execution_count": 125
        }
      ]
    },
    {
      "cell_type": "code",
      "metadata": {
        "id": "iSKHO-AhDaSH",
        "colab_type": "code",
        "colab": {
          "base_uri": "https://localhost:8080/",
          "height": 34
        },
        "outputId": "ef2e3203-47ed-49df-ad4d-0c2ef6084fac"
      },
      "source": [
        "ages['steve']"
      ],
      "execution_count": null,
      "outputs": [
        {
          "output_type": "execute_result",
          "data": {
            "text/plain": [
              "58"
            ]
          },
          "metadata": {
            "tags": []
          },
          "execution_count": 126
        }
      ]
    },
    {
      "cell_type": "code",
      "metadata": {
        "id": "ymj1YzumDkOy",
        "colab_type": "code",
        "colab": {
          "base_uri": "https://localhost:8080/",
          "height": 168
        },
        "outputId": "62bab0ba-48d2-4056-f18a-217e63b05406"
      },
      "source": [
        "ages['rick']"
      ],
      "execution_count": null,
      "outputs": [
        {
          "output_type": "error",
          "ename": "KeyError",
          "evalue": "ignored",
          "traceback": [
            "\u001b[0;31m---------------------------------------------------------------------------\u001b[0m",
            "\u001b[0;31mKeyError\u001b[0m                                  Traceback (most recent call last)",
            "\u001b[0;32m<ipython-input-127-98daaa3d2ba5>\u001b[0m in \u001b[0;36m<module>\u001b[0;34m()\u001b[0m\n\u001b[0;32m----> 1\u001b[0;31m \u001b[0mages\u001b[0m\u001b[0;34m[\u001b[0m\u001b[0;34m'rick'\u001b[0m\u001b[0;34m]\u001b[0m\u001b[0;34m\u001b[0m\u001b[0;34m\u001b[0m\u001b[0m\n\u001b[0m",
            "\u001b[0;31mKeyError\u001b[0m: 'rick'"
          ]
        }
      ]
    },
    {
      "cell_type": "code",
      "metadata": {
        "id": "fYRSqVLDDmlq",
        "colab_type": "code",
        "colab": {
          "base_uri": "https://localhost:8080/",
          "height": 35
        },
        "outputId": "1d82efb8-e08a-4dd6-b209-6b4154688782"
      },
      "source": [
        "phones.get('kazumi', 'unknown')"
      ],
      "execution_count": null,
      "outputs": [
        {
          "output_type": "execute_result",
          "data": {
            "application/vnd.google.colaboratory.intrinsic": {
              "type": "string"
            },
            "text/plain": [
              "'unknown'"
            ]
          },
          "metadata": {
            "tags": []
          },
          "execution_count": 128
        }
      ]
    },
    {
      "cell_type": "code",
      "metadata": {
        "id": "jENW2EP8DvZm",
        "colab_type": "code",
        "colab": {
          "base_uri": "https://localhost:8080/",
          "height": 34
        },
        "outputId": "13ddf230-fc1b-4a9d-b9db-c2967e86d271"
      },
      "source": [
        "if 'kazumi' in phones:\n",
        "    print(phones['kazumi'])\n",
        "else:\n",
        "    print('unknown')"
      ],
      "execution_count": null,
      "outputs": [
        {
          "output_type": "stream",
          "text": [
            "unknown\n"
          ],
          "name": "stdout"
        }
      ]
    },
    {
      "cell_type": "code",
      "metadata": {
        "id": "KswLQ5-aD-UR",
        "colab_type": "code",
        "colab": {
          "base_uri": "https://localhost:8080/",
          "height": 34
        },
        "outputId": "792de653-191e-433d-bd37-1fb1928561dd"
      },
      "source": [
        "del(ages['kazumi'])\n",
        "ages"
      ],
      "execution_count": null,
      "outputs": [
        {
          "output_type": "execute_result",
          "data": {
            "text/plain": [
              "{'noah': 17, 'oscar': 17, 'steve': 58}"
            ]
          },
          "metadata": {
            "tags": []
          },
          "execution_count": 130
        }
      ]
    },
    {
      "cell_type": "code",
      "metadata": {
        "id": "31EXwYh6EIEF",
        "colab_type": "code",
        "colab": {
          "base_uri": "https://localhost:8080/",
          "height": 70
        },
        "outputId": "0119a416-bf3b-4b10-b725-34ca1afd36c3"
      },
      "source": [
        "ages.keys(), ages.values(), ages.items()"
      ],
      "execution_count": null,
      "outputs": [
        {
          "output_type": "execute_result",
          "data": {
            "text/plain": [
              "(dict_keys(['noah', 'oscar', 'steve']),\n",
              " dict_values([17, 17, 58]),\n",
              " dict_items([('noah', 17), ('oscar', 17), ('steve', 58)]))"
            ]
          },
          "metadata": {
            "tags": []
          },
          "execution_count": 131
        }
      ]
    },
    {
      "cell_type": "code",
      "metadata": {
        "id": "ARWA2v0PEQ4O",
        "colab_type": "code",
        "colab": {
          "base_uri": "https://localhost:8080/",
          "height": 34
        },
        "outputId": "bb7cb7c2-93dd-45d6-89e5-e2a8a513e31b"
      },
      "source": [
        "{n.upper():a for n,a in ages.items()}"
      ],
      "execution_count": null,
      "outputs": [
        {
          "output_type": "execute_result",
          "data": {
            "text/plain": [
              "{'NOAH': 17, 'OSCAR': 17, 'STEVE': 58}"
            ]
          },
          "metadata": {
            "tags": []
          },
          "execution_count": 134
        }
      ]
    },
    {
      "cell_type": "markdown",
      "metadata": {
        "id": "2bJHYNC7E7mr",
        "colab_type": "text"
      },
      "source": [
        "```\n",
        "function\n",
        "    encapsulates code\n",
        "    positional args first\n",
        "    keyword args with default values\n",
        "    return\n",
        "        if not then None is returns\n",
        "    are objects\n",
        "        can be in a sequential list for sequential invocation\n",
        "    anonymous functions\n",
        "```"
      ]
    },
    {
      "cell_type": "code",
      "metadata": {
        "id": "G6k7fRHmEnbe",
        "colab_type": "code",
        "colab": {}
      },
      "source": [
        "def double(input):\n",
        "    '''double input'''\n",
        "    return input*2\n",
        "def triple(input):\n",
        "    '''triple input'''\n",
        "    return input*3\n",
        "\n",
        "#triple? if execiuted --> help box"
      ],
      "execution_count": null,
      "outputs": []
    },
    {
      "cell_type": "code",
      "metadata": {
        "id": "peZPabUpGxi0",
        "colab_type": "code",
        "colab": {
          "base_uri": "https://localhost:8080/",
          "height": 34
        },
        "outputId": "07bdfbd8-4edb-4080-a0ee-f2d7bfe19ef3"
      },
      "source": [
        "type(double)"
      ],
      "execution_count": null,
      "outputs": [
        {
          "output_type": "execute_result",
          "data": {
            "text/plain": [
              "function"
            ]
          },
          "metadata": {
            "tags": []
          },
          "execution_count": 139
        }
      ]
    },
    {
      "cell_type": "code",
      "metadata": {
        "id": "LM14T38vGj26",
        "colab_type": "code",
        "colab": {
          "base_uri": "https://localhost:8080/",
          "height": 34
        },
        "outputId": "52849c64-bd6f-4eea-f70e-03a65a62ae8d"
      },
      "source": [
        "functions = [double, triple]\n",
        "[f(3) for f in functions]"
      ],
      "execution_count": null,
      "outputs": [
        {
          "output_type": "execute_result",
          "data": {
            "text/plain": [
              "[6, 9]"
            ]
          },
          "metadata": {
            "tags": []
          },
          "execution_count": 141
        }
      ]
    },
    {
      "cell_type": "code",
      "metadata": {
        "id": "n4siUC05G7E7",
        "colab_type": "code",
        "colab": {
          "base_uri": "https://localhost:8080/",
          "height": 34
        },
        "outputId": "686216ea-54ea-450d-f7d2-a4cf343d493d"
      },
      "source": [
        "items = [[0, 'a', 2], [5, 'b', 0], [2, 'c', 1]]\n",
        "sorted(items)"
      ],
      "execution_count": null,
      "outputs": [
        {
          "output_type": "execute_result",
          "data": {
            "text/plain": [
              "[[0, 'a', 2], [2, 'c', 1], [5, 'b', 0]]"
            ]
          },
          "metadata": {
            "tags": []
          },
          "execution_count": 142
        }
      ]
    },
    {
      "cell_type": "code",
      "metadata": {
        "id": "lq0-2xNbHsXD",
        "colab_type": "code",
        "colab": {
          "base_uri": "https://localhost:8080/",
          "height": 34
        },
        "outputId": "f805987d-989d-4cfd-9e08-98afe0144e57"
      },
      "source": [
        "def second(item):\n",
        "    '''return second entry'''\n",
        "    return item[1]\n",
        "\n",
        "sorted(items, key=second)"
      ],
      "execution_count": null,
      "outputs": [
        {
          "output_type": "execute_result",
          "data": {
            "text/plain": [
              "[[0, 'a', 2], [5, 'b', 0], [2, 'c', 1]]"
            ]
          },
          "metadata": {
            "tags": []
          },
          "execution_count": 144
        }
      ]
    },
    {
      "cell_type": "markdown",
      "metadata": {
        "id": "aXDq_SMeIH8m",
        "colab_type": "text"
      },
      "source": [
        "```\n",
        "do the same with lambda which doesnt retain a variable or a function name = stateless\n",
        "\n",
        "lambda <PARAM>: <RETURN EXPRESSION>\n",
        "\n",
        "leads to code that is poorly documented\n",
        "```"
      ]
    },
    {
      "cell_type": "code",
      "metadata": {
        "id": "JV9UW4RmH2fK",
        "colab_type": "code",
        "colab": {
          "base_uri": "https://localhost:8080/",
          "height": 34
        },
        "outputId": "92f8cd2c-6d15-4699-91c0-c7f88b82dc02"
      },
      "source": [
        "sorted(items, key=lambda item: item[1])"
      ],
      "execution_count": null,
      "outputs": [
        {
          "output_type": "execute_result",
          "data": {
            "text/plain": [
              "[[0, 'a', 2], [5, 'b', 0], [2, 'c', 1]]"
            ]
          },
          "metadata": {
            "tags": []
          },
          "execution_count": 145
        }
      ]
    },
    {
      "cell_type": "markdown",
      "metadata": {
        "id": "XUnPemQYOB-W",
        "colab_type": "text"
      },
      "source": [
        "```\n",
        "regular expressions aka regex\n",
        "\n",
        "    match patterns in strings\n",
        "\n",
        "        e.g. .endswith method on stings\n",
        "\n",
        "    python re package ~ regex in perl\n",
        "\n",
        "        \\ delineate special char in matching\n",
        "\n",
        "        can avoid confusion with regular string escape chars \n",
        "            \\n and \\t e.g. \n",
        "        \n",
        "        by using raw strings which are prepended with r before 1st quotation mark\n",
        "```"
      ]
    },
    {
      "cell_type": "code",
      "metadata": {
        "id": "SYgLxfYqPL8b",
        "colab_type": "code",
        "colab": {}
      },
      "source": [
        "cc_list = '''Ezra Koenig <ekoenig@vpwk.com.,\n",
        "Rostam Batmanglij <ctomson@vpwk.com,\n",
        "Chris Tomson <ctomson@vpwk.com,\n",
        "Bobbi Baio <bbaio@vpwk.com>'''"
      ],
      "execution_count": 20,
      "outputs": []
    },
    {
      "cell_type": "markdown",
      "metadata": {
        "id": "ORinzBb4QIWJ",
        "colab_type": "text"
      },
      "source": [
        "```\n",
        "regex\n",
        "\n",
        "    sequence membership syntax\n",
        "    re.search function\n",
        "        returns re.Match object if match\n",
        "            which is not zero so can be condtional elelment\n",
        "    [..]search for any one of a set of characters\n",
        "    + matches any one or more\n",
        "    {number} matches exactly that number of matches\n",
        "```"
      ]
    },
    {
      "cell_type": "code",
      "metadata": {
        "id": "N7uag7MRP9Xn",
        "colab_type": "code",
        "colab": {
          "base_uri": "https://localhost:8080/",
          "height": 34
        },
        "outputId": "72120bfe-4b6d-4cc5-9c6f-7fb0197682c9"
      },
      "source": [
        "'Rostam' in cc_list"
      ],
      "execution_count": 2,
      "outputs": [
        {
          "output_type": "execute_result",
          "data": {
            "text/plain": [
              "True"
            ]
          },
          "metadata": {
            "tags": []
          },
          "execution_count": 2
        }
      ]
    },
    {
      "cell_type": "code",
      "metadata": {
        "id": "RWdjQc3pQOVD",
        "colab_type": "code",
        "colab": {
          "base_uri": "https://localhost:8080/",
          "height": 34
        },
        "outputId": "398a6c93-c0e9-4749-b38d-8089b0bd269e"
      },
      "source": [
        "import re\n",
        "re.search(r'Rostam', cc_list)"
      ],
      "execution_count": 3,
      "outputs": [
        {
          "output_type": "execute_result",
          "data": {
            "text/plain": [
              "<_sre.SRE_Match object; span=(32, 38), match='Rostam'>"
            ]
          },
          "metadata": {
            "tags": []
          },
          "execution_count": 3
        }
      ]
    },
    {
      "cell_type": "code",
      "metadata": {
        "id": "XDvozL_iR7rJ",
        "colab_type": "code",
        "colab": {
          "base_uri": "https://localhost:8080/",
          "height": 34
        },
        "outputId": "10bcebd8-559c-480f-c725-f810f9c74fdf"
      },
      "source": [
        "if re.search(r'Rostam', cc_list):\n",
        "    print('Found')"
      ],
      "execution_count": 5,
      "outputs": [
        {
          "output_type": "stream",
          "text": [
            "Found\n"
          ],
          "name": "stdout"
        }
      ]
    },
    {
      "cell_type": "code",
      "metadata": {
        "id": "rl441kD8SPWl",
        "colab_type": "code",
        "colab": {
          "base_uri": "https://localhost:8080/",
          "height": 52
        },
        "outputId": "3796ed90-3262-4a0a-8b51-4e99da95be03"
      },
      "source": [
        "re.search('[RB]obb[yi]','Robbi'), re.search('[RB]obb[yi]','Bobby')"
      ],
      "execution_count": 10,
      "outputs": [
        {
          "output_type": "execute_result",
          "data": {
            "text/plain": [
              "(<_sre.SRE_Match object; span=(0, 5), match='Robbi'>,\n",
              " <_sre.SRE_Match object; span=(0, 5), match='Bobby'>)"
            ]
          },
          "metadata": {
            "tags": []
          },
          "execution_count": 10
        }
      ]
    },
    {
      "cell_type": "code",
      "metadata": {
        "id": "ScMBitfJTbZ8",
        "colab_type": "code",
        "colab": {}
      },
      "source": [
        "re.search(r'Chr[a-z][a-z]', cc_list)"
      ],
      "execution_count": null,
      "outputs": []
    },
    {
      "cell_type": "code",
      "metadata": {
        "id": "-b5r4GtET8M7",
        "colab_type": "code",
        "colab": {
          "base_uri": "https://localhost:8080/",
          "height": 34
        },
        "outputId": "63aef390-a8d9-4d2b-92c0-ced7e867a287"
      },
      "source": [
        "re.search(r'[A-Za-z]+', cc_list)"
      ],
      "execution_count": 24,
      "outputs": [
        {
          "output_type": "execute_result",
          "data": {
            "text/plain": [
              "<_sre.SRE_Match object; span=(0, 4), match='Ezra'>"
            ]
          },
          "metadata": {
            "tags": []
          },
          "execution_count": 24
        }
      ]
    },
    {
      "cell_type": "code",
      "metadata": {
        "id": "L0v6u_unUsn5",
        "colab_type": "code",
        "colab": {
          "base_uri": "https://localhost:8080/",
          "height": 34
        },
        "outputId": "7230bfeb-3301-4447-c7ef-c27fdf80af7c"
      },
      "source": [
        "re.search(r'[A-Za-z]{6}', cc_list)"
      ],
      "execution_count": 27,
      "outputs": [
        {
          "output_type": "execute_result",
          "data": {
            "text/plain": [
              "<_sre.SRE_Match object; span=(5, 11), match='Koenig'>"
            ]
          },
          "metadata": {
            "tags": []
          },
          "execution_count": 27
        }
      ]
    },
    {
      "cell_type": "code",
      "metadata": {
        "id": "HF-krdmeWPED",
        "colab_type": "code",
        "colab": {
          "base_uri": "https://localhost:8080/",
          "height": 34
        },
        "outputId": "d6e8b65b-47d1-4505-df15-9fc182a0d623"
      },
      "source": [
        "re.search(r'[A-Za-z]+@[a-z]+\\.[a-z]{3}', cc_list)"
      ],
      "execution_count": 32,
      "outputs": [
        {
          "output_type": "execute_result",
          "data": {
            "text/plain": [
              "<_sre.SRE_Match object; span=(13, 29), match='ekoenig@vpwk.com'>"
            ]
          },
          "metadata": {
            "tags": []
          },
          "execution_count": 32
        }
      ]
    },
    {
      "cell_type": "markdown",
      "metadata": {
        "id": "3donvFrnYCMH",
        "colab_type": "text"
      },
      "source": [
        "```\n",
        "regex character classes\n",
        "\n",
        "    \\w same as [a-zA-Z0-9_]\n",
        "    \\d same as [0-9]\n",
        "```"
      ]
    },
    {
      "cell_type": "code",
      "metadata": {
        "id": "izWoZOVTXjZk",
        "colab_type": "code",
        "colab": {
          "base_uri": "https://localhost:8080/",
          "height": 34
        },
        "outputId": "8a264eda-c460-486a-dd82-c7675cc8ed63"
      },
      "source": [
        "re.search(r'\\w+', cc_list)"
      ],
      "execution_count": 33,
      "outputs": [
        {
          "output_type": "execute_result",
          "data": {
            "text/plain": [
              "<_sre.SRE_Match object; span=(0, 4), match='Ezra'>"
            ]
          },
          "metadata": {
            "tags": []
          },
          "execution_count": 33
        }
      ]
    },
    {
      "cell_type": "code",
      "metadata": {
        "id": "dbU70nN5YwRI",
        "colab_type": "code",
        "colab": {
          "base_uri": "https://localhost:8080/",
          "height": 34
        },
        "outputId": "29c7bf01-65ba-4d65-cb9b-c1be4bc5050c"
      },
      "source": [
        "re.search(r'\\w\\@\\w+\\.\\w{3}', cc_list)"
      ],
      "execution_count": 34,
      "outputs": [
        {
          "output_type": "execute_result",
          "data": {
            "text/plain": [
              "<_sre.SRE_Match object; span=(19, 29), match='g@vpwk.com'>"
            ]
          },
          "metadata": {
            "tags": []
          },
          "execution_count": 34
        }
      ]
    },
    {
      "cell_type": "markdown",
      "metadata": {
        "id": "kYTHKrSjZDKx",
        "colab_type": "text"
      },
      "source": [
        "```\n",
        "groups\n",
        "\n",
        "    defined by {} with in the search string\n",
        "    and accessed with .group(0) full match .group(1) 1st match in the match object\n",
        "    named groups\n",
        "    find all\n",
        "    find iterator\n",
        "    substitution\n",
        "    compiling\n",
        "```"
      ]
    },
    {
      "cell_type": "code",
      "metadata": {
        "id": "5V7i3xfLZ0TD",
        "colab_type": "code",
        "colab": {
          "base_uri": "https://localhost:8080/",
          "height": 34
        },
        "outputId": "1e183d1f-0331-4739-88f4-b3291a2d3958"
      },
      "source": [
        "re.search(r'(\\w+)\\@(\\w+)\\.(\\w{3})', cc_list)"
      ],
      "execution_count": 35,
      "outputs": [
        {
          "output_type": "execute_result",
          "data": {
            "text/plain": [
              "<_sre.SRE_Match object; span=(13, 29), match='ekoenig@vpwk.com'>"
            ]
          },
          "metadata": {
            "tags": []
          },
          "execution_count": 35
        }
      ]
    },
    {
      "cell_type": "code",
      "metadata": {
        "id": "dKcPXwF3aKfI",
        "colab_type": "code",
        "colab": {
          "base_uri": "https://localhost:8080/",
          "height": 34
        },
        "outputId": "aeaf8a7c-0737-47b3-d442-7543d15bc54d"
      },
      "source": [
        "matched = re.search(r'(\\w+)\\@(\\w+)\\.(\\w{3})', cc_list)\n",
        "matched.group(0), matched.group(1), matched.group(2), matched.group(3)"
      ],
      "execution_count": 37,
      "outputs": [
        {
          "output_type": "execute_result",
          "data": {
            "text/plain": [
              "('ekoenig@vpwk.com', 'ekoenig', 'vpwk', 'com')"
            ]
          },
          "metadata": {
            "tags": []
          },
          "execution_count": 37
        }
      ]
    },
    {
      "cell_type": "code",
      "metadata": {
        "id": "iznctHhpiWvI",
        "colab_type": "code",
        "colab": {
          "base_uri": "https://localhost:8080/",
          "height": 35
        },
        "outputId": "c58bebf0-0c69-4943-cb8f-ae70cb47896a"
      },
      "source": [
        "matched = re.search(r'(?P<firstname>\\w+)\\@(?P<SLD>\\w+)\\.(?P<TLD>\\w{3})', cc_list)\n",
        "matched.group('firstname')"
      ],
      "execution_count": 41,
      "outputs": [
        {
          "output_type": "execute_result",
          "data": {
            "application/vnd.google.colaboratory.intrinsic": {
              "type": "string"
            },
            "text/plain": [
              "'ekoenig'"
            ]
          },
          "metadata": {
            "tags": []
          },
          "execution_count": 41
        }
      ]
    },
    {
      "cell_type": "code",
      "metadata": {
        "id": "ENQvNXzIjAAi",
        "colab_type": "code",
        "colab": {
          "base_uri": "https://localhost:8080/",
          "height": 70
        },
        "outputId": "64478fb5-de97-4f50-b762-ec6a9bcf5053"
      },
      "source": [
        "print(f'''name: {matched.group(\"firstname\")}\n",
        "secondary level domain: {matched.group(\"SLD\")}\n",
        "top level domain: {matched.group(\"TLD\")}''')"
      ],
      "execution_count": 43,
      "outputs": [
        {
          "output_type": "stream",
          "text": [
            "name: ekoenig\n",
            "secondary level domain: vpwk\n",
            "top level domain: com\n"
          ],
          "name": "stdout"
        }
      ]
    },
    {
      "cell_type": "code",
      "metadata": {
        "id": "LgzvehpXjzHt",
        "colab_type": "code",
        "colab": {
          "base_uri": "https://localhost:8080/",
          "height": 34
        },
        "outputId": "0ab424ac-45aa-44f3-87f2-8f36e2e79270"
      },
      "source": [
        "matched = re.findall(r'\\w+\\@\\w+\\.\\w{3}', cc_list)\n",
        "matched"
      ],
      "execution_count": 47,
      "outputs": [
        {
          "output_type": "execute_result",
          "data": {
            "text/plain": [
              "['ekoenig@vpwk.com', 'ctomson@vpwk.com', 'ctomson@vpwk.com', 'bbaio@vpwk.com']"
            ]
          },
          "metadata": {
            "tags": []
          },
          "execution_count": 47
        }
      ]
    },
    {
      "cell_type": "code",
      "metadata": {
        "id": "0QeBBB62kkTr",
        "colab_type": "code",
        "colab": {
          "base_uri": "https://localhost:8080/",
          "height": 87
        },
        "outputId": "06fd4366-a352-483e-ffc3-42979585a0d7"
      },
      "source": [
        "matched = re.findall(r'(\\w+)\\@(\\w+)\\.(\\w{3})', cc_list)\n",
        "matched"
      ],
      "execution_count": 54,
      "outputs": [
        {
          "output_type": "execute_result",
          "data": {
            "text/plain": [
              "[('ekoenig', 'vpwk', 'com'),\n",
              " ('ctomson', 'vpwk', 'com'),\n",
              " ('ctomson', 'vpwk', 'com'),\n",
              " ('bbaio', 'vpwk', 'com')]"
            ]
          },
          "metadata": {
            "tags": []
          },
          "execution_count": 54
        }
      ]
    },
    {
      "cell_type": "code",
      "metadata": {
        "id": "wiMWhONflA39",
        "colab_type": "code",
        "colab": {
          "base_uri": "https://localhost:8080/",
          "height": 34
        },
        "outputId": "f52e8cc3-3be9-415a-8d09-6861a27e09ac"
      },
      "source": [
        "names = [x[0] for x in matched]\n",
        "names"
      ],
      "execution_count": 56,
      "outputs": [
        {
          "output_type": "execute_result",
          "data": {
            "text/plain": [
              "['ekoenig', 'ctomson', 'ctomson', 'bbaio']"
            ]
          },
          "metadata": {
            "tags": []
          },
          "execution_count": 56
        }
      ]
    },
    {
      "cell_type": "code",
      "metadata": {
        "id": "DJz8gzD-lbDL",
        "colab_type": "code",
        "colab": {
          "base_uri": "https://localhost:8080/",
          "height": 87
        },
        "outputId": "54f30bb3-9b9f-4638-9e16-05b9118e7065"
      },
      "source": [
        "matched = re.finditer(r'\\w+\\@\\w+\\.\\w{3}', cc_list)\n",
        "matched, next(matched), next(matched), next(matched)"
      ],
      "execution_count": 59,
      "outputs": [
        {
          "output_type": "execute_result",
          "data": {
            "text/plain": [
              "(<callable_iterator at 0x7fea5acda4e0>,\n",
              " <_sre.SRE_Match object; span=(13, 29), match='ekoenig@vpwk.com'>,\n",
              " <_sre.SRE_Match object; span=(51, 67), match='ctomson@vpwk.com'>,\n",
              " <_sre.SRE_Match object; span=(83, 99), match='ctomson@vpwk.com'>)"
            ]
          },
          "metadata": {
            "tags": []
          },
          "execution_count": 59
        }
      ]
    },
    {
      "cell_type": "code",
      "metadata": {
        "id": "q4_Rf1vvmCFg",
        "colab_type": "code",
        "colab": {
          "base_uri": "https://localhost:8080/",
          "height": 87
        },
        "outputId": "73e275cc-5a77-40e9-93ee-0ff19f0d771b"
      },
      "source": [
        "matched = re.finditer(r'(?P<firstname>\\w+)\\@(?P<SLD>\\w+)\\.(?P<TLD>\\w{3})', cc_list)\n",
        "for m in matched:\n",
        "    print(m.groupdict())"
      ],
      "execution_count": 60,
      "outputs": [
        {
          "output_type": "stream",
          "text": [
            "{'firstname': 'ekoenig', 'SLD': 'vpwk', 'TLD': 'com'}\n",
            "{'firstname': 'ctomson', 'SLD': 'vpwk', 'TLD': 'com'}\n",
            "{'firstname': 'ctomson', 'SLD': 'vpwk', 'TLD': 'com'}\n",
            "{'firstname': 'bbaio', 'SLD': 'vpwk', 'TLD': 'com'}\n"
          ],
          "name": "stdout"
        }
      ]
    },
    {
      "cell_type": "code",
      "metadata": {
        "id": "JXxJSeJCmZhD",
        "colab_type": "code",
        "colab": {
          "base_uri": "https://localhost:8080/",
          "height": 35
        },
        "outputId": "47c1edc5-8fdc-4fda-dee8-72ea2519136d"
      },
      "source": [
        "re.sub(\"\\d\", \"#\", \"The passcode you entered was 09876\")"
      ],
      "execution_count": 61,
      "outputs": [
        {
          "output_type": "execute_result",
          "data": {
            "application/vnd.google.colaboratory.intrinsic": {
              "type": "string"
            },
            "text/plain": [
              "'The passcode you entered was #####'"
            ]
          },
          "metadata": {
            "tags": []
          },
          "execution_count": 61
        }
      ]
    },
    {
      "cell_type": "code",
      "metadata": {
        "id": "KmosCE5Wm6G1",
        "colab_type": "code",
        "colab": {
          "base_uri": "https://localhost:8080/",
          "height": 87
        },
        "outputId": "eaa2d23a-0ed6-48ac-b1d7-42a8761c49ba"
      },
      "source": [
        "users = re.sub(\"(?P<firstname>\\w+)\\@(?P<SLD>\\w+)\\.(?P<TLD>\\w{3})\", \n",
        "               \"\\g<TLD>.\\g<SLD>.\\g<firstname>\", cc_list)\n",
        "print(users)"
      ],
      "execution_count": 65,
      "outputs": [
        {
          "output_type": "stream",
          "text": [
            "Ezra Koenig <com.vpwk.ekoenig.,\n",
            "Rostam Batmanglij <com.vpwk.ctomson,\n",
            "Chris Tomson <com.vpwk.ctomson,\n",
            "Bobbi Baio <com.vpwk.bbaio>\n"
          ],
          "name": "stdout"
        }
      ]
    },
    {
      "cell_type": "code",
      "metadata": {
        "id": "HOlq7LEVn4Gm",
        "colab_type": "code",
        "colab": {
          "base_uri": "https://localhost:8080/",
          "height": 34
        },
        "outputId": "8b06befb-35ff-4431-f03c-4f523cf5167b"
      },
      "source": [
        "regex = re.compile(r'\\w+\\@\\w+\\.\\w{3}')\n",
        "regex.search(cc_list)"
      ],
      "execution_count": 66,
      "outputs": [
        {
          "output_type": "execute_result",
          "data": {
            "text/plain": [
              "<_sre.SRE_Match object; span=(13, 29), match='ekoenig@vpwk.com'>"
            ]
          },
          "metadata": {
            "tags": []
          },
          "execution_count": 66
        }
      ]
    },
    {
      "cell_type": "markdown",
      "metadata": {
        "id": "z90jg6Pgos9b",
        "colab_type": "text"
      },
      "source": [
        "```\n",
        "lazy evaluation\n",
        "    dont process data elements until element needed \n",
        "    generators e.g.\n",
        "    generator comprehensions e.g.\n",
        "```"
      ]
    },
    {
      "cell_type": "code",
      "metadata": {
        "id": "ndoXcJIsomBS",
        "colab_type": "code",
        "colab": {}
      },
      "source": [
        "def count():\n",
        "    n = 0\n",
        "    while True:\n",
        "        n += 1\n",
        "        yield n"
      ],
      "execution_count": 68,
      "outputs": []
    },
    {
      "cell_type": "code",
      "metadata": {
        "id": "Si6UByDDoraY",
        "colab_type": "code",
        "colab": {
          "base_uri": "https://localhost:8080/",
          "height": 34
        },
        "outputId": "0963d377-58ef-4da5-896e-ac624ae7603c"
      },
      "source": [
        "counter = count()\n",
        "counter"
      ],
      "execution_count": 69,
      "outputs": [
        {
          "output_type": "execute_result",
          "data": {
            "text/plain": [
              "<generator object count at 0x7fea5acc5bf8>"
            ]
          },
          "metadata": {
            "tags": []
          },
          "execution_count": 69
        }
      ]
    },
    {
      "cell_type": "code",
      "metadata": {
        "id": "4wvAMIBKsBWY",
        "colab_type": "code",
        "colab": {
          "base_uri": "https://localhost:8080/",
          "height": 34
        },
        "outputId": "ae19f489-42d2-45a8-ddcc-3105ef47089b"
      },
      "source": [
        "next(counter), next(counter), next(counter)"
      ],
      "execution_count": 72,
      "outputs": [
        {
          "output_type": "execute_result",
          "data": {
            "text/plain": [
              "(2, 3, 4)"
            ]
          },
          "metadata": {
            "tags": []
          },
          "execution_count": 72
        }
      ]
    },
    {
      "cell_type": "code",
      "metadata": {
        "id": "ZqcGdrSdsx9P",
        "colab_type": "code",
        "colab": {
          "base_uri": "https://localhost:8080/",
          "height": 34
        },
        "outputId": "2fb26558-fa71-4961-eab9-f0a346632cba"
      },
      "source": [
        "next(counter), next(counter), next(counter)"
      ],
      "execution_count": 73,
      "outputs": [
        {
          "output_type": "execute_result",
          "data": {
            "text/plain": [
              "(5, 6, 7)"
            ]
          },
          "metadata": {
            "tags": []
          },
          "execution_count": 73
        }
      ]
    },
    {
      "cell_type": "code",
      "metadata": {
        "id": "Mr19l4Urs5oA",
        "colab_type": "code",
        "colab": {}
      },
      "source": [
        "def fib():\n",
        "    first = 0\n",
        "    last = 1\n",
        "    while True:\n",
        "        first, last = last, first + last\n",
        "        yield first"
      ],
      "execution_count": 75,
      "outputs": []
    },
    {
      "cell_type": "code",
      "metadata": {
        "id": "6JIrmLd7tXpz",
        "colab_type": "code",
        "colab": {
          "base_uri": "https://localhost:8080/",
          "height": 34
        },
        "outputId": "51207597-f382-4538-c6e6-697969bd2c20"
      },
      "source": [
        "f = fib()\n",
        "next(f), next(f), next(f), next(f), next(f), next(f)"
      ],
      "execution_count": 76,
      "outputs": [
        {
          "output_type": "execute_result",
          "data": {
            "text/plain": [
              "(1, 1, 2, 3, 5, 8)"
            ]
          },
          "metadata": {
            "tags": []
          },
          "execution_count": 76
        }
      ]
    },
    {
      "cell_type": "code",
      "metadata": {
        "id": "H-8bay_-tm93",
        "colab_type": "code",
        "colab": {
          "base_uri": "https://localhost:8080/",
          "height": 141
        },
        "outputId": "5bed069f-c37f-42ff-be79-7c8c1d970f98"
      },
      "source": [
        "f = fib()\n",
        "for x in f:\n",
        "    print(x)\n",
        "    if x > 12:\n",
        "        break"
      ],
      "execution_count": 77,
      "outputs": [
        {
          "output_type": "stream",
          "text": [
            "1\n",
            "1\n",
            "2\n",
            "3\n",
            "5\n",
            "8\n",
            "13\n"
          ],
          "name": "stdout"
        }
      ]
    },
    {
      "cell_type": "code",
      "metadata": {
        "id": "p1oqhDoJtyk2",
        "colab_type": "code",
        "colab": {
          "base_uri": "https://localhost:8080/",
          "height": 52
        },
        "outputId": "6a96c108-3011-4a25-f91a-b3bed780ea92"
      },
      "source": [
        "list_o_nums = [x for x in range(10)]\n",
        "gen_o_nums = (x for x in range(100))\n",
        "list_o_nums, gen_o_nums"
      ],
      "execution_count": 79,
      "outputs": [
        {
          "output_type": "execute_result",
          "data": {
            "text/plain": [
              "([0, 1, 2, 3, 4, 5, 6, 7, 8, 9],\n",
              " <generator object <genexpr> at 0x7fea5ada9af0>)"
            ]
          },
          "metadata": {
            "tags": []
          },
          "execution_count": 79
        }
      ]
    },
    {
      "cell_type": "code",
      "metadata": {
        "id": "Qd8OMlfWuLvK",
        "colab_type": "code",
        "colab": {}
      },
      "source": [
        "big_hog = list_o_nums = [x for x in range(1000000)]\n",
        "tiny_kitten = gen_o_nums = (x for x in range(1000000))"
      ],
      "execution_count": 1,
      "outputs": []
    },
    {
      "cell_type": "code",
      "metadata": {
        "id": "9FTRwjNeubvk",
        "colab_type": "code",
        "colab": {
          "base_uri": "https://localhost:8080/",
          "height": 34
        },
        "outputId": "ccb23d2c-8716-4afe-889c-a40536f93b67"
      },
      "source": [
        "import sys\n",
        "sys.getsizeof(big_hog), sys.getsizeof(tiny_kitten)"
      ],
      "execution_count": 3,
      "outputs": [
        {
          "output_type": "execute_result",
          "data": {
            "text/plain": [
              "(8697464, 88)"
            ]
          },
          "metadata": {
            "tags": []
          },
          "execution_count": 3
        }
      ]
    },
    {
      "cell_type": "markdown",
      "metadata": {
        "id": "Pviq2O4Lu_Ec",
        "colab_type": "text"
      },
      "source": [
        "```\n",
        "shell commands\n",
        "    SList takes\n",
        "        grep\n",
        "        sort\n",
        "        fields\n",
        "```"
      ]
    },
    {
      "cell_type": "code",
      "metadata": {
        "id": "yVv_sK58u1Zj",
        "colab_type": "code",
        "colab": {
          "base_uri": "https://localhost:8080/",
          "height": 34
        },
        "outputId": "ecd536d9-5f48-4087-8939-c9d5f28a2136"
      },
      "source": [
        "var_ls = !ls -la\n",
        "type(var_ls)"
      ],
      "execution_count": 4,
      "outputs": [
        {
          "output_type": "execute_result",
          "data": {
            "text/plain": [
              "IPython.utils.text.SList"
            ]
          },
          "metadata": {
            "tags": []
          },
          "execution_count": 4
        }
      ]
    },
    {
      "cell_type": "code",
      "metadata": {
        "id": "MofolEf6wBbu",
        "colab_type": "code",
        "colab": {
          "base_uri": "https://localhost:8080/",
          "height": 105
        },
        "outputId": "494bec7c-966e-4872-8164-4ffc27e0e540"
      },
      "source": [
        "var_ls"
      ],
      "execution_count": 7,
      "outputs": [
        {
          "output_type": "execute_result",
          "data": {
            "text/plain": [
              "['total 16',\n",
              " 'drwxr-xr-x 1 root root 4096 Jun 17 16:18 .',\n",
              " 'drwxr-xr-x 1 root root 4096 Jun 27 14:36 ..',\n",
              " 'drwxr-xr-x 1 root root 4096 Jun 25 17:02 .config',\n",
              " 'drwxr-xr-x 1 root root 4096 Jun 17 16:18 sample_data']"
            ]
          },
          "metadata": {
            "tags": []
          },
          "execution_count": 7
        }
      ]
    },
    {
      "cell_type": "code",
      "metadata": {
        "id": "arMA5AH_vIpA",
        "colab_type": "code",
        "colab": {
          "base_uri": "https://localhost:8080/",
          "height": 247
        },
        "outputId": "7e893423-f1fe-4584-e89b-5ca592d8c646"
      },
      "source": [
        "var_ls.fields()"
      ],
      "execution_count": 11,
      "outputs": [
        {
          "output_type": "execute_result",
          "data": {
            "text/plain": [
              "[['total', '16'],\n",
              " ['drwxr-xr-x', '1', 'root', 'root', '4096', 'Jun', '17', '16:18', '.'],\n",
              " ['drwxr-xr-x', '1', 'root', 'root', '4096', 'Jun', '27', '14:36', '..'],\n",
              " ['drwxr-xr-x', '1', 'root', 'root', '4096', 'Jun', '25', '17:02', '.config'],\n",
              " ['drwxr-xr-x',\n",
              "  '1',\n",
              "  'root',\n",
              "  'root',\n",
              "  '4096',\n",
              "  'Jun',\n",
              "  '17',\n",
              "  '16:18',\n",
              "  'sample_data']]"
            ]
          },
          "metadata": {
            "tags": []
          },
          "execution_count": 11
        }
      ]
    },
    {
      "cell_type": "code",
      "metadata": {
        "id": "vSQj4jVMv-HO",
        "colab_type": "code",
        "colab": {
          "base_uri": "https://localhost:8080/",
          "height": 105
        },
        "outputId": "9b4d6fe4-d894-4fb5-fe30-b2a170fac91f"
      },
      "source": [
        "var_ls.sort(7)"
      ],
      "execution_count": 12,
      "outputs": [
        {
          "output_type": "execute_result",
          "data": {
            "text/plain": [
              "['total 16',\n",
              " 'drwxr-xr-x 1 root root 4096 Jun 27 14:36 ..',\n",
              " 'drwxr-xr-x 1 root root 4096 Jun 17 16:18 .',\n",
              " 'drwxr-xr-x 1 root root 4096 Jun 17 16:18 sample_data',\n",
              " 'drwxr-xr-x 1 root root 4096 Jun 25 17:02 .config']"
            ]
          },
          "metadata": {
            "tags": []
          },
          "execution_count": 12
        }
      ]
    },
    {
      "cell_type": "markdown",
      "metadata": {
        "id": "-rgqi2xCw1oR",
        "colab_type": "text"
      },
      "source": [
        "```\n",
        "df (Unix) df (abbreviation for disk free) \n",
        "\n",
        "display the amount of available disk space for file systems \n",
        "on which the invoking user has appropriate read access\n",
        "```"
      ]
    },
    {
      "cell_type": "code",
      "metadata": {
        "id": "1tlnOHiVwSR0",
        "colab_type": "code",
        "colab": {
          "base_uri": "https://localhost:8080/",
          "height": 194
        },
        "outputId": "613861dd-d5a1-492a-d4a1-27d05d643dd1"
      },
      "source": [
        "df = !df\n",
        "df.sort(3, nums=True)"
      ],
      "execution_count": 15,
      "outputs": [
        {
          "output_type": "execute_result",
          "data": {
            "text/plain": [
              "['Filesystem     1K-blocks     Used Available Use% Mounted on',\n",
              " 'tmpfs              65536        0     65536   0% /dev',\n",
              " 'shm              6160384        0   6160384   0% /dev/shm',\n",
              " 'tmpfs            6666768       12   6666756   1% /var/colab',\n",
              " 'tmpfs            6666768        0   6666768   0% /proc/acpi',\n",
              " 'tmpfs            6666768        0   6666768   0% /proc/scsi',\n",
              " 'tmpfs            6666768        0   6666768   0% /sys/firmware',\n",
              " 'tmpfs            6666768        0   6666768   0% /sys/fs/cgroup',\n",
              " 'overlay        113008892 32610296  74615044  31% /',\n",
              " '/dev/sda1      119512108 34293256  85202468  29% /etc/hosts']"
            ]
          },
          "metadata": {
            "tags": []
          },
          "execution_count": 15
        }
      ]
    },
    {
      "cell_type": "markdown",
      "metadata": {
        "id": "gZj6ozrMxlP-",
        "colab_type": "text"
      },
      "source": [
        "searcg commands with 'kill' in their names that are installed in /usr/bin directory"
      ]
    },
    {
      "cell_type": "code",
      "metadata": {
        "id": "l4I8z-IMwqsQ",
        "colab_type": "code",
        "colab": {
          "base_uri": "https://localhost:8080/",
          "height": 70
        },
        "outputId": "aab32b51-8075-48fc-965c-c7c163c1817e"
      },
      "source": [
        "ls = !ls -l /usr/bin\n",
        "ls.grep(\"kill\")"
      ],
      "execution_count": 17,
      "outputs": [
        {
          "output_type": "execute_result",
          "data": {
            "text/plain": [
              "['lrwxrwxrwx 1 root root          5 Aug  9  2019  pkill -> pgrep',\n",
              " '-rwxr-xr-x 1 root root      26704 Aug  9  2019  skill',\n",
              " 'lrwxrwxrwx 1 root root          5 Aug  9  2019  snice -> skill']"
            ]
          },
          "metadata": {
            "tags": []
          },
          "execution_count": 17
        }
      ]
    },
    {
      "cell_type": "markdown",
      "metadata": {
        "id": "xfrvd_G8x1Bi",
        "colab_type": "text"
      },
      "source": [
        "```\n",
        "magic functions\n",
        "\n",
        "    bash\n",
        "\n",
        "    uname (short for unix name) = computer program in Unix OS that prints current machine / OS:\n",
        "        name\n",
        "        version \n",
        "        other details \n",
        "\n",
        "    %%writefile\n",
        "        write and test Python or Bash scripts on fly\n",
        "\n",
        "    %%who\n",
        "        show you what's loaded into memory\n",
        "        handy when working fro terminal for a long time and loose track\n",
        "```"
      ]
    },
    {
      "cell_type": "code",
      "metadata": {
        "id": "0bzl61oMxbrg",
        "colab_type": "code",
        "colab": {
          "base_uri": "https://localhost:8080/",
          "height": 34
        },
        "outputId": "fd1d2e3f-92aa-4af7-8107-547afff5bf33"
      },
      "source": [
        "%%bash\n",
        "uname -a"
      ],
      "execution_count": 18,
      "outputs": [
        {
          "output_type": "stream",
          "text": [
            "Linux 40b51842735f 4.19.104+ #1 SMP Wed Feb 19 05:26:34 PST 2020 x86_64 x86_64 x86_64 GNU/Linux\n"
          ],
          "name": "stdout"
        }
      ]
    },
    {
      "cell_type": "code",
      "metadata": {
        "id": "Xwcbdn6FyB50",
        "colab_type": "code",
        "colab": {
          "base_uri": "https://localhost:8080/",
          "height": 34
        },
        "outputId": "210dca03-881e-4ed0-e09c-035476bb93aa"
      },
      "source": [
        "%%writefile print_time.py\n",
        "#!/usr/bin/env_python\n",
        "import datetime\n",
        "print(datetime.datetime.now().time())\n"
      ],
      "execution_count": 22,
      "outputs": [
        {
          "output_type": "stream",
          "text": [
            "Overwriting print_time.py\n"
          ],
          "name": "stdout"
        }
      ]
    },
    {
      "cell_type": "code",
      "metadata": {
        "id": "WCkueI9iy69n",
        "colab_type": "code",
        "colab": {
          "base_uri": "https://localhost:8080/",
          "height": 70
        },
        "outputId": "d794c2a9-6234-417d-dd4b-6468756ed0f3"
      },
      "source": [
        "cat print_time.py"
      ],
      "execution_count": 23,
      "outputs": [
        {
          "output_type": "stream",
          "text": [
            "#!/usr/bin/env_python\n",
            "import datetime\n",
            "print(datetime.datetime.now().time())"
          ],
          "name": "stdout"
        }
      ]
    },
    {
      "cell_type": "code",
      "metadata": {
        "id": "8-AIBgvyy-ty",
        "colab_type": "code",
        "colab": {
          "base_uri": "https://localhost:8080/",
          "height": 34
        },
        "outputId": "6daba611-75b7-4eb3-a1a7-734c26cb04bf"
      },
      "source": [
        "!python print_time.py"
      ],
      "execution_count": 24,
      "outputs": [
        {
          "output_type": "stream",
          "text": [
            "17:21:48.063326\n"
          ],
          "name": "stdout"
        }
      ]
    },
    {
      "cell_type": "code",
      "metadata": {
        "id": "gKHcrSWKzGup",
        "colab_type": "code",
        "colab": {
          "base_uri": "https://localhost:8080/",
          "height": 34
        },
        "outputId": "8f0a4c2d-2c37-4180-c75a-9c4a16c28bc8"
      },
      "source": [
        "start = !python print_time.py\n",
        "end = !python print_time.py\n",
        "end.fields()"
      ],
      "execution_count": 28,
      "outputs": [
        {
          "output_type": "execute_result",
          "data": {
            "text/plain": [
              "[['17:23:53.964458']]"
            ]
          },
          "metadata": {
            "tags": []
          },
          "execution_count": 28
        }
      ]
    },
    {
      "cell_type": "code",
      "metadata": {
        "id": "AMuW8DRvzUgk",
        "colab_type": "code",
        "colab": {
          "base_uri": "https://localhost:8080/",
          "height": 52
        },
        "outputId": "da9e10ac-7761-4e36-9864-9360f7a1d99e"
      },
      "source": [
        "%who"
      ],
      "execution_count": 30,
      "outputs": [
        {
          "output_type": "stream",
          "text": [
            "big_hog\t df\t end\t gen_o_nums\t list_o_nums\t ls\t start\t sys\t tiny_kitten\t \n",
            "var_ls\t \n"
          ],
          "name": "stdout"
        }
      ]
    },
    {
      "cell_type": "code",
      "metadata": {
        "id": "QaWvSLzwz_gD",
        "colab_type": "code",
        "colab": {}
      },
      "source": [
        ""
      ],
      "execution_count": null,
      "outputs": []
    }
  ]
}