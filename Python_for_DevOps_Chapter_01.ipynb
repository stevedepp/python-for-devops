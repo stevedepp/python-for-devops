{
  "nbformat": 4,
  "nbformat_minor": 0,
  "metadata": {
    "colab": {
      "name": "Python for DevOps Chapter 01.ipynb",
      "provenance": [],
      "collapsed_sections": [],
      "authorship_tag": "ABX9TyMiU30RPHtXbenlXn89aPKp",
      "include_colab_link": true
    },
    "kernelspec": {
      "name": "python3",
      "display_name": "Python 3"
    }
  },
  "cells": [
    {
      "cell_type": "markdown",
      "metadata": {
        "id": "view-in-github",
        "colab_type": "text"
      },
      "source": [
        "<a href=\"https://colab.research.google.com/github/herculeslyndel/python-for-devops/blob/master/Python_for_DevOps_Chapter_01.ipynb\" target=\"_parent\"><img src=\"https://colab.research.google.com/assets/colab-badge.svg\" alt=\"Open In Colab\"/></a>"
      ]
    },
    {
      "cell_type": "code",
      "metadata": {
        "id": "HX0KIxlAMkAd",
        "colab_type": "code",
        "colab": {
          "base_uri": "https://localhost:8080/",
          "height": 34
        },
        "outputId": "2d3f3d77-dc0e-4af6-eac7-eb6bbb3c9c7b"
      },
      "source": [
        "!python --version"
      ],
      "execution_count": 1,
      "outputs": [
        {
          "output_type": "stream",
          "text": [
            "Python 3.6.9\n"
          ],
          "name": "stdout"
        }
      ]
    },
    {
      "cell_type": "markdown",
      "metadata": {
        "id": "y964j5KbOqSo",
        "colab_type": "text"
      },
      "source": [
        "```\n",
        "package managers:\n",
        "apt\n",
        "rpm\n",
        "macports\n",
        "homebrew\n",
        "chocolatey\n",
        "```"
      ]
    },
    {
      "cell_type": "markdown",
      "metadata": {
        "id": "NQtfQ3esRWm-",
        "colab_type": "text"
      },
      "source": [
        "```\n",
        "running python:\n",
        "shell\n",
        "ipython\n",
        "jupyter\n",
        "```"
      ]
    },
    {
      "cell_type": "markdown",
      "metadata": {
        "id": "t2gGXneZUMKN",
        "colab_type": "text"
      },
      "source": [
        "```\n",
        "arguments\n",
        "```"
      ]
    },
    {
      "cell_type": "markdown",
      "metadata": {
        "id": "zFdoW_bTUVx8",
        "colab_type": "text"
      },
      "source": [
        "```\n",
        "execution control\n",
        "\n",
        "python uses indentation to demark code blocks or group statements\n",
        "\n",
        "if\n",
        "\n",
        "for\n",
        "    repeat block of statements once for each member of a sequence = ordered group of items\n",
        "\n",
        "    continue statement skips a step in the for loop, jumping to the next item int eh sequence\n",
        "\n",
        "while \n",
        "    repeat a block as long as condition is true\n",
        "    must define way for loop to end\n",
        "    best to have conditional statement that eventually evaluateds to False\n",
        "```"
      ]
    },
    {
      "cell_type": "code",
      "metadata": {
        "id": "NJj9Nx7uPAVQ",
        "colab_type": "code",
        "colab": {
          "base_uri": "https://localhost:8080/",
          "height": 105
        },
        "outputId": "395240eb-ce52-470a-ec70-39973cecb614"
      },
      "source": [
        "for i in range(6):\n",
        "    if i == 3:\n",
        "        continue\n",
        "    print(i)"
      ],
      "execution_count": 3,
      "outputs": [
        {
          "output_type": "stream",
          "text": [
            "0\n",
            "1\n",
            "2\n",
            "4\n",
            "5\n"
          ],
          "name": "stdout"
        }
      ]
    },
    {
      "cell_type": "code",
      "metadata": {
        "id": "SoOIdRVDV7Bp",
        "colab_type": "code",
        "colab": {
          "base_uri": "https://localhost:8080/",
          "height": 87
        },
        "outputId": "f27f6f4a-835c-4c96-b8ad-114219eb4e27"
      },
      "source": [
        "count = 0\n",
        "while count < 4:\n",
        "    print(f'the count is {count}')\n",
        "    count += 1"
      ],
      "execution_count": 4,
      "outputs": [
        {
          "output_type": "stream",
          "text": [
            "the count is 0\n",
            "the count is 1\n",
            "the count is 2\n",
            "the count is 3\n"
          ],
          "name": "stdout"
        }
      ]
    },
    {
      "cell_type": "markdown",
      "metadata": {
        "id": "DfXKNso5WP4H",
        "colab_type": "text"
      },
      "source": [
        "```\n",
        "or exit the while this way\n",
        "exiting the loop with break\n",
        "```"
      ]
    },
    {
      "cell_type": "code",
      "metadata": {
        "id": "Z_OF_SENWGVI",
        "colab_type": "code",
        "colab": {
          "base_uri": "https://localhost:8080/",
          "height": 141
        },
        "outputId": "7b94bd6b-d9fa-4035-fdff-5581d32d8636"
      },
      "source": [
        "count = 0 \n",
        "while True:\n",
        "    print(f'the count is {count}')\n",
        "    if count > 5:\n",
        "        break\n",
        "    count += 1    "
      ],
      "execution_count": 5,
      "outputs": [
        {
          "output_type": "stream",
          "text": [
            "the count is 0\n",
            "the count is 1\n",
            "the count is 2\n",
            "the count is 3\n",
            "the count is 4\n",
            "the count is 5\n",
            "the count is 6\n"
          ],
          "name": "stdout"
        }
      ]
    },
    {
      "cell_type": "markdown",
      "metadata": {
        "id": "76iHxgCQW21U",
        "colab_type": "text"
      },
      "source": [
        "```can use that for for loops too```"
      ]
    },
    {
      "cell_type": "code",
      "metadata": {
        "id": "X0PBEL1DWWGl",
        "colab_type": "code",
        "colab": {
          "base_uri": "https://localhost:8080/",
          "height": 105
        },
        "outputId": "834f4c27-b988-48c5-fcd4-5935c82b0d34"
      },
      "source": [
        "for i in range(60):\n",
        "    if i == 3:\n",
        "        continue\n",
        "    if i >= 6:\n",
        "        break\n",
        "    print(i)"
      ],
      "execution_count": 7,
      "outputs": [
        {
          "output_type": "stream",
          "text": [
            "0\n",
            "1\n",
            "2\n",
            "4\n",
            "5\n"
          ],
          "name": "stdout"
        }
      ]
    },
    {
      "cell_type": "markdown",
      "metadata": {
        "id": "4yVHaw3HXdnC",
        "colab_type": "text"
      },
      "source": [
        "```\n",
        "handling exceptions\n",
        "try statement \n",
        "    indenting block in which exception might be raised\n",
        "except\n",
        "    indenting block of code to run when error occurs\n",
        "    [here he gives IndexError a variable name and prints that variable]\n",
        "    [then breaks to exit the while]\n",
        "\n",
        "python and 3rd party libraries have their own exceptions. ideally specify explicitly which exception youre trying to catch.\n",
        "```\n"
      ]
    },
    {
      "cell_type": "code",
      "metadata": {
        "id": "DymInaHDWqWw",
        "colab_type": "code",
        "colab": {
          "base_uri": "https://localhost:8080/",
          "height": 105
        },
        "outputId": "da27c2e4-6084-4bea-d8fc-16e43c07ea1f"
      },
      "source": [
        "thinkers = ['plato', 'playdo', 'gumpy']\n",
        "while True:\n",
        "    try:\n",
        "        thinker = thinkers.pop()\n",
        "        print(thinker)\n",
        "    except IndexError as e:\n",
        "        print('we tried to pop too many thinkers')\n",
        "        print(f'error is \"{e}\"')\n",
        "        break"
      ],
      "execution_count": 11,
      "outputs": [
        {
          "output_type": "stream",
          "text": [
            "gumpy\n",
            "playdo\n",
            "plato\n",
            "we tried to pop too many thinkers\n",
            "error is \"pop from empty list\"\n"
          ],
          "name": "stdout"
        }
      ]
    },
    {
      "cell_type": "markdown",
      "metadata": {
        "id": "99EEPpE3kElK",
        "colab_type": "text"
      },
      "source": [
        "```\n",
        "built in objects\n",
        "```"
      ]
    },
    {
      "cell_type": "markdown",
      "metadata": {
        "id": "hzKaZVGVZYm6",
        "colab_type": "text"
      },
      "source": [
        "```\n",
        "what is an object\n",
        "\n",
        "oop has data or state and functionality together.\n",
        "\n",
        "essential to understand: \n",
        "    class instantiation = creating objects from classes\n",
        "    dot syntax = syntax accessing object attributes and methods\n",
        "    class = defines attributes and methods shared by objects\n",
        "\n",
        "```"
      ]
    },
    {
      "cell_type": "markdown",
      "metadata": {
        "id": "8Xx7WiHya4Ep",
        "colab_type": "text"
      },
      "source": [
        "```\n",
        "so here FancyCar is a data type?\n",
        "```"
      ]
    },
    {
      "cell_type": "code",
      "metadata": {
        "id": "jt5qI7x9YP3j",
        "colab_type": "code",
        "colab": {
          "base_uri": "https://localhost:8080/",
          "height": 34
        },
        "outputId": "f1db0a5e-4a39-4663-fa69-4780d34e4a42"
      },
      "source": [
        "class FancyCar():\n",
        "    pass\n",
        "\n",
        "type(FancyCar)"
      ],
      "execution_count": 12,
      "outputs": [
        {
          "output_type": "execute_result",
          "data": {
            "text/plain": [
              "type"
            ]
          },
          "metadata": {
            "tags": []
          },
          "execution_count": 12
        }
      ]
    },
    {
      "cell_type": "markdown",
      "metadata": {
        "id": "yFqD2RKSbPVw",
        "colab_type": "text"
      },
      "source": [
        "```\n",
        "instantiate a fancy car object\n",
        "```"
      ]
    },
    {
      "cell_type": "code",
      "metadata": {
        "id": "DfDOTrpJayFS",
        "colab_type": "code",
        "colab": {
          "base_uri": "https://localhost:8080/",
          "height": 34
        },
        "outputId": "055995ce-b242-4315-ef8e-38a457a73ba4"
      },
      "source": [
        "my_car = FancyCar()\n",
        "type(my_car)"
      ],
      "execution_count": 14,
      "outputs": [
        {
          "output_type": "execute_result",
          "data": {
            "text/plain": [
              "__main__.FancyCar"
            ]
          },
          "metadata": {
            "tags": []
          },
          "execution_count": 14
        }
      ]
    },
    {
      "cell_type": "markdown",
      "metadata": {
        "id": "ypkEMDb0boVi",
        "colab_type": "text"
      },
      "source": [
        "```\n",
        "just remember that a object is an instantiation of a class\n",
        "```"
      ]
    },
    {
      "cell_type": "markdown",
      "metadata": {
        "id": "8qtGDnUCbqWX",
        "colab_type": "text"
      },
      "source": [
        "```\n",
        "object methods and attributes\n",
        "\n",
        "    objects store data in attributes\n",
        "        attributes are variables attached to the object or object class\n",
        "\n",
        "    objects define functionality in 2 forms\n",
        "    \n",
        "        object methods\n",
        "            methods defined for all objects in a class\n",
        "        class methods\n",
        "            methods attached to a class and shared by objects in a class \n",
        "            [notice it doesnt say \"defined by\"]\n",
        "        [both of] \"which are functions attached to the object\"\n",
        "        these functions have access to object's attributes and can modify and use object's data\n",
        "\n",
        "\n",
        "in python, functions ATTACHED to objects and classes are referred to as methods\n",
        "\n",
        "here e.g. FancyCar class defines \n",
        "    driveFast method\n",
        "    wheels attribute\n",
        "```"
      ]
    },
    {
      "cell_type": "code",
      "metadata": {
        "id": "nyTWZNpMbmFa",
        "colab_type": "code",
        "colab": {}
      },
      "source": [
        "class FancyCar():\n",
        "    wheels = 4\n",
        "    def driveFast(self):\n",
        "        print('Driving so fast')"
      ],
      "execution_count": 16,
      "outputs": []
    },
    {
      "cell_type": "markdown",
      "metadata": {
        "id": "hLIHpgZ4dhIO",
        "colab_type": "text"
      },
      "source": [
        "```\n",
        "now instantiate a fancy car\n",
        "when instantiate and instance of FancyCar \n",
        "where the instance is named my_car\n",
        "you can \n",
        "    access the attribute with dot syntax\n",
        "    and \n",
        "    invoke the method with dot syntax\n",
        "```"
      ]
    },
    {
      "cell_type": "code",
      "metadata": {
        "id": "oQlFuCbfdef4",
        "colab_type": "code",
        "colab": {
          "base_uri": "https://localhost:8080/",
          "height": 34
        },
        "outputId": "3d78cff8-8d2e-4d53-e69d-185d8c51f27b"
      },
      "source": [
        "my_car = FancyCar()\n",
        "my_car.wheels"
      ],
      "execution_count": 17,
      "outputs": [
        {
          "output_type": "execute_result",
          "data": {
            "text/plain": [
              "4"
            ]
          },
          "metadata": {
            "tags": []
          },
          "execution_count": 17
        }
      ]
    },
    {
      "cell_type": "markdown",
      "metadata": {
        "id": "fQVO9tTedq7p",
        "colab_type": "text"
      },
      "source": [
        "```\n",
        "invoke the method\n",
        "```"
      ]
    },
    {
      "cell_type": "code",
      "metadata": {
        "id": "wanU7g4ado51",
        "colab_type": "code",
        "colab": {
          "base_uri": "https://localhost:8080/",
          "height": 34
        },
        "outputId": "aba1d76d-1ea1-4a1a-ab32-1da87906215b"
      },
      "source": [
        "my_car.driveFast()"
      ],
      "execution_count": 18,
      "outputs": [
        {
          "output_type": "stream",
          "text": [
            "Driving so fast\n"
          ],
          "name": "stdout"
        }
      ]
    },
    {
      "cell_type": "markdown",
      "metadata": {
        "id": "XZHw2QU7nMyy",
        "colab_type": "text"
      },
      "source": [
        "```\n",
        "sequences\n",
        "    = ordered / finite collections\n",
        "    list\n",
        "    tuple\n",
        "    range\n",
        "    string\n",
        "    binary\n",
        "```"
      ]
    },
    {
      "cell_type": "markdown",
      "metadata": {
        "id": "fXcpbwrWnY1_",
        "colab_type": "text"
      },
      "source": [
        "```\n",
        "sequence operations\n",
        "    in\n",
        "    not in\n",
        "    indexing\n",
        "    finding an index\n",
        "```"
      ]
    },
    {
      "cell_type": "code",
      "metadata": {
        "id": "R7-2rmM7dvrE",
        "colab_type": "code",
        "colab": {
          "base_uri": "https://localhost:8080/",
          "height": 34
        },
        "outputId": "2a497a85-4ffd-4946-9c3b-555fdcaa0caf"
      },
      "source": [
        "'a' in 'cat', 1 in [1, 2, 3]"
      ],
      "execution_count": 23,
      "outputs": [
        {
          "output_type": "execute_result",
          "data": {
            "text/plain": [
              "(True, True)"
            ]
          },
          "metadata": {
            "tags": []
          },
          "execution_count": 23
        }
      ]
    },
    {
      "cell_type": "code",
      "metadata": {
        "id": "rujHGREJny8F",
        "colab_type": "code",
        "colab": {
          "base_uri": "https://localhost:8080/",
          "height": 34
        },
        "outputId": "771b89b6-0549-4ca9-d17c-e32672730167"
      },
      "source": [
        "True in ['a' in 'cat', 1 in [1, 2, 3]]"
      ],
      "execution_count": 24,
      "outputs": [
        {
          "output_type": "execute_result",
          "data": {
            "text/plain": [
              "True"
            ]
          },
          "metadata": {
            "tags": []
          },
          "execution_count": 24
        }
      ]
    },
    {
      "cell_type": "code",
      "metadata": {
        "id": "lYTN3n5Kn-x4",
        "colab_type": "code",
        "colab": {
          "base_uri": "https://localhost:8080/",
          "height": 34
        },
        "outputId": "8bc09223-c4ce-4a07-ed7f-8fb68de9c86f"
      },
      "source": [
        "a_sequence = 'steve depp'\n",
        "a_sequence[-1], a_sequence.index('e'), a_sequence.index('e', 7, 10), "
      ],
      "execution_count": 31,
      "outputs": [
        {
          "output_type": "execute_result",
          "data": {
            "text/plain": [
              "('p', 2, 7)"
            ]
          },
          "metadata": {
            "tags": []
          },
          "execution_count": 31
        }
      ]
    },
    {
      "cell_type": "code",
      "metadata": {
        "id": "DwHwupdzoVpA",
        "colab_type": "code",
        "colab": {
          "base_uri": "https://localhost:8080/",
          "height": 35
        },
        "outputId": "976a8efa-00c2-4f3d-c0de-c927fd186d2f"
      },
      "source": [
        "start = 2\n",
        "stop = 8\n",
        "step = 2\n",
        "a_sequence[start:stop:step]"
      ],
      "execution_count": 36,
      "outputs": [
        {
          "output_type": "execute_result",
          "data": {
            "application/vnd.google.colaboratory.intrinsic": {
              "type": "string"
            },
            "text/plain": [
              "'eed'"
            ]
          },
          "metadata": {
            "tags": []
          },
          "execution_count": 36
        }
      ]
    },
    {
      "cell_type": "code",
      "metadata": {
        "id": "W3KjxElQpQFE",
        "colab_type": "code",
        "colab": {}
      },
      "source": [
        ""
      ],
      "execution_count": null,
      "outputs": []
    }
  ]
}