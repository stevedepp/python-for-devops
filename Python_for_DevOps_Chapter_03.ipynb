{
  "nbformat": 4,
  "nbformat_minor": 0,
  "metadata": {
    "colab": {
      "name": "Python for DevOps Chapter 03.ipynb",
      "provenance": [],
      "collapsed_sections": [],
      "authorship_tag": "ABX9TyPR85KLwtUSDi6gGekAEV3i",
      "include_colab_link": true
    },
    "kernelspec": {
      "name": "python3",
      "display_name": "Python 3"
    }
  },
  "cells": [
    {
      "cell_type": "markdown",
      "metadata": {
        "id": "view-in-github",
        "colab_type": "text"
      },
      "source": [
        "<a href=\"https://colab.research.google.com/github/herculeslyndel/python-for-devops/blob/master/Python_for_DevOps_Chapter_03.ipynb\" target=\"_parent\"><img src=\"https://colab.research.google.com/assets/colab-badge.svg\" alt=\"Open In Colab\"/></a>"
      ]
    },
    {
      "cell_type": "markdown",
      "metadata": {
        "id": "-Dc-DKDyu_wd",
        "colab_type": "text"
      },
      "source": [
        "```\n",
        "Chapter 3: Working with the command line\n",
        "\n",
        "GUI tools are good but command line is for DevOps\n",
        "```"
      ]
    },
    {
      "cell_type": "markdown",
      "metadata": {
        "id": "UVj71Us_vRC2",
        "colab_type": "text"
      },
      "source": [
        "```\n",
        "working with shell\n",
        "\n",
        "    sys\n",
        "    os\n",
        "    subprocess\n",
        "```"
      ]
    },
    {
      "cell_type": "markdown",
      "metadata": {
        "id": "W7KascIyvuix",
        "colab_type": "text"
      },
      "source": [
        "```\n",
        "talking to interpreter with sys module\n",
        "\n",
        "variables and methods \n",
        "associated with python interpreter\n",
        "\n",
        "defines big endium little endium\n",
        "\n",
        "\n",
        "sys.byteorder attribute shows byte order of current architecture\n",
        "\n",
        "sys.getsizeof\n",
        "sys.platform \n",
        "    which OS\n",
        "sys.version_info\n",
        "```"
      ]
    },
    {
      "cell_type": "code",
      "metadata": {
        "id": "5KWX_0t9vd5U",
        "colab_type": "code",
        "colab": {
          "base_uri": "https://localhost:8080/",
          "height": 35
        },
        "outputId": "ef12c783-2990-49e8-d7c0-a355b638e813"
      },
      "source": [
        "import sys\n",
        "sys.byteorder"
      ],
      "execution_count": 1,
      "outputs": [
        {
          "output_type": "execute_result",
          "data": {
            "application/vnd.google.colaboratory.intrinsic": {
              "type": "string"
            },
            "text/plain": [
              "'little'"
            ]
          },
          "metadata": {
            "tags": []
          },
          "execution_count": 1
        }
      ]
    },
    {
      "cell_type": "code",
      "metadata": {
        "id": "6pB63Ba0KuCy",
        "colab_type": "code",
        "colab": {
          "base_uri": "https://localhost:8080/",
          "height": 34
        },
        "outputId": "0a06dc24-921d-4ffe-bbbb-f8d25f78240b"
      },
      "source": [
        "sys.getsizeof(list(range(10))), sys.getsizeof(list(range(1000)))"
      ],
      "execution_count": 2,
      "outputs": [
        {
          "output_type": "execute_result",
          "data": {
            "text/plain": [
              "(200, 9112)"
            ]
          },
          "metadata": {
            "tags": []
          },
          "execution_count": 2
        }
      ]
    },
    {
      "cell_type": "code",
      "metadata": {
        "id": "x26NaQVLLIKJ",
        "colab_type": "code",
        "colab": {
          "base_uri": "https://localhost:8080/",
          "height": 34
        },
        "outputId": "4ebaccea-fcab-4a40-d792-641aafa348c6"
      },
      "source": [
        "sys.getsizeof(range(10)), sys.getsizeof(range(1000))"
      ],
      "execution_count": 3,
      "outputs": [
        {
          "output_type": "execute_result",
          "data": {
            "text/plain": [
              "(48, 48)"
            ]
          },
          "metadata": {
            "tags": []
          },
          "execution_count": 3
        }
      ]
    },
    {
      "cell_type": "code",
      "metadata": {
        "id": "6XjsLABzLOvh",
        "colab_type": "code",
        "colab": {
          "base_uri": "https://localhost:8080/",
          "height": 35
        },
        "outputId": "547048e5-148f-4a94-e717-dfe35359bada"
      },
      "source": [
        "sys.platform"
      ],
      "execution_count": 4,
      "outputs": [
        {
          "output_type": "execute_result",
          "data": {
            "application/vnd.google.colaboratory.intrinsic": {
              "type": "string"
            },
            "text/plain": [
              "'linux'"
            ]
          },
          "metadata": {
            "tags": []
          },
          "execution_count": 4
        }
      ]
    },
    {
      "cell_type": "code",
      "metadata": {
        "id": "aXtj1c62Lsd9",
        "colab_type": "code",
        "colab": {
          "base_uri": "https://localhost:8080/",
          "height": 34
        },
        "outputId": "31074c69-dfd4-40bb-9df9-b706136ec52f"
      },
      "source": [
        "sys.version_info"
      ],
      "execution_count": 5,
      "outputs": [
        {
          "output_type": "execute_result",
          "data": {
            "text/plain": [
              "sys.version_info(major=3, minor=6, micro=9, releaselevel='final', serial=0)"
            ]
          },
          "metadata": {
            "tags": []
          },
          "execution_count": 5
        }
      ]
    },
    {
      "cell_type": "code",
      "metadata": {
        "id": "AshnO5vvLSwi",
        "colab_type": "code",
        "colab": {
          "base_uri": "https://localhost:8080/",
          "height": 34
        },
        "outputId": "6ef551a6-cc0a-4f8b-84b0-a0ede9b4ea30"
      },
      "source": [
        "if sys.version_info.major < 3:\n",
        "    print('u r running python 2...')\n",
        "elif sys.version_info.minor < 7:\n",
        "    print('u r running python 3 but not 3.7++')\n"
      ],
      "execution_count": 6,
      "outputs": [
        {
          "output_type": "stream",
          "text": [
            "u r running python 3 but not 3.7++\n"
          ],
          "name": "stdout"
        }
      ]
    },
    {
      "cell_type": "markdown",
      "metadata": {
        "id": "uXfC8cg8v267",
        "colab_type": "text"
      },
      "source": [
        "```\n",
        "dealing with the OS using he os module\n",
        "\n",
        "    most common usage is get settings from env vars for logging levels or api keys\n",
        "```"
      ]
    },
    {
      "cell_type": "code",
      "metadata": {
        "id": "XOOmE2Iav7RI",
        "colab_type": "code",
        "colab": {
          "base_uri": "https://localhost:8080/",
          "height": 35
        },
        "outputId": "a07568f0-2658-47fb-e00c-1da47046c57a"
      },
      "source": [
        "import os\n",
        "os.getcwd()"
      ],
      "execution_count": 7,
      "outputs": [
        {
          "output_type": "execute_result",
          "data": {
            "application/vnd.google.colaboratory.intrinsic": {
              "type": "string"
            },
            "text/plain": [
              "'/content'"
            ]
          },
          "metadata": {
            "tags": []
          },
          "execution_count": 7
        }
      ]
    },
    {
      "cell_type": "code",
      "metadata": {
        "id": "WfEQMSFOMFiY",
        "colab_type": "code",
        "colab": {
          "base_uri": "https://localhost:8080/",
          "height": 35
        },
        "outputId": "78686ff7-abb8-475e-9195-e652eb7a14ad"
      },
      "source": [
        "os.chdir('/tmp')\n",
        "os.getcwd()"
      ],
      "execution_count": 8,
      "outputs": [
        {
          "output_type": "execute_result",
          "data": {
            "application/vnd.google.colaboratory.intrinsic": {
              "type": "string"
            },
            "text/plain": [
              "'/tmp'"
            ]
          },
          "metadata": {
            "tags": []
          },
          "execution_count": 8
        }
      ]
    },
    {
      "cell_type": "code",
      "metadata": {
        "id": "rXvu3888MK1R",
        "colab_type": "code",
        "colab": {}
      },
      "source": [
        "os.environ.get('LOGLEVEL')"
      ],
      "execution_count": 9,
      "outputs": []
    },
    {
      "cell_type": "code",
      "metadata": {
        "id": "E8KVpS0TMfvJ",
        "colab_type": "code",
        "colab": {}
      },
      "source": [
        "os.environ['LOGLEVEL'] = 'DEBUG'"
      ],
      "execution_count": 10,
      "outputs": []
    },
    {
      "cell_type": "code",
      "metadata": {
        "id": "1WlbvaHlMlKX",
        "colab_type": "code",
        "colab": {
          "base_uri": "https://localhost:8080/",
          "height": 35
        },
        "outputId": "5ca50517-7b98-4380-edcc-4b4142ef6569"
      },
      "source": [
        "os.environ.get('LOGLEVEL')"
      ],
      "execution_count": 11,
      "outputs": [
        {
          "output_type": "execute_result",
          "data": {
            "application/vnd.google.colaboratory.intrinsic": {
              "type": "string"
            },
            "text/plain": [
              "'DEBUG'"
            ]
          },
          "metadata": {
            "tags": []
          },
          "execution_count": 11
        }
      ]
    },
    {
      "cell_type": "markdown",
      "metadata": {
        "id": "CoIZRESSNErC",
        "colab_type": "text"
      },
      "source": [
        "\n",
        "```\n",
        "Last login: Sat Jun 27 19:29:21 on ttys001\n",
        "(base) stevedepp@Steves-MBP-2 ~ % python3\n",
        "Python 3.7.6 (default, Jan  8 2020, 13:42:34) \n",
        "[Clang 4.0.1 (tags/RELEASE_401/final)] :: Anaconda, Inc. on darwin\n",
        "Type \"help\", \"copyright\", \"credits\" or \"license\" for more information.\n",
        ">>> import os\n",
        ">>> os.getlogin()\n",
        "'stevedepp'\n",
        ">>> \n",
        "```"
      ]
    },
    {
      "cell_type": "code",
      "metadata": {
        "id": "FvaoIprbMrfz",
        "colab_type": "code",
        "colab": {
          "base_uri": "https://localhost:8080/",
          "height": 164
        },
        "outputId": "f2253621-5f34-4499-a5f3-78ca2f43cab5"
      },
      "source": [
        "os.getlogin()"
      ],
      "execution_count": 12,
      "outputs": [
        {
          "output_type": "error",
          "ename": "OSError",
          "evalue": "ignored",
          "traceback": [
            "\u001b[0;31m---------------------------------------------------------------------------\u001b[0m",
            "\u001b[0;31mOSError\u001b[0m                                   Traceback (most recent call last)",
            "\u001b[0;32m<ipython-input-12-0f8aa747d9ad>\u001b[0m in \u001b[0;36m<module>\u001b[0;34m()\u001b[0m\n\u001b[0;32m----> 1\u001b[0;31m \u001b[0mos\u001b[0m\u001b[0;34m.\u001b[0m\u001b[0mgetlogin\u001b[0m\u001b[0;34m(\u001b[0m\u001b[0;34m)\u001b[0m\u001b[0;34m\u001b[0m\u001b[0;34m\u001b[0m\u001b[0m\n\u001b[0m",
            "\u001b[0;31mOSError\u001b[0m: [Errno 25] Inappropriate ioctl for device"
          ]
        }
      ]
    },
    {
      "cell_type": "markdown",
      "metadata": {
        "id": "suBOSmBLv9ST",
        "colab_type": "text"
      },
      "source": [
        "```\n",
        "spawn process with subprocdess module\n",
        "\n",
        "run application outside python from within python code\n",
        "    built in shell commands\n",
        "    bash scripts\n",
        "    'spawn' a process and run commands within it\n",
        "\n",
        "with subprocess, \n",
        "    you run favorite shell command or other command-line software\n",
        "    you collect its output from within python\n",
        "\n",
        "    most times use 'subprocess.run' to spawn a process\n",
        "```"
      ]
    },
    {
      "cell_type": "code",
      "metadata": {
        "id": "Uc_loyLDPhgq",
        "colab_type": "code",
        "colab": {}
      },
      "source": [
        "import subprocess"
      ],
      "execution_count": 13,
      "outputs": []
    },
    {
      "cell_type": "markdown",
      "metadata": {
        "id": "yqmdRQFRT8DX",
        "colab_type": "text"
      },
      "source": [
        "https://stackoverflow.com/questions/53209127/subprocess-unexpected-keyword-argument-capture-output/53209196\n"
      ]
    },
    {
      "cell_type": "code",
      "metadata": {
        "id": "t-U65krjUE9o",
        "colab_type": "code",
        "colab": {
          "base_uri": "https://localhost:8080/",
          "height": 35
        },
        "outputId": "49c7fc2c-5e53-4512-a16e-5492833beab9"
      },
      "source": [
        "from subprocess import PIPE\n",
        "\n",
        "cp = subprocess.run([\"ls\", \"-l\", \"/dev/null\"], stdout=subprocess.PIPE, stderr=subprocess.PIPE, universal_newlines=True)\n",
        "cp.stdout"
      ],
      "execution_count": 14,
      "outputs": [
        {
          "output_type": "execute_result",
          "data": {
            "application/vnd.google.colaboratory.intrinsic": {
              "type": "string"
            },
            "text/plain": [
              "'crw-rw-rw- 1 root root 1, 3 Jun 29 13:41 /dev/null\\n'"
            ]
          },
          "metadata": {
            "tags": []
          },
          "execution_count": 14
        }
      ]
    },
    {
      "cell_type": "markdown",
      "metadata": {
        "id": "uX8PmspeVJvv",
        "colab_type": "text"
      },
      "source": [
        "```\n",
        "this doesnt work until python 3.7 is installed\n",
        "capture_output is same as setting capture stdout and capture stderr as above\n",
        "```"
      ]
    },
    {
      "cell_type": "code",
      "metadata": {
        "id": "y3GQMjHHwC5_",
        "colab_type": "code",
        "colab": {
          "base_uri": "https://localhost:8080/",
          "height": 334
        },
        "outputId": "06653960-fe6d-4c21-e546-6684a066ec7f"
      },
      "source": [
        "cp = subprocess.run(['ls', '-l'],\n",
        "                    capture_output=True,\n",
        "                    universal_newlines=True)\n",
        "cp.stdout"
      ],
      "execution_count": 15,
      "outputs": [
        {
          "output_type": "error",
          "ename": "TypeError",
          "evalue": "ignored",
          "traceback": [
            "\u001b[0;31m---------------------------------------------------------------------------\u001b[0m",
            "\u001b[0;31mTypeError\u001b[0m                                 Traceback (most recent call last)",
            "\u001b[0;32m<ipython-input-15-9056493d14ae>\u001b[0m in \u001b[0;36m<module>\u001b[0;34m()\u001b[0m\n\u001b[1;32m      1\u001b[0m cp = subprocess.run(['ls', '-l'],\n\u001b[1;32m      2\u001b[0m                     \u001b[0mcapture_output\u001b[0m\u001b[0;34m=\u001b[0m\u001b[0;32mTrue\u001b[0m\u001b[0;34m,\u001b[0m\u001b[0;34m\u001b[0m\u001b[0;34m\u001b[0m\u001b[0m\n\u001b[0;32m----> 3\u001b[0;31m                     universal_newlines=True)\n\u001b[0m\u001b[1;32m      4\u001b[0m \u001b[0mcp\u001b[0m\u001b[0;34m.\u001b[0m\u001b[0mstdout\u001b[0m\u001b[0;34m\u001b[0m\u001b[0;34m\u001b[0m\u001b[0m\n",
            "\u001b[0;32m/usr/lib/python3.6/subprocess.py\u001b[0m in \u001b[0;36mrun\u001b[0;34m(input, timeout, check, *popenargs, **kwargs)\u001b[0m\n\u001b[1;32m    421\u001b[0m         \u001b[0mkwargs\u001b[0m\u001b[0;34m[\u001b[0m\u001b[0;34m'stdin'\u001b[0m\u001b[0;34m]\u001b[0m \u001b[0;34m=\u001b[0m \u001b[0mPIPE\u001b[0m\u001b[0;34m\u001b[0m\u001b[0;34m\u001b[0m\u001b[0m\n\u001b[1;32m    422\u001b[0m \u001b[0;34m\u001b[0m\u001b[0m\n\u001b[0;32m--> 423\u001b[0;31m     \u001b[0;32mwith\u001b[0m \u001b[0mPopen\u001b[0m\u001b[0;34m(\u001b[0m\u001b[0;34m*\u001b[0m\u001b[0mpopenargs\u001b[0m\u001b[0;34m,\u001b[0m \u001b[0;34m**\u001b[0m\u001b[0mkwargs\u001b[0m\u001b[0;34m)\u001b[0m \u001b[0;32mas\u001b[0m \u001b[0mprocess\u001b[0m\u001b[0;34m:\u001b[0m\u001b[0;34m\u001b[0m\u001b[0;34m\u001b[0m\u001b[0m\n\u001b[0m\u001b[1;32m    424\u001b[0m         \u001b[0;32mtry\u001b[0m\u001b[0;34m:\u001b[0m\u001b[0;34m\u001b[0m\u001b[0;34m\u001b[0m\u001b[0m\n\u001b[1;32m    425\u001b[0m             \u001b[0mstdout\u001b[0m\u001b[0;34m,\u001b[0m \u001b[0mstderr\u001b[0m \u001b[0;34m=\u001b[0m \u001b[0mprocess\u001b[0m\u001b[0;34m.\u001b[0m\u001b[0mcommunicate\u001b[0m\u001b[0;34m(\u001b[0m\u001b[0minput\u001b[0m\u001b[0;34m,\u001b[0m \u001b[0mtimeout\u001b[0m\u001b[0;34m=\u001b[0m\u001b[0mtimeout\u001b[0m\u001b[0;34m)\u001b[0m\u001b[0;34m\u001b[0m\u001b[0;34m\u001b[0m\u001b[0m\n",
            "\u001b[0;31mTypeError\u001b[0m: __init__() got an unexpected keyword argument 'capture_output'"
          ]
        }
      ]
    },
    {
      "cell_type": "code",
      "metadata": {
        "id": "R2qUgdCYwCtb",
        "colab_type": "code",
        "colab": {
          "base_uri": "https://localhost:8080/",
          "height": 35
        },
        "outputId": "2b84b41f-5b12-4d4c-cc30-01820ee71f68"
      },
      "source": [
        "cp = subprocess.run([\"ls\", \"/doesnotexist\", \"/dev/null\"], stdout=subprocess.PIPE, stderr=subprocess.PIPE, universal_newlines=True)\n",
        "cp.stderr"
      ],
      "execution_count": 16,
      "outputs": [
        {
          "output_type": "execute_result",
          "data": {
            "application/vnd.google.colaboratory.intrinsic": {
              "type": "string"
            },
            "text/plain": [
              "\"ls: cannot access '/doesnotexist': No such file or directory\\n\""
            ]
          },
          "metadata": {
            "tags": []
          },
          "execution_count": 16
        }
      ]
    },
    {
      "cell_type": "markdown",
      "metadata": {
        "id": "0Cp7zu4-XvDt",
        "colab_type": "text"
      },
      "source": [
        "```\n",
        "better error handling with check parameter\n",
        "this is how its meant to look ```"
      ]
    },
    {
      "cell_type": "code",
      "metadata": {
        "id": "0i7um7TfX0rB",
        "colab_type": "code",
        "colab": {
          "base_uri": "https://localhost:8080/",
          "height": 320
        },
        "outputId": "d3321ba6-56aa-49a9-ec04-f6485a9aba61"
      },
      "source": [
        "cp = subprocess.run([\"ls\", \"/doesnotexist\", \"/dev/null\"], stdout=subprocess.PIPE, stderr=subprocess.PIPE, universal_newlines=True,  check=True)\n",
        "cp.stderr"
      ],
      "execution_count": 17,
      "outputs": [
        {
          "output_type": "error",
          "ename": "CalledProcessError",
          "evalue": "ignored",
          "traceback": [
            "\u001b[0;31m---------------------------------------------------------------------------\u001b[0m",
            "\u001b[0;31mCalledProcessError\u001b[0m                        Traceback (most recent call last)",
            "\u001b[0;32m<ipython-input-17-7dcd603b48ac>\u001b[0m in \u001b[0;36m<module>\u001b[0;34m()\u001b[0m\n\u001b[0;32m----> 1\u001b[0;31m \u001b[0mcp\u001b[0m \u001b[0;34m=\u001b[0m \u001b[0msubprocess\u001b[0m\u001b[0;34m.\u001b[0m\u001b[0mrun\u001b[0m\u001b[0;34m(\u001b[0m\u001b[0;34m[\u001b[0m\u001b[0;34m\"ls\"\u001b[0m\u001b[0;34m,\u001b[0m \u001b[0;34m\"/doesnotexist\"\u001b[0m\u001b[0;34m,\u001b[0m \u001b[0;34m\"/dev/null\"\u001b[0m\u001b[0;34m]\u001b[0m\u001b[0;34m,\u001b[0m \u001b[0mstdout\u001b[0m\u001b[0;34m=\u001b[0m\u001b[0msubprocess\u001b[0m\u001b[0;34m.\u001b[0m\u001b[0mPIPE\u001b[0m\u001b[0;34m,\u001b[0m \u001b[0mstderr\u001b[0m\u001b[0;34m=\u001b[0m\u001b[0msubprocess\u001b[0m\u001b[0;34m.\u001b[0m\u001b[0mPIPE\u001b[0m\u001b[0;34m,\u001b[0m \u001b[0muniversal_newlines\u001b[0m\u001b[0;34m=\u001b[0m\u001b[0;32mTrue\u001b[0m\u001b[0;34m,\u001b[0m  \u001b[0mcheck\u001b[0m\u001b[0;34m=\u001b[0m\u001b[0;32mTrue\u001b[0m\u001b[0;34m)\u001b[0m\u001b[0;34m\u001b[0m\u001b[0;34m\u001b[0m\u001b[0m\n\u001b[0m\u001b[1;32m      2\u001b[0m \u001b[0mcp\u001b[0m\u001b[0;34m.\u001b[0m\u001b[0mstderr\u001b[0m\u001b[0;34m\u001b[0m\u001b[0;34m\u001b[0m\u001b[0m\n",
            "\u001b[0;32m/usr/lib/python3.6/subprocess.py\u001b[0m in \u001b[0;36mrun\u001b[0;34m(input, timeout, check, *popenargs, **kwargs)\u001b[0m\n\u001b[1;32m    436\u001b[0m         \u001b[0;32mif\u001b[0m \u001b[0mcheck\u001b[0m \u001b[0;32mand\u001b[0m \u001b[0mretcode\u001b[0m\u001b[0;34m:\u001b[0m\u001b[0;34m\u001b[0m\u001b[0;34m\u001b[0m\u001b[0m\n\u001b[1;32m    437\u001b[0m             raise CalledProcessError(retcode, process.args,\n\u001b[0;32m--> 438\u001b[0;31m                                      output=stdout, stderr=stderr)\n\u001b[0m\u001b[1;32m    439\u001b[0m     \u001b[0;32mreturn\u001b[0m \u001b[0mCompletedProcess\u001b[0m\u001b[0;34m(\u001b[0m\u001b[0mprocess\u001b[0m\u001b[0;34m.\u001b[0m\u001b[0margs\u001b[0m\u001b[0;34m,\u001b[0m \u001b[0mretcode\u001b[0m\u001b[0;34m,\u001b[0m \u001b[0mstdout\u001b[0m\u001b[0;34m,\u001b[0m \u001b[0mstderr\u001b[0m\u001b[0;34m)\u001b[0m\u001b[0;34m\u001b[0m\u001b[0;34m\u001b[0m\u001b[0m\n\u001b[1;32m    440\u001b[0m \u001b[0;34m\u001b[0m\u001b[0m\n",
            "\u001b[0;31mCalledProcessError\u001b[0m: Command '['ls', '/doesnotexist', '/dev/null']' returned non-zero exit status 2."
          ]
        }
      ]
    },
    {
      "cell_type": "markdown",
      "metadata": {
        "id": "AzbKICPDvZGY",
        "colab_type": "text"
      },
      "source": [
        "```\n",
        "creating command line tools\n",
        "\n",
        "    invoke Python script using Python\n",
        "    1st step in creating command line tools is \n",
        "    separating code that should only run when invoked on the command line\n",
        "```"
      ]
    },
    {
      "cell_type": "code",
      "metadata": {
        "id": "y3Ox27N8m9ZC",
        "colab_type": "code",
        "colab": {}
      },
      "source": [
        "os.chdir('/content')"
      ],
      "execution_count": 18,
      "outputs": []
    },
    {
      "cell_type": "markdown",
      "metadata": {
        "id": "refbfUzHs3BI",
        "colab_type": "text"
      },
      "source": [
        "```\n",
        "here it runs on import\n",
        "leaving out\n",
        "    #!/usr/bin/env_python\n",
        "```"
      ]
    },
    {
      "cell_type": "code",
      "metadata": {
        "id": "oLYirqrPyBZX",
        "colab_type": "code",
        "colab": {
          "base_uri": "https://localhost:8080/",
          "height": 35
        },
        "outputId": "be13e378-4494-4f67-d0e0-704059312228"
      },
      "source": [
        "import os\n",
        "os.getcwd()"
      ],
      "execution_count": 19,
      "outputs": [
        {
          "output_type": "execute_result",
          "data": {
            "application/vnd.google.colaboratory.intrinsic": {
              "type": "string"
            },
            "text/plain": [
              "'/content'"
            ]
          },
          "metadata": {
            "tags": []
          },
          "execution_count": 19
        }
      ]
    },
    {
      "cell_type": "code",
      "metadata": {
        "id": "y0JwIjr3rxbq",
        "colab_type": "code",
        "colab": {
          "base_uri": "https://localhost:8080/",
          "height": 34
        },
        "outputId": "64ce1697-28e7-4c81-e29e-25b566a65a33"
      },
      "source": [
        "%%writefile always_say_it.py\n",
        "def say_it():\n",
        "    greeting = 'Hello'\n",
        "    target = 'Joe'\n",
        "    message = f'{greeting} {target}'\n",
        "    print(message)\n",
        "\n",
        "say_it()"
      ],
      "execution_count": 20,
      "outputs": [
        {
          "output_type": "stream",
          "text": [
            "Writing always_say_it.py\n"
          ],
          "name": "stdout"
        }
      ]
    },
    {
      "cell_type": "code",
      "metadata": {
        "id": "MaFnvdAprxYf",
        "colab_type": "code",
        "colab": {
          "base_uri": "https://localhost:8080/",
          "height": 34
        },
        "outputId": "ab0bcbef-5c46-4aa8-8220-3efb0579b244"
      },
      "source": [
        "!python always_say_it.py"
      ],
      "execution_count": 21,
      "outputs": [
        {
          "output_type": "stream",
          "text": [
            "Hello Joe\n"
          ],
          "name": "stdout"
        }
      ]
    },
    {
      "cell_type": "code",
      "metadata": {
        "id": "Zq-L09GkrxVc",
        "colab_type": "code",
        "colab": {
          "base_uri": "https://localhost:8080/",
          "height": 34
        },
        "outputId": "05459de2-9aa8-4423-cca0-06c8a885182d"
      },
      "source": [
        "import always_say_it"
      ],
      "execution_count": 22,
      "outputs": [
        {
          "output_type": "stream",
          "text": [
            "Hello Joe\n"
          ],
          "name": "stdout"
        }
      ]
    },
    {
      "cell_type": "code",
      "metadata": {
        "id": "F3kkWsCPsa-p",
        "colab_type": "code",
        "colab": {
          "base_uri": "https://localhost:8080/",
          "height": 34
        },
        "outputId": "28c222e6-be15-44a9-ddbe-4c0bff0696f5"
      },
      "source": [
        "always_say_it.say_it()"
      ],
      "execution_count": 23,
      "outputs": [
        {
          "output_type": "stream",
          "text": [
            "Hello Joe\n"
          ],
          "name": "stdout"
        }
      ]
    },
    {
      "cell_type": "markdown",
      "metadata": {
        "id": "IvqyutojtAi2",
        "colab_type": "text"
      },
      "source": [
        "```\n",
        "here it wont run on import because of __name__ test\n",
        "leaving out\n",
        "    #!/usr/bin/env python\n",
        "```"
      ]
    },
    {
      "cell_type": "code",
      "metadata": {
        "id": "vBrxoCxEve4e",
        "colab_type": "code",
        "colab": {
          "base_uri": "https://localhost:8080/",
          "height": 34
        },
        "outputId": "6dcdcd76-807f-44a9-931a-6c47195b6535"
      },
      "source": [
        "%%writefile only_say_it_when_invoked.py\n",
        "def say_it_when_invoked():\n",
        "    greeting = 'Hello'\n",
        "    target = 'Joseph'\n",
        "    message = f'{greeting} {target}'\n",
        "    print(message)\n",
        "__name__\n",
        "if __name__ == '__main__':\n",
        "    say_it_when_invoked()\n",
        "else:\n",
        "    print('not invoked')\n",
        "    print(__name__, 'inside test')\n",
        "print(__name__,'outside test')"
      ],
      "execution_count": 24,
      "outputs": [
        {
          "output_type": "stream",
          "text": [
            "Writing only_say_it_when_invoked.py\n"
          ],
          "name": "stdout"
        }
      ]
    },
    {
      "cell_type": "markdown",
      "metadata": {
        "id": "lSu5wGcTwlHc",
        "colab_type": "text"
      },
      "source": [
        "```\n",
        "not sure why here __name__ prints \"__main__ outside test\" \n",
        "but in the test __name__ == \"__main__\" is False\n",
        "\n",
        "its because __name__ == __main__ tests if running from command line\n",
        "```"
      ]
    },
    {
      "cell_type": "code",
      "metadata": {
        "id": "Mr1z9q4ynYFq",
        "colab_type": "code",
        "colab": {
          "base_uri": "https://localhost:8080/",
          "height": 51
        },
        "outputId": "6004d400-16dc-48ad-b003-b894c444e82f"
      },
      "source": [
        "!python only_say_it_when_invoked.py"
      ],
      "execution_count": 25,
      "outputs": [
        {
          "output_type": "stream",
          "text": [
            "Hello Joseph\n",
            "__main__ outside test\n"
          ],
          "name": "stdout"
        }
      ]
    },
    {
      "cell_type": "code",
      "metadata": {
        "id": "4LJkrHSUnIH7",
        "colab_type": "code",
        "colab": {
          "base_uri": "https://localhost:8080/",
          "height": 68
        },
        "outputId": "2003c24a-a172-4569-c774-e052a21f6757"
      },
      "source": [
        "import only_say_it_when_invoked"
      ],
      "execution_count": 26,
      "outputs": [
        {
          "output_type": "stream",
          "text": [
            "not invoked\n",
            "only_say_it_when_invoked inside test\n",
            "only_say_it_when_invoked outside test\n"
          ],
          "name": "stdout"
        }
      ]
    },
    {
      "cell_type": "code",
      "metadata": {
        "id": "_8zMnu8xtlso",
        "colab_type": "code",
        "colab": {
          "base_uri": "https://localhost:8080/",
          "height": 34
        },
        "outputId": "6cbde74a-bd78-4d13-c9f5-8423e18e6740"
      },
      "source": [
        "only_say_it_when_invoked.say_it_when_invoked()"
      ],
      "execution_count": 27,
      "outputs": [
        {
          "output_type": "stream",
          "text": [
            "Hello Joseph\n"
          ],
          "name": "stdout"
        }
      ]
    },
    {
      "cell_type": "code",
      "metadata": {
        "id": "3WySSgTPxAq1",
        "colab_type": "code",
        "colab": {
          "base_uri": "https://localhost:8080/",
          "height": 34
        },
        "outputId": "5d548f6f-becd-480b-dead-b3cff9147fec"
      },
      "source": [
        "from only_say_it_when_invoked import say_it_when_invoked\n",
        "say_it_when_invoked()"
      ],
      "execution_count": 28,
      "outputs": [
        {
          "output_type": "stream",
          "text": [
            "Hello Joseph\n"
          ],
          "name": "stdout"
        }
      ]
    },
    {
      "cell_type": "markdown",
      "metadata": {
        "id": "hXY0ncDMwInP",
        "colab_type": "text"
      },
      "source": [
        "```\n",
        "making your shell script executable\n",
        "using this eliminate explicit call python when run script\n",
        "    #!/usr/bin/env python\n",
        "and you need to make it executable\n",
        "    chmod +x say_it.py\n",
        "```"
      ]
    },
    {
      "cell_type": "code",
      "metadata": {
        "id": "an-K-SNJwMm9",
        "colab_type": "code",
        "colab": {
          "base_uri": "https://localhost:8080/",
          "height": 34
        },
        "outputId": "bd838d2d-d1c0-4308-da2d-2c5dd157fc27"
      },
      "source": [
        "%%writefile say_it_wo_python.py\n",
        "#!/usr/bin/env python\n",
        "def say_it_wo_python_function():\n",
        "    greeting = 'Hello'\n",
        "    target = 'Joseph!'\n",
        "    message = f'{greeting} {target}'\n",
        "    print(message)\n",
        "__name__\n",
        "if __name__ == '__main__':\n",
        "    say_it_wo_python_function()\n",
        "else:\n",
        "    print('not invoked')\n",
        "    print(__name__, 'inside test')\n",
        "print(__name__,'outside test')"
      ],
      "execution_count": 29,
      "outputs": [
        {
          "output_type": "stream",
          "text": [
            "Writing say_it_wo_python.py\n"
          ],
          "name": "stdout"
        }
      ]
    },
    {
      "cell_type": "code",
      "metadata": {
        "id": "h4FUHkFHzbxx",
        "colab_type": "code",
        "colab": {}
      },
      "source": [
        "!chmod +x say_it_wo_python.py"
      ],
      "execution_count": 30,
      "outputs": []
    },
    {
      "cell_type": "code",
      "metadata": {
        "id": "VssbNOgk0O2n",
        "colab_type": "code",
        "colab": {
          "base_uri": "https://localhost:8080/",
          "height": 51
        },
        "outputId": "13d7f606-d22c-4079-d7d4-91b9f5a8fa7f"
      },
      "source": [
        "!ls ./"
      ],
      "execution_count": 31,
      "outputs": [
        {
          "output_type": "stream",
          "text": [
            "always_say_it.py\t     __pycache__  say_it_wo_python.py\n",
            "only_say_it_when_invoked.py  sample_data\n"
          ],
          "name": "stdout"
        }
      ]
    },
    {
      "cell_type": "code",
      "metadata": {
        "id": "PwdC22wuzqoV",
        "colab_type": "code",
        "colab": {
          "base_uri": "https://localhost:8080/",
          "height": 51
        },
        "outputId": "6b4905d2-5dd5-428d-e81b-b4c40c4f0c95"
      },
      "source": [
        "!./say_it_wo_python.py"
      ],
      "execution_count": 32,
      "outputs": [
        {
          "output_type": "stream",
          "text": [
            "Hello Joseph!\n",
            "__main__ outside test\n"
          ],
          "name": "stdout"
        }
      ]
    },
    {
      "cell_type": "markdown",
      "metadata": {
        "id": "w6tirlSywNAC",
        "colab_type": "text"
      },
      "source": [
        "```\n",
        "using sys.argv\n",
        "\n",
        "    now that we've seaparteed code run only when invoked on command line...\n",
        "    next step = accept command-line arguments\n",
        "    if tool does only one thing then no need, \n",
        "        but if does more than one def \n",
        "        or if def takes args\n",
        "        then need args for command line tools\n",
        "\n",
        "    argv attribute of sys module\n",
        "        simplest to process args from command line\n",
        "        attribute = list of args pass to python script: 1st list item = module name\n",
        "\n",
        "        ex 3.2 shows help msg and accpt args to the func \n",
        "            1 test if running from command line\n",
        "            2 default values set here\n",
        "            3 check for --help string in list of args\n",
        "            4 exits after printing help msg\n",
        "            5 position of the value after the flag which shoudl be the assoc value\n",
        "            6 test the arg list is long enough; not so if flag provided without a value\n",
        "            7 vall func w values as modif by args\n",
        "\n",
        "\n",
        "```"
      ]
    },
    {
      "cell_type": "code",
      "metadata": {
        "id": "sy1qY5uewRq9",
        "colab_type": "code",
        "colab": {
          "base_uri": "https://localhost:8080/",
          "height": 34
        },
        "outputId": "5a30fd43-c162-4f2c-b4b2-64ac86017c60"
      },
      "source": [
        "%%writefile sys_argv_module.py\n",
        "#!/usr/bin/env python\n",
        "\"\"\"\n",
        "Simple command-line tool using sys.argv\n",
        "\"\"\"\n",
        "import sys\n",
        "\n",
        "if __name__ == '__main__':\n",
        "    print(f\"The first argument:  '{sys.argv[0]}'\")\n",
        "    print(f\"The second argument: '{sys.argv[1]}'\")\n",
        "    print(f\"The third argument: '{sys.argv[2]}'\")\n",
        "    print(f\"The fourth argument: '{sys.argv[3]}'\")"
      ],
      "execution_count": 33,
      "outputs": [
        {
          "output_type": "stream",
          "text": [
            "Writing sys_argv_module.py\n"
          ],
          "name": "stdout"
        }
      ]
    },
    {
      "cell_type": "code",
      "metadata": {
        "id": "bG3FpS7U306r",
        "colab_type": "code",
        "colab": {
          "base_uri": "https://localhost:8080/",
          "height": 85
        },
        "outputId": "bca4cbfa-8879-4a6d-d594-d7d327e8b8ef"
      },
      "source": [
        "!!chmod +x sys_argv_module.py\n",
        "!./sys_argv_module.py --a-flag some-value 13"
      ],
      "execution_count": 34,
      "outputs": [
        {
          "output_type": "stream",
          "text": [
            "The first argument:  './sys_argv_module.py'\n",
            "The second argument: '--a-flag'\n",
            "The third argument: 'some-value'\n",
            "The fourth argument: '13'\n"
          ],
          "name": "stdout"
        }
      ]
    },
    {
      "cell_type": "code",
      "metadata": {
        "id": "j1kjTnQu95JJ",
        "colab_type": "code",
        "colab": {
          "base_uri": "https://localhost:8080/",
          "height": 34
        },
        "outputId": "22cd054a-2ac6-4d0c-f4d7-5b82bcc61ea3"
      },
      "source": [
        "%%writefile sys_argv_module_2.py\n",
        "#!/usr/bin/env python\n",
        "\n",
        "\"\"\"\n",
        "Simple command-line tool using sys.argv\n",
        "\"\"\"\n",
        "import sys\n",
        "def say_it(greeting, target):\n",
        "    message = f'{greeting} {target}'\n",
        "    print(message)\n",
        "\n",
        "if __name__ == '__main__': #1\n",
        "    greeting = 'Hello' #2\n",
        "    target = 'Joe'\n",
        "\n",
        "if '--help' in sys.argv: #3\n",
        "    help_message = f\"usage: {sys.argv[0]} --name <NAME> --greeting <GREETING>\"\n",
        "    print(help_message)\n",
        "    sys.exit() #4\n",
        "\n",
        "if '--name' in sys.argv:\n",
        "    # get position after flag\n",
        "    name_index = sys.argv.index('--name') + 1 #5\n",
        "    if name_index < len(sys.argv):\n",
        "        name = sys.argv[name_index] #6\n",
        "\n",
        "if '--greeting' in sys.argv:\n",
        "    # get position after greeting flag\n",
        "    greeting_index = sys.argv.index('--greeting') + 1\n",
        "    if greeting_index < len(sys.argv):\n",
        "        greeting = sys.argv[greeting_index]\n",
        "\n",
        "say_it(greeting, name)"
      ],
      "execution_count": 35,
      "outputs": [
        {
          "output_type": "stream",
          "text": [
            "Writing sys_argv_module_2.py\n"
          ],
          "name": "stdout"
        }
      ]
    },
    {
      "cell_type": "code",
      "metadata": {
        "id": "LUYtw5vxA04r",
        "colab_type": "code",
        "colab": {
          "base_uri": "https://localhost:8080/",
          "height": 34
        },
        "outputId": "607e4f29-faff-4f80-b87e-28584598332c"
      },
      "source": [
        "!!chmod +x sys_argv_module_2.py\n",
        "!./sys_argv_module_2.py --help"
      ],
      "execution_count": 36,
      "outputs": [
        {
          "output_type": "stream",
          "text": [
            "usage: ./sys_argv_module_2.py --name <NAME> --greeting <GREETING>\n"
          ],
          "name": "stdout"
        }
      ]
    },
    {
      "cell_type": "code",
      "metadata": {
        "id": "CzSze6fPBEA2",
        "colab_type": "code",
        "colab": {
          "base_uri": "https://localhost:8080/",
          "height": 34
        },
        "outputId": "581f8b4e-569f-4d7a-a353-5369258f68c2"
      },
      "source": [
        "!!chmod +x sys_argv_module_2.py\n",
        "!./sys_argv_module_2.py --name Sally --greeting Bonjour"
      ],
      "execution_count": 37,
      "outputs": [
        {
          "output_type": "stream",
          "text": [
            "Bonjour Sally\n"
          ],
          "name": "stdout"
        }
      ]
    },
    {
      "cell_type": "markdown",
      "metadata": {
        "id": "6842G1cTB9BX",
        "colab_type": "text"
      },
      "source": [
        "```\n",
        "problems with ex 3.2 solution\n",
        "    user misspells / miscapitalizes a flag, flag is ignored\n",
        "```"
      ]
    },
    {
      "cell_type": "markdown",
      "metadata": {
        "id": "vmBHrWRyxTJP",
        "colab_type": "text"
      },
      "source": [
        "```\n",
        "using argparse\n",
        "\n",
        "    part of python SL\n",
        "\n",
        "    add_argument method\n",
        "        1st arg is name of new arg = command flag\n",
        "            if begins -- then treated as optional\n",
        "            otherwise positional command\n",
        "\n",
        "    parsed arguments opbject \n",
        "        with arguments as attributes that can use as input\n",
        "\n",
        "    1 create parser obj w doc message\n",
        "    2 add pos based command w help msg\n",
        "    3 add optional arg\n",
        "    4 store optional arg as boolean value\n",
        "    5 use parser to parse args\n",
        "    6 access arg values by name\n",
        "        optional arg name as the -- removed"
      ]
    },
    {
      "cell_type": "code",
      "metadata": {
        "id": "buVNmrS0yHBm",
        "colab_type": "code",
        "colab": {
          "base_uri": "https://localhost:8080/",
          "height": 34
        },
        "outputId": "df3835ab-fdca-49a8-fe58-6ae6cd9cea44"
      },
      "source": [
        "%%writefile simple_argparse.py\n",
        "#!/usr/bin/env python\n",
        "\"\"\"\n",
        "command-line tool using argparse\n",
        "\"\"\"\n",
        "import argparse\n",
        "if __name__ == '__main__':\n",
        "    parser = argparse.ArgumentParser(description='Echo your input') # 1\n",
        "    parser.add_argument('message', # 2\n",
        "                        help='message to echo')\n",
        "    \n",
        "    parser.add_argument('--twice', '-t', # 3\n",
        "                        help='do it twice',\n",
        "                        action='store_true') # 4\n",
        "    \n",
        "    args = parser.parse_args() # 5\n",
        "\n",
        "    print(args.message) # 6\n",
        "    if args.twice:\n",
        "        print(args.message)"
      ],
      "execution_count": 38,
      "outputs": [
        {
          "output_type": "stream",
          "text": [
            "Writing simple_argparse.py\n"
          ],
          "name": "stdout"
        }
      ]
    },
    {
      "cell_type": "code",
      "metadata": {
        "id": "x7EzNGpv0Acw",
        "colab_type": "code",
        "colab": {
          "base_uri": "https://localhost:8080/",
          "height": 51
        },
        "outputId": "20e4263f-e4c6-4eaa-818b-c4d116f25675"
      },
      "source": [
        "!!chmod +x simple_argparse.py\n",
        "!./simple_argparse.py hello --twice"
      ],
      "execution_count": 39,
      "outputs": [
        {
          "output_type": "stream",
          "text": [
            "hello\n",
            "hello\n"
          ],
          "name": "stdout"
        }
      ]
    },
    {
      "cell_type": "markdown",
      "metadata": {
        "id": "_Rotv4Tl057W",
        "colab_type": "text"
      },
      "source": [
        "```\n",
        "looks like --twice has no effect here\n",
        "```"
      ]
    },
    {
      "cell_type": "code",
      "metadata": {
        "id": "rqw-jlyV0wML",
        "colab_type": "code",
        "colab": {
          "base_uri": "https://localhost:8080/",
          "height": 187
        },
        "outputId": "b76fae70-120d-4956-dcfc-cf9a91e9b1a7"
      },
      "source": [
        "!./simple_argparse.py --help --twice"
      ],
      "execution_count": 40,
      "outputs": [
        {
          "output_type": "stream",
          "text": [
            "usage: simple_argparse.py [-h] [--twice] message\n",
            "\n",
            "Echo your input\n",
            "\n",
            "positional arguments:\n",
            "  message      message to echo\n",
            "\n",
            "optional arguments:\n",
            "  -h, --help   show this help message and exit\n",
            "  --twice, -t  do it twice\n"
          ],
          "name": "stdout"
        }
      ]
    },
    {
      "cell_type": "markdown",
      "metadata": {
        "id": "-w7dFLPdwSJM",
        "colab_type": "text"
      },
      "source": [
        "```\n",
        "using argparse\n",
        "\n",
        "    1 create top level parser\n",
        "    2 add top level argument that is used with any command under this parsers hierarchy\n",
        "    3 create subparser object to hold subparsers\n",
        "        dest is name of attribute to select subparser\n",
        "    4 add subparser for ships\n",
        "    5 add command to ships subparser\n",
        "        choices parameter gives list of choices for the command\n",
        "    6 add a subparser for sailors\n",
        "    7 add required positional arg to sailors subparser\n",
        "    8 check which subparser is used by checking the func value\n",
        "\n",
        "one top level optional arg = twice\n",
        "two subparsers\n",
        "    each has commands and flags\n",
        "argparser creates help msg hierarchy displayed w the --help flag\n",
        "    \n",
        "```"
      ]
    },
    {
      "cell_type": "code",
      "metadata": {
        "id": "zCj3fhhCwWMR",
        "colab_type": "code",
        "colab": {
          "base_uri": "https://localhost:8080/",
          "height": 34
        },
        "outputId": "ac52a2d6-4fab-4104-c1ea-047381040d6d"
      },
      "source": [
        "%%writefile argparse_example.py\n",
        "#!/usr/bin/env python\n",
        "\n",
        "\"\"\"\n",
        "Command-line tool using argparse\n",
        "\"\"\"\n",
        "\n",
        "import argparse\n",
        "\n",
        "def sail():\n",
        "    ship_name = 'Your ship'\n",
        "    print(f\"{ship_name} is setting sail\")\n",
        "\n",
        "def list_ships():\n",
        "    ships = ['john b', 'yankee clipper', 'pequod']\n",
        "    print(f\"ships: {','.join(ships)}\")\n",
        "\n",
        "def greet(greeting, name):\n",
        "    message = f'{greeting} {name}'\n",
        "    print(message)\n",
        "\n",
        "if __name__ == '__main__':\n",
        "    parser = argparse.ArgumentParser(description='maritime control') #1\n",
        "\n",
        "    parser.add_argument('--twice', '-t', #2 \n",
        "                        help='do it twice',\n",
        "                        action='store_true')\n",
        "    subparsers = parser.add_subparsers(dest='func') #3\n",
        "    ship_parser = subparsers.add_parser('ships', #4\n",
        "                                     help='ship related commands')\n",
        "    ship_parser.add_argument('command', #5\n",
        "                             choices=['list', 'sail'])\n",
        "\n",
        "    sailor_parser = subparsers.add_parser('sailors',\n",
        "                                          help='talk to a sailor')\n",
        "    sailor_parser.add_argument('name', #7\n",
        "                               help='sailors name')\n",
        "    sailor_parser.add_argument('--greeting', '-g',\n",
        "                               help='greeting',\n",
        "                               default='ahoy there')\n",
        "    \n",
        "    args = parser.parse_args()\n",
        "    if args.func == 'sailors':\n",
        "        greet(args.greeting, args.name)\n",
        "    elif args.command == 'list':\n",
        "        list_ships()\n",
        "    else:\n",
        "        sail()"
      ],
      "execution_count": 41,
      "outputs": [
        {
          "output_type": "stream",
          "text": [
            "Writing argparse_example.py\n"
          ],
          "name": "stdout"
        }
      ]
    },
    {
      "cell_type": "code",
      "metadata": {
        "id": "DpAZh2NuOXDa",
        "colab_type": "code",
        "colab": {
          "base_uri": "https://localhost:8080/",
          "height": 221
        },
        "outputId": "fb917f66-4998-46f0-ae08-0b417f168bc2"
      },
      "source": [
        "!!chmod +x argparse_example.py\n",
        "!./argparse_example.py --help"
      ],
      "execution_count": 42,
      "outputs": [
        {
          "output_type": "stream",
          "text": [
            "usage: argparse_example.py [-h] [--twice] {ships,sailors} ...\n",
            "\n",
            "maritime control\n",
            "\n",
            "positional arguments:\n",
            "  {ships,sailors}\n",
            "    ships          ship related commands\n",
            "    sailors        talk to a sailor\n",
            "\n",
            "optional arguments:\n",
            "  -h, --help       show this help message and exit\n",
            "  --twice, -t      do it twice\n"
          ],
          "name": "stdout"
        }
      ]
    },
    {
      "cell_type": "code",
      "metadata": {
        "id": "Wciqm8tatCct",
        "colab_type": "code",
        "colab": {
          "base_uri": "https://localhost:8080/",
          "height": 136
        },
        "outputId": "0b3f071d-90fe-42d3-9aac-8905577c46ba"
      },
      "source": [
        "!./argparse_example.py ships --help"
      ],
      "execution_count": 43,
      "outputs": [
        {
          "output_type": "stream",
          "text": [
            "usage: argparse_example.py ships [-h] {list,sail}\n",
            "\n",
            "positional arguments:\n",
            "  {list,sail}\n",
            "\n",
            "optional arguments:\n",
            "  -h, --help   show this help message and exit\n"
          ],
          "name": "stdout"
        }
      ]
    },
    {
      "cell_type": "markdown",
      "metadata": {
        "id": "kKKFOuuqweEX",
        "colab_type": "text"
      },
      "source": [
        "```\n",
        "function decorators\n",
        "\n",
        "    function syntax\n",
        "    takes other functions as arguments\n",
        "        any function can take another function as an argument\n",
        "        since all functions are objects\n",
        "    decorator syntax gives a clean way to use functions as args\n",
        "\n",
        "    so here decorator is called with the wrapped function as argument\n",
        "    the decorator defines the wrapper for the wrapped function\n",
        "        in that definitino the wrapper calls the wrapped function\n",
        "        but this is only defining the wrapper\n",
        "        then \n",
        "            the decorator calls the wraapper in its return statement \n",
        "            ****but it doesnt call it as wrapper()\n",
        "            it calls it as wrapper which means it it not executed\n",
        "            it returns the function compiled but not executed\n",
        "                which calls to the wrapped funciton inside\n",
        "\n",
        "    define the function\n",
        "    and call it as an arg to the wrapper\n",
        "```\n"
      ]
    },
    {
      "cell_type": "code",
      "metadata": {
        "id": "PtVRGIfCwgi8",
        "colab_type": "code",
        "colab": {}
      },
      "source": [
        "def some_decorator(wrapped_function):\n",
        "    def wrapper():\n",
        "        print('do something before calling wrapped function')\n",
        "        wrapped_function()\n",
        "        print('do something after calling wrapped function')\n",
        "    return wrapper"
      ],
      "execution_count": 44,
      "outputs": []
    },
    {
      "cell_type": "code",
      "metadata": {
        "id": "IPrdNTj54vrx",
        "colab_type": "code",
        "colab": {}
      },
      "source": [
        "def foobat():\n",
        "    print('foobat')"
      ],
      "execution_count": 46,
      "outputs": []
    },
    {
      "cell_type": "code",
      "metadata": {
        "id": "7CNSsEBX43vh",
        "colab_type": "code",
        "colab": {
          "base_uri": "https://localhost:8080/",
          "height": 34
        },
        "outputId": "3324e4f1-576e-4a5b-d0f0-bfb5206de16b"
      },
      "source": [
        "f = some_decorator(foobat)\n",
        "f"
      ],
      "execution_count": 47,
      "outputs": [
        {
          "output_type": "execute_result",
          "data": {
            "text/plain": [
              "<function __main__.some_decorator.<locals>.wrapper>"
            ]
          },
          "metadata": {
            "tags": []
          },
          "execution_count": 47
        }
      ]
    },
    {
      "cell_type": "code",
      "metadata": {
        "id": "mSlv0a596Bze",
        "colab_type": "code",
        "colab": {
          "base_uri": "https://localhost:8080/",
          "height": 68
        },
        "outputId": "10079c4d-fe70-4049-d8bc-c77f36147206"
      },
      "source": [
        "f()"
      ],
      "execution_count": 48,
      "outputs": [
        {
          "output_type": "stream",
          "text": [
            "do something before calling wrapped function\n",
            "foobat\n",
            "do something after calling wrapped function\n"
          ],
          "name": "stdout"
        }
      ]
    },
    {
      "cell_type": "markdown",
      "metadata": {
        "id": "Ng-GnSiu4l-K",
        "colab_type": "text"
      },
      "source": [
        "```\n",
        "decorator syntax simplifies this\n",
        "by decorating the function with the @decorator_name\n",
        "\n",
        "allows u to call wrapped function with its name rather than decorator name\n",
        "there are prebuilt functions intended as decorators in PSL\n",
        "    staticMethod\n",
        "    classMethod\n",
        "\n",
        "```"
      ]
    },
    {
      "cell_type": "code",
      "metadata": {
        "id": "9fsyTPox6aTT",
        "colab_type": "code",
        "colab": {}
      },
      "source": [
        "@some_decorator\n",
        "def batfoo():\n",
        "    print('batfoo')"
      ],
      "execution_count": 50,
      "outputs": []
    },
    {
      "cell_type": "code",
      "metadata": {
        "id": "BLJiPyvU6pyv",
        "colab_type": "code",
        "colab": {
          "base_uri": "https://localhost:8080/",
          "height": 68
        },
        "outputId": "752cdd35-7cc3-41c0-c6ee-b31c856da4e2"
      },
      "source": [
        "batfoo()\n"
      ],
      "execution_count": 51,
      "outputs": [
        {
          "output_type": "stream",
          "text": [
            "do something before calling wrapped function\n",
            "batfoo\n",
            "do something after calling wrapped function\n"
          ],
          "name": "stdout"
        }
      ]
    },
    {
      "cell_type": "markdown",
      "metadata": {
        "id": "nVNEXA9jwZZz",
        "colab_type": "text"
      },
      "source": [
        "```\n",
        "uaing click\n",
        "\n",
        "\n",
        "\n",
        "```"
      ]
    },
    {
      "cell_type": "code",
      "metadata": {
        "id": "snLv8CPywcha",
        "colab_type": "code",
        "colab": {
          "base_uri": "https://localhost:8080/",
          "height": 34
        },
        "outputId": "e987a281-5c7f-432f-f2bf-c13f8f29571a"
      },
      "source": [
        "%%writefile simple_click.py\n",
        "#!/usr/bin/env python\n",
        "\n",
        "\"\"\"\n",
        "Simple Click ex\n",
        "\"\"\"\n",
        "import click\n",
        "@click.command()\n",
        "@click.option('--greeting', default='hiya', help='how do you want to greet?')\n",
        "@click.option('--name', default='tammy', help='who do you want to greet?')\n",
        "def greet(greeting, name):\n",
        "    print(f\"{greeting} {name}\")\n",
        "\n",
        "if __name__ == \"__main__\":\n",
        "    greet()"
      ],
      "execution_count": 52,
      "outputs": [
        {
          "output_type": "stream",
          "text": [
            "Writing simple_click.py\n"
          ],
          "name": "stdout"
        }
      ]
    },
    {
      "cell_type": "code",
      "metadata": {
        "id": "kcHbFvKvqoyu",
        "colab_type": "code",
        "colab": {
          "base_uri": "https://localhost:8080/",
          "height": 34
        },
        "outputId": "568ce7d6-191d-46fd-b090-d6ec60af526a"
      },
      "source": [
        "!!chmod +x simple_click.py\n",
        "!./simple_click.py --greeting Privet --name Peggy"
      ],
      "execution_count": 56,
      "outputs": [
        {
          "output_type": "stream",
          "text": [
            "Privet Peggy\n"
          ],
          "name": "stdout"
        }
      ]
    },
    {
      "cell_type": "code",
      "metadata": {
        "id": "lBDEgL_BrQok",
        "colab_type": "code",
        "colab": {
          "base_uri": "https://localhost:8080/",
          "height": 119
        },
        "outputId": "c0366504-e820-487c-939a-eb2b19ce5226"
      },
      "source": [
        "!./simple_click.py --help "
      ],
      "execution_count": 57,
      "outputs": [
        {
          "output_type": "stream",
          "text": [
            "Usage: simple_click.py [OPTIONS]\n",
            "\n",
            "Options:\n",
            "  --greeting TEXT  how do you want to greet?\n",
            "  --name TEXT      who do you want to greet?\n",
            "  --help           Show this message and exit.\n"
          ],
          "name": "stdout"
        }
      ]
    },
    {
      "cell_type": "markdown",
      "metadata": {
        "id": "rCOUzwYMrgLq",
        "colab_type": "text"
      },
      "source": [
        "```\n",
        "more complex code with nesting of commands\n",
        "    1 top level group under which other groups / commands can be def\n",
        "    2 func for top level group = cli\n",
        "        the click.group method transforms the cli func into a group\n",
        "    3 group to hold ships command\n",
        "    4 add ships group as command to top level cli group\n",
        "        the cli func is now a group with add_command method \n",
        "    5 add a command to ships group\n",
        "        the ships.command is used not click.command\n",
        "    6 add a command to cli group\n",
        "    7 call top level group \n",
        "```"
      ]
    },
    {
      "cell_type": "code",
      "metadata": {
        "id": "rTgiGGcsr1sk",
        "colab_type": "code",
        "colab": {
          "base_uri": "https://localhost:8080/",
          "height": 34
        },
        "outputId": "cf773761-0e94-44fe-b080-1e4ea67112fc"
      },
      "source": [
        "%%writefile click_example.py\n",
        "#!/usr/bin/env python\n",
        "\n",
        "\"\"\"\n",
        "Command-line tool using click\n",
        "\"\"\"\n",
        "\n",
        "import click\n",
        "\n",
        "@click.group() #1\n",
        "def cli(): #2\n",
        "    pass\n",
        "\n",
        "@click.group(help='ship related commands') #3\n",
        "def ships():\n",
        "    pass\n",
        "\n",
        "cli.add_command(ships) #4\n",
        "\n",
        "@ships.command(help='sail a ship') #5\n",
        "def sail():\n",
        "    ship_name = 'your ship'\n",
        "    print(f\"{ship_name} is setting sail\")\n",
        "\n",
        "@ships.command(help='list all ships')\n",
        "def list_ships():\n",
        "    ships = ['john b', 'yankee clipper', 'pequod']\n",
        "    print(\"ships: {','.join(ships)}\")\n",
        "\n",
        "@cli.command(help='Talk to a sailor') #6 \n",
        "@click.option('--greeting', default='ahoy there', help='greeting for sailor')\n",
        "@click.argument('name')\n",
        "def sailors(greeting, name):\n",
        "    message = f'{greeting}, {name}'\n",
        "    print(message)\n",
        "\n",
        "if __name__ == '__main__':\n",
        "    cli() #7"
      ],
      "execution_count": 64,
      "outputs": [
        {
          "output_type": "stream",
          "text": [
            "Overwriting click_example.py\n"
          ],
          "name": "stdout"
        }
      ]
    },
    {
      "cell_type": "code",
      "metadata": {
        "id": "gXHGVHlAY7e_",
        "colab_type": "code",
        "colab": {
          "base_uri": "https://localhost:8080/",
          "height": 170
        },
        "outputId": "552dc13b-d658-471c-8f3a-50e70939ca98"
      },
      "source": [
        "!!chmod +x click_example.py\n",
        "!./click_example.py --help"
      ],
      "execution_count": 65,
      "outputs": [
        {
          "output_type": "stream",
          "text": [
            "Usage: click_example.py [OPTIONS] COMMAND\n",
            "                        [ARGS]...\n",
            "\n",
            "Options:\n",
            "  --help  Show this message and exit.\n",
            "\n",
            "Commands:\n",
            "  sailors  Talk to a sailor\n",
            "  ships    ship related commands\n"
          ],
          "name": "stdout"
        }
      ]
    },
    {
      "cell_type": "markdown",
      "metadata": {
        "id": "GGE3vHg5wjCK",
        "colab_type": "text"
      },
      "source": [
        "```\n",
        "defining classes\n",
        "```"
      ]
    },
    {
      "cell_type": "code",
      "metadata": {
        "id": "LOJYNF8NwmTa",
        "colab_type": "code",
        "colab": {}
      },
      "source": [
        ""
      ],
      "execution_count": null,
      "outputs": []
    },
    {
      "cell_type": "markdown",
      "metadata": {
        "id": "tow0H_QHwn_h",
        "colab_type": "text"
      },
      "source": [
        "```\n",
        "fire\n",
        "```"
      ]
    },
    {
      "cell_type": "code",
      "metadata": {
        "id": "LMoGtOM3wqvU",
        "colab_type": "code",
        "colab": {}
      },
      "source": [
        ""
      ],
      "execution_count": null,
      "outputs": []
    },
    {
      "cell_type": "markdown",
      "metadata": {
        "id": "CcO6GLOFwtYb",
        "colab_type": "text"
      },
      "source": [
        "```\n",
        "implementing plugins\n",
        "```"
      ]
    },
    {
      "cell_type": "code",
      "metadata": {
        "id": "q-sYQR4zws8r",
        "colab_type": "code",
        "colab": {}
      },
      "source": [
        ""
      ],
      "execution_count": null,
      "outputs": []
    },
    {
      "cell_type": "markdown",
      "metadata": {
        "id": "FnDU3hfRww4P",
        "colab_type": "text"
      },
      "source": [
        "```\n",
        "case study: turbocharging python with command line tools\n",
        "```"
      ]
    },
    {
      "cell_type": "code",
      "metadata": {
        "id": "THgwjJCOw3O7",
        "colab_type": "code",
        "colab": {}
      },
      "source": [
        ""
      ],
      "execution_count": null,
      "outputs": []
    },
    {
      "cell_type": "markdown",
      "metadata": {
        "id": "b_3v_EGIw3xy",
        "colab_type": "text"
      },
      "source": [
        "```\n",
        "using the numba just in time JIT compiler\n",
        "```"
      ]
    },
    {
      "cell_type": "code",
      "metadata": {
        "id": "sNlpVNDMxBNX",
        "colab_type": "code",
        "colab": {}
      },
      "source": [
        ""
      ],
      "execution_count": null,
      "outputs": []
    },
    {
      "cell_type": "markdown",
      "metadata": {
        "id": "hteZy6UjxDv8",
        "colab_type": "text"
      },
      "source": [
        "```\n",
        "using the GPU with CUDA pyton\n",
        "```"
      ]
    },
    {
      "cell_type": "code",
      "metadata": {
        "id": "tdOs7bfHxHKr",
        "colab_type": "code",
        "colab": {}
      },
      "source": [
        ""
      ],
      "execution_count": null,
      "outputs": []
    },
    {
      "cell_type": "markdown",
      "metadata": {
        "id": "vNpdkX3RxJqj",
        "colab_type": "text"
      },
      "source": [
        "```\n",
        "running true multicore multithreaded python using numba\n",
        "```\n"
      ]
    },
    {
      "cell_type": "code",
      "metadata": {
        "id": "TSYzzY88xPc0",
        "colab_type": "code",
        "colab": {}
      },
      "source": [
        ""
      ],
      "execution_count": null,
      "outputs": []
    },
    {
      "cell_type": "markdown",
      "metadata": {
        "id": "N1bOkvDwxREn",
        "colab_type": "text"
      },
      "source": [
        "```\n",
        "kmeans clustering\n",
        "```"
      ]
    },
    {
      "cell_type": "code",
      "metadata": {
        "id": "XUI-Y_OnxUfW",
        "colab_type": "code",
        "colab": {}
      },
      "source": [
        ""
      ],
      "execution_count": null,
      "outputs": []
    }
  ]
}