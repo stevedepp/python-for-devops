{
  "nbformat": 4,
  "nbformat_minor": 0,
  "metadata": {
    "colab": {
      "name": "Python for DevOps Chapter 03.ipynb",
      "provenance": [],
      "authorship_tag": "ABX9TyM3va9ecknaEWCLFrKGc6yT",
      "include_colab_link": true
    },
    "kernelspec": {
      "name": "python3",
      "display_name": "Python 3"
    }
  },
  "cells": [
    {
      "cell_type": "markdown",
      "metadata": {
        "id": "view-in-github",
        "colab_type": "text"
      },
      "source": [
        "<a href=\"https://colab.research.google.com/github/herculeslyndel/python-for-devops/blob/master/Python_for_DevOps_Chapter_03.ipynb\" target=\"_parent\"><img src=\"https://colab.research.google.com/assets/colab-badge.svg\" alt=\"Open In Colab\"/></a>"
      ]
    },
    {
      "cell_type": "markdown",
      "metadata": {
        "id": "-Dc-DKDyu_wd",
        "colab_type": "text"
      },
      "source": [
        "```\n",
        "Chapter 3: Working with the command line\n",
        "```"
      ]
    },
    {
      "cell_type": "code",
      "metadata": {
        "id": "JySwZCMuuyEg",
        "colab_type": "code",
        "colab": {}
      },
      "source": [
        ""
      ],
      "execution_count": null,
      "outputs": []
    },
    {
      "cell_type": "markdown",
      "metadata": {
        "id": "UVj71Us_vRC2",
        "colab_type": "text"
      },
      "source": [
        "```\n",
        "working with shell\n",
        "```"
      ]
    },
    {
      "cell_type": "markdown",
      "metadata": {
        "id": "W7KascIyvuix",
        "colab_type": "text"
      },
      "source": [
        "```\n",
        "talking to interpreter with sys module\n",
        "```"
      ]
    },
    {
      "cell_type": "code",
      "metadata": {
        "id": "5KWX_0t9vd5U",
        "colab_type": "code",
        "colab": {}
      },
      "source": [
        ""
      ],
      "execution_count": null,
      "outputs": []
    },
    {
      "cell_type": "markdown",
      "metadata": {
        "id": "uXfC8cg8v267",
        "colab_type": "text"
      },
      "source": [
        "```\n",
        "dealing with the OS using he os module\n",
        "```"
      ]
    },
    {
      "cell_type": "code",
      "metadata": {
        "id": "XOOmE2Iav7RI",
        "colab_type": "code",
        "colab": {}
      },
      "source": [
        ""
      ],
      "execution_count": null,
      "outputs": []
    },
    {
      "cell_type": "markdown",
      "metadata": {
        "id": "suBOSmBLv9ST",
        "colab_type": "text"
      },
      "source": [
        "```\n",
        "spawn process with subprocdess module\n",
        "```"
      ]
    },
    {
      "cell_type": "code",
      "metadata": {
        "id": "y3GQMjHHwC5_",
        "colab_type": "code",
        "colab": {}
      },
      "source": [
        ""
      ],
      "execution_count": null,
      "outputs": []
    },
    {
      "cell_type": "code",
      "metadata": {
        "id": "R2qUgdCYwCtb",
        "colab_type": "code",
        "colab": {}
      },
      "source": [
        ""
      ],
      "execution_count": null,
      "outputs": []
    },
    {
      "cell_type": "markdown",
      "metadata": {
        "id": "AzbKICPDvZGY",
        "colab_type": "text"
      },
      "source": [
        "```\n",
        "creating command line tools\n",
        "```"
      ]
    },
    {
      "cell_type": "code",
      "metadata": {
        "id": "vBrxoCxEve4e",
        "colab_type": "code",
        "colab": {}
      },
      "source": [
        ""
      ],
      "execution_count": null,
      "outputs": []
    },
    {
      "cell_type": "markdown",
      "metadata": {
        "id": "hXY0ncDMwInP",
        "colab_type": "text"
      },
      "source": [
        "```\n",
        "making your shell script executable\n",
        "```"
      ]
    },
    {
      "cell_type": "code",
      "metadata": {
        "id": "an-K-SNJwMm9",
        "colab_type": "code",
        "colab": {}
      },
      "source": [
        ""
      ],
      "execution_count": null,
      "outputs": []
    },
    {
      "cell_type": "markdown",
      "metadata": {
        "id": "w6tirlSywNAC",
        "colab_type": "text"
      },
      "source": [
        "```\n",
        "using sys.argv\n",
        "```"
      ]
    },
    {
      "cell_type": "code",
      "metadata": {
        "id": "sy1qY5uewRq9",
        "colab_type": "code",
        "colab": {}
      },
      "source": [
        ""
      ],
      "execution_count": null,
      "outputs": []
    },
    {
      "cell_type": "markdown",
      "metadata": {
        "id": "-w7dFLPdwSJM",
        "colab_type": "text"
      },
      "source": [
        "```\n",
        "using argparse\n",
        "```"
      ]
    },
    {
      "cell_type": "code",
      "metadata": {
        "id": "zCj3fhhCwWMR",
        "colab_type": "code",
        "colab": {}
      },
      "source": [
        ""
      ],
      "execution_count": null,
      "outputs": []
    },
    {
      "cell_type": "markdown",
      "metadata": {
        "id": "nVNEXA9jwZZz",
        "colab_type": "text"
      },
      "source": [
        "```\n",
        "uaing click\n",
        "```"
      ]
    },
    {
      "cell_type": "code",
      "metadata": {
        "id": "snLv8CPywcha",
        "colab_type": "code",
        "colab": {}
      },
      "source": [
        ""
      ],
      "execution_count": null,
      "outputs": []
    },
    {
      "cell_type": "markdown",
      "metadata": {
        "id": "kKKFOuuqweEX",
        "colab_type": "text"
      },
      "source": [
        "```\n",
        "function decorators\n",
        "```\n"
      ]
    },
    {
      "cell_type": "code",
      "metadata": {
        "id": "PtVRGIfCwgi8",
        "colab_type": "code",
        "colab": {}
      },
      "source": [
        ""
      ],
      "execution_count": null,
      "outputs": []
    },
    {
      "cell_type": "markdown",
      "metadata": {
        "id": "GGE3vHg5wjCK",
        "colab_type": "text"
      },
      "source": [
        "```\n",
        "defining classes\n",
        "```"
      ]
    },
    {
      "cell_type": "code",
      "metadata": {
        "id": "LOJYNF8NwmTa",
        "colab_type": "code",
        "colab": {}
      },
      "source": [
        ""
      ],
      "execution_count": null,
      "outputs": []
    },
    {
      "cell_type": "markdown",
      "metadata": {
        "id": "tow0H_QHwn_h",
        "colab_type": "text"
      },
      "source": [
        "```\n",
        "fire\n",
        "```"
      ]
    },
    {
      "cell_type": "code",
      "metadata": {
        "id": "LMoGtOM3wqvU",
        "colab_type": "code",
        "colab": {}
      },
      "source": [
        ""
      ],
      "execution_count": null,
      "outputs": []
    },
    {
      "cell_type": "markdown",
      "metadata": {
        "id": "CcO6GLOFwtYb",
        "colab_type": "text"
      },
      "source": [
        "```\n",
        "implementing plugins\n",
        "```"
      ]
    },
    {
      "cell_type": "code",
      "metadata": {
        "id": "q-sYQR4zws8r",
        "colab_type": "code",
        "colab": {}
      },
      "source": [
        ""
      ],
      "execution_count": null,
      "outputs": []
    },
    {
      "cell_type": "markdown",
      "metadata": {
        "id": "FnDU3hfRww4P",
        "colab_type": "text"
      },
      "source": [
        "```\n",
        "case study: turbocharging python with command line tools\n",
        "```"
      ]
    },
    {
      "cell_type": "code",
      "metadata": {
        "id": "THgwjJCOw3O7",
        "colab_type": "code",
        "colab": {}
      },
      "source": [
        ""
      ],
      "execution_count": null,
      "outputs": []
    },
    {
      "cell_type": "markdown",
      "metadata": {
        "id": "b_3v_EGIw3xy",
        "colab_type": "text"
      },
      "source": [
        "```\n",
        "using the numba just in time JIT compiler\n",
        "```"
      ]
    },
    {
      "cell_type": "code",
      "metadata": {
        "id": "sNlpVNDMxBNX",
        "colab_type": "code",
        "colab": {}
      },
      "source": [
        ""
      ],
      "execution_count": null,
      "outputs": []
    },
    {
      "cell_type": "markdown",
      "metadata": {
        "id": "hteZy6UjxDv8",
        "colab_type": "text"
      },
      "source": [
        "```\n",
        "using the GPU with CUDA pyton\n",
        "```"
      ]
    },
    {
      "cell_type": "code",
      "metadata": {
        "id": "tdOs7bfHxHKr",
        "colab_type": "code",
        "colab": {}
      },
      "source": [
        ""
      ],
      "execution_count": null,
      "outputs": []
    },
    {
      "cell_type": "markdown",
      "metadata": {
        "id": "vNpdkX3RxJqj",
        "colab_type": "text"
      },
      "source": [
        "```\n",
        "running true multicore multithreaded python using numba\n",
        "```\n"
      ]
    },
    {
      "cell_type": "code",
      "metadata": {
        "id": "TSYzzY88xPc0",
        "colab_type": "code",
        "colab": {}
      },
      "source": [
        ""
      ],
      "execution_count": null,
      "outputs": []
    },
    {
      "cell_type": "markdown",
      "metadata": {
        "id": "N1bOkvDwxREn",
        "colab_type": "text"
      },
      "source": [
        "```\n",
        "kmeans clustering\n",
        "```"
      ]
    },
    {
      "cell_type": "code",
      "metadata": {
        "id": "XUI-Y_OnxUfW",
        "colab_type": "code",
        "colab": {}
      },
      "source": [
        ""
      ],
      "execution_count": null,
      "outputs": []
    }
  ]
}