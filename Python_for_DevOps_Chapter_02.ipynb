{
  "nbformat": 4,
  "nbformat_minor": 0,
  "metadata": {
    "colab": {
      "name": "Python for DevOps Chapter 02.ipynb",
      "provenance": [],
      "collapsed_sections": [],
      "authorship_tag": "ABX9TyN/mnKRHbHYxB/lSeKkY8Ht",
      "include_colab_link": true
    },
    "kernelspec": {
      "name": "python3",
      "display_name": "Python 3"
    }
  },
  "cells": [
    {
      "cell_type": "markdown",
      "metadata": {
        "id": "view-in-github",
        "colab_type": "text"
      },
      "source": [
        "<a href=\"https://colab.research.google.com/github/herculeslyndel/python-for-devops/blob/master/Python_for_DevOps_Chapter_02.ipynb\" target=\"_parent\"><img src=\"https://colab.research.google.com/assets/colab-badge.svg\" alt=\"Open In Colab\"/></a>"
      ]
    },
    {
      "cell_type": "markdown",
      "metadata": {
        "id": "QiOSBCpZ1AUH",
        "colab_type": "text"
      },
      "source": [
        "chapter 2 automating files and file system"
      ]
    },
    {
      "cell_type": "code",
      "metadata": {
        "id": "DCO45wUU0x2P",
        "colab_type": "code",
        "colab": {}
      },
      "source": [
        "chapter 2 automating files and file system"
      ],
      "execution_count": null,
      "outputs": []
    },
    {
      "cell_type": "markdown",
      "metadata": {
        "id": "59N-guFV4sTx",
        "colab_type": "text"
      },
      "source": [
        "```\n",
        "reading\n",
        "writing\n",
        "```"
      ]
    },
    {
      "cell_type": "code",
      "metadata": {
        "id": "wQvLKqO41A6h",
        "colab_type": "code",
        "colab": {}
      },
      "source": [
        "file_path = 'bookofdreams.txt'\n",
        "open_file = open(file_path, 'r')\n",
        "text = open_file.read()"
      ],
      "execution_count": 28,
      "outputs": []
    },
    {
      "cell_type": "code",
      "metadata": {
        "id": "rauludr99ntc",
        "colab_type": "code",
        "colab": {
          "base_uri": "https://localhost:8080/",
          "height": 35
        },
        "outputId": "1d1a4f67-9673-4ff7-c90a-cd1f3ba9a9fb"
      },
      "source": [
        "len_in_P4DO = 476909\n",
        "(len(text)-len_in_P4DO)\n",
        "\n",
        "text[56+(len(text)-len_in_P4DO)]"
      ],
      "execution_count": 29,
      "outputs": [
        {
          "output_type": "execute_result",
          "data": {
            "application/vnd.google.colaboratory.intrinsic": {
              "type": "string"
            },
            "text/plain": [
              "'s'"
            ]
          },
          "metadata": {
            "tags": []
          },
          "execution_count": 29
        }
      ]
    },
    {
      "cell_type": "code",
      "metadata": {
        "id": "3n_GUHtJ-ZxI",
        "colab_type": "code",
        "colab": {
          "base_uri": "https://localhost:8080/",
          "height": 34
        },
        "outputId": "c597f73a-0803-4f01-fcfb-6543ebe4df11"
      },
      "source": [
        "open_file"
      ],
      "execution_count": 30,
      "outputs": [
        {
          "output_type": "execute_result",
          "data": {
            "text/plain": [
              "<_io.TextIOWrapper name='bookofdreams.txt' mode='r' encoding='UTF-8'>"
            ]
          },
          "metadata": {
            "tags": []
          },
          "execution_count": 30
        }
      ]
    },
    {
      "cell_type": "code",
      "metadata": {
        "id": "QaHPIcAfAG2h",
        "colab_type": "code",
        "colab": {}
      },
      "source": [
        "open_file.close()"
      ],
      "execution_count": 31,
      "outputs": []
    },
    {
      "cell_type": "markdown",
      "metadata": {
        "id": "28Vjo4D1AsHN",
        "colab_type": "text"
      },
      "source": [
        "```\n",
        "each line in read lines is a string representing one line read in \n",
        "```"
      ]
    },
    {
      "cell_type": "code",
      "metadata": {
        "id": "AeaTpIWaAXR3",
        "colab_type": "code",
        "colab": {
          "base_uri": "https://localhost:8080/",
          "height": 34
        },
        "outputId": "321885bb-8211-4911-d935-016753cd5ad9"
      },
      "source": [
        "open_file = open(file_path, 'r')\n",
        "text = open_file.readlines()\n",
        "len(text)"
      ],
      "execution_count": 32,
      "outputs": [
        {
          "output_type": "execute_result",
          "data": {
            "text/plain": [
              "8798"
            ]
          },
          "metadata": {
            "tags": []
          },
          "execution_count": 32
        }
      ]
    },
    {
      "cell_type": "code",
      "metadata": {
        "id": "OBvx4UtgAlNf",
        "colab_type": "code",
        "colab": {
          "base_uri": "https://localhost:8080/",
          "height": 158
        },
        "outputId": "4d7eda6f-b2ae-4274-a88f-5593233b4515"
      },
      "source": [
        "for i in range(len(text)):\n",
        "    print(text[i])\n",
        "    if i > 2:\n",
        "        break\n",
        "\n",
        "open_file.close()"
      ],
      "execution_count": 41,
      "outputs": [
        {
          "output_type": "stream",
          "text": [
            "The Project Gutenberg eBook, The Book of Dreams and Ghosts, by Andrew Lang\n",
            "\n",
            "\n",
            "\n",
            "\n",
            "\n",
            "This eBook is for the use of anyone anywhere at no cost and with\n",
            "\n"
          ],
          "name": "stdout"
        }
      ]
    },
    {
      "cell_type": "markdown",
      "metadata": {
        "id": "BZUWd5AWFW2_",
        "colab_type": "text"
      },
      "source": [
        "```\n",
        "with statement auto closes the file\n",
        "```"
      ]
    },
    {
      "cell_type": "code",
      "metadata": {
        "id": "7mlxG0uWAnrv",
        "colab_type": "code",
        "colab": {
          "base_uri": "https://localhost:8080/",
          "height": 35
        },
        "outputId": "ace384be-b5b6-40eb-dcf2-e3aedc8b7d72"
      },
      "source": [
        "with open(file_path, 'r') as open_file:\n",
        "    text = open_file.readlines()\n",
        "text[101]"
      ],
      "execution_count": 45,
      "outputs": [
        {
          "output_type": "execute_result",
          "data": {
            "application/vnd.google.colaboratory.intrinsic": {
              "type": "string"
            },
            "text/plain": [
              "'maniacs at large, sleep-walkers, thieves, and so forth.  Modern\\n'"
            ]
          },
          "metadata": {
            "tags": []
          },
          "execution_count": 45
        }
      ]
    },
    {
      "cell_type": "code",
      "metadata": {
        "id": "9Rcqqy_mFLEV",
        "colab_type": "code",
        "colab": {
          "base_uri": "https://localhost:8080/",
          "height": 34
        },
        "outputId": "95cdf3df-b0b4-49d6-a51d-2dc9ec4f369f"
      },
      "source": [
        "open_file.closed"
      ],
      "execution_count": 44,
      "outputs": [
        {
          "output_type": "execute_result",
          "data": {
            "text/plain": [
              "True"
            ]
          },
          "metadata": {
            "tags": []
          },
          "execution_count": 44
        }
      ]
    },
    {
      "cell_type": "code",
      "metadata": {
        "id": "mxMIadAqFrwH",
        "colab_type": "code",
        "colab": {}
      },
      "source": [
        "line endings represented:\n",
        "    \\n\n",
        "    \\r\\n\n",
        "\n",
        "cannot open jpeg which are binary with 'rt'\n",
        "cannot open txt which are text as 'rb'"
      ],
      "execution_count": null,
      "outputs": []
    },
    {
      "cell_type": "code",
      "metadata": {
        "id": "pjedcwBZGYqs",
        "colab_type": "code",
        "colab": {}
      },
      "source": [
        "file_path = 'bookofdreamsghos00lang.pdf'\n",
        "with open(file_path, 'rb') as open_file:\n",
        "    btext = open_file.read()"
      ],
      "execution_count": 46,
      "outputs": []
    },
    {
      "cell_type": "code",
      "metadata": {
        "id": "1zJuv8a7HFuA",
        "colab_type": "code",
        "colab": {
          "base_uri": "https://localhost:8080/",
          "height": 34
        },
        "outputId": "59278d4d-67a7-4640-ce90-c9e9a9953faf"
      },
      "source": [
        "btext[0], btext[:25]"
      ],
      "execution_count": 48,
      "outputs": [
        {
          "output_type": "execute_result",
          "data": {
            "text/plain": [
              "(37, b'%PDF-1.5\\n%\\xec\\xf5\\xf2\\xe1\\xe4\\xef\\xe3\\xf5\\xed\\xe5\\xee\\xf4\\n18')"
            ]
          },
          "metadata": {
            "tags": []
          },
          "execution_count": 48
        }
      ]
    },
    {
      "cell_type": "markdown",
      "metadata": {
        "id": "eBofQkuoIHAy",
        "colab_type": "text"
      },
      "source": [
        "```\n",
        "setting up environment variables\n",
        "\n",
        "    direnv = tool\n",
        "    .envrc = file\n",
        "    STAGE = environment variable\n",
        "        value = PROD\n",
        "    TABLE_ID = environment variable\n",
        "        value = token-storage-1234\n",
        "```"
      ]
    },
    {
      "cell_type": "code",
      "metadata": {
        "id": "0oUmir6EHhCU",
        "colab_type": "code",
        "colab": {}
      },
      "source": [
        "text = '''export STAGE=PROD\n",
        "export TABLE_ID=token-storage-1234'''\n",
        "with open('.envrc', 'w') as opened_file:\n",
        "    opened_file.write(text)"
      ],
      "execution_count": 49,
      "outputs": []
    },
    {
      "cell_type": "code",
      "metadata": {
        "id": "RDRmEggxI2-g",
        "colab_type": "code",
        "colab": {
          "base_uri": "https://localhost:8080/",
          "height": 176
        },
        "outputId": "7b6ef064-8372-49dc-d84b-57740d463347"
      },
      "source": [
        "!ls -la"
      ],
      "execution_count": 50,
      "outputs": [
        {
          "output_type": "stream",
          "text": [
            "total 20240\n",
            "drwxr-xr-x 1 root root     4096 Jun 27 18:56 .\n",
            "drwxr-xr-x 1 root root     4096 Jun 27 18:04 ..\n",
            "-rw-r--r-- 1 root root 20211721 Jun 27 18:48 bookofdreamsghos00lang.pdf\n",
            "-rw-r--r-- 1 root root   485740 Jun 27 18:06 bookofdreams.txt\n",
            "drwxr-xr-x 1 root root     4096 Jun 25 17:02 .config\n",
            "-rw-r--r-- 1 root root       52 Jun 27 18:56 .envrc\n",
            "-rw-r--r-- 1 root root      592 Jun 27 18:09 header.txt\n",
            "drwxr-xr-x 1 root root     4096 Jun 17 16:18 sample_data\n"
          ],
          "name": "stdout"
        }
      ]
    },
    {
      "cell_type": "code",
      "metadata": {
        "id": "DiYbrKnzI6qD",
        "colab_type": "code",
        "colab": {
          "base_uri": "https://localhost:8080/",
          "height": 52
        },
        "outputId": "26f05aaf-a6fc-48f5-b7ad-a90b6ac9d2f6"
      },
      "source": [
        "!cat .envrc"
      ],
      "execution_count": 51,
      "outputs": [
        {
          "output_type": "stream",
          "text": [
            "export STAGE=PROD\n",
            "export TABLE_ID=token-storage-1234"
          ],
          "name": "stdout"
        }
      ]
    },
    {
      "cell_type": "code",
      "metadata": {
        "id": "1JnNoZlqJ3-I",
        "colab_type": "code",
        "colab": {
          "base_uri": "https://localhost:8080/",
          "height": 34
        },
        "outputId": "25bd4aec-38f5-4321-a98a-058d34aa1127"
      },
      "source": [
        "!pwd"
      ],
      "execution_count": 52,
      "outputs": [
        {
          "output_type": "stream",
          "text": [
            "/content\n"
          ],
          "name": "stdout"
        }
      ]
    },
    {
      "cell_type": "markdown",
      "metadata": {
        "id": "uBk_mrStKQSm",
        "colab_type": "text"
      },
      "source": [
        "```\n",
        "pathlib offers reading and writing file functions too\n",
        "\n",
        "from chapter 1 ending\n",
        "make a text file to read\n",
        "```"
      ]
    },
    {
      "cell_type": "code",
      "metadata": {
        "id": "4jjM-deFKOfl",
        "colab_type": "code",
        "colab": {
          "base_uri": "https://localhost:8080/",
          "height": 34
        },
        "outputId": "0c648480-24cd-49f6-8682-21b95517d7a0"
      },
      "source": [
        "%%writefile print_time.py\n",
        "#!/usr/bin/env_python\n",
        "import datetime\n",
        "print(datetime.datetime.now().time())"
      ],
      "execution_count": 222,
      "outputs": [
        {
          "output_type": "stream",
          "text": [
            "Writing print_time.py\n"
          ],
          "name": "stdout"
        }
      ]
    },
    {
      "cell_type": "code",
      "metadata": {
        "id": "kEx7kU61KVec",
        "colab_type": "code",
        "colab": {
          "base_uri": "https://localhost:8080/",
          "height": 194
        },
        "outputId": "7048a92e-bbe9-44b4-cb40-09e5b45ef7da"
      },
      "source": [
        "!ls -la"
      ],
      "execution_count": 55,
      "outputs": [
        {
          "output_type": "stream",
          "text": [
            "total 20244\n",
            "drwxr-xr-x 1 root root     4096 Jun 27 19:02 .\n",
            "drwxr-xr-x 1 root root     4096 Jun 27 18:04 ..\n",
            "-rw-r--r-- 1 root root 20211721 Jun 27 18:48 bookofdreamsghos00lang.pdf\n",
            "-rw-r--r-- 1 root root   485740 Jun 27 18:06 bookofdreams.txt\n",
            "drwxr-xr-x 1 root root     4096 Jun 25 17:02 .config\n",
            "-rw-r--r-- 1 root root       52 Jun 27 18:56 .envrc\n",
            "-rw-r--r-- 1 root root      592 Jun 27 18:09 header.txt\n",
            "-rw-r--r-- 1 root root       75 Jun 27 19:02 print_time.py\n",
            "drwxr-xr-x 1 root root     4096 Jun 17 16:18 sample_data\n"
          ],
          "name": "stdout"
        }
      ]
    },
    {
      "cell_type": "code",
      "metadata": {
        "id": "99jOxI0AI_s2",
        "colab_type": "code",
        "colab": {
          "base_uri": "https://localhost:8080/",
          "height": 35
        },
        "outputId": "4e2bf729-095c-40e7-de67-00066e3b0435"
      },
      "source": [
        "import pathlib\n",
        "path = pathlib.Path('/content/print_time.py')\n",
        "path.read_text()"
      ],
      "execution_count": 56,
      "outputs": [
        {
          "output_type": "execute_result",
          "data": {
            "application/vnd.google.colaboratory.intrinsic": {
              "type": "string"
            },
            "text/plain": [
              "'#!/usr/bin/env_python\\nimport datetime\\nprint(datetime.datetime.now().time())'"
            ]
          },
          "metadata": {
            "tags": []
          },
          "execution_count": 56
        }
      ]
    },
    {
      "cell_type": "code",
      "metadata": {
        "id": "KNRgEmmwKksq",
        "colab_type": "code",
        "colab": {
          "base_uri": "https://localhost:8080/",
          "height": 54
        },
        "outputId": "c96911ae-abc7-49f7-a033-86f1d834993c"
      },
      "source": [
        "path_b = pathlib.Path('/content/bookofdreamsghos00lang.pdf')\n",
        "bytes1 = path_b.read_bytes()\n",
        "bytes1[:100]"
      ],
      "execution_count": 60,
      "outputs": [
        {
          "output_type": "execute_result",
          "data": {
            "text/plain": [
              "b'%PDF-1.5\\n%\\xec\\xf5\\xf2\\xe1\\xe4\\xef\\xe3\\xf5\\xed\\xe5\\xee\\xf4\\n1865 0 obj\\n<</Linearized 1/L 20211721/H[658 997]/O 1867/E 65208/N 364/T 20174'"
            ]
          },
          "metadata": {
            "tags": []
          },
          "execution_count": 60
        }
      ]
    },
    {
      "cell_type": "code",
      "metadata": {
        "id": "-qMFhWpyL_Wl",
        "colab_type": "code",
        "colab": {
          "base_uri": "https://localhost:8080/",
          "height": 34
        },
        "outputId": "034f8b09-3224-4c55-faa4-29805b4c631d"
      },
      "source": [
        "path_envrc = pathlib.Path('/content/sp/.config')\n",
        "path.write_text(\"LOG:DEBUG\")"
      ],
      "execution_count": 73,
      "outputs": [
        {
          "output_type": "execute_result",
          "data": {
            "text/plain": [
              "9"
            ]
          },
          "metadata": {
            "tags": []
          },
          "execution_count": 73
        }
      ]
    },
    {
      "cell_type": "code",
      "metadata": {
        "id": "oxdX7LIWMRqx",
        "colab_type": "code",
        "colab": {
          "base_uri": "https://localhost:8080/",
          "height": 212
        },
        "outputId": "324ddbb9-ee09-43cb-b5cd-a8fd91b911db"
      },
      "source": [
        "!ls -la"
      ],
      "execution_count": 74,
      "outputs": [
        {
          "output_type": "stream",
          "text": [
            "total 20248\n",
            "drwxr-xr-x 1 root root     4096 Jun 27 19:15 .\n",
            "drwxr-xr-x 1 root root     4096 Jun 27 18:04 ..\n",
            "-rw-r--r-- 1 root root 20211721 Jun 27 18:48 bookofdreamsghos00lang.pdf\n",
            "-rw-r--r-- 1 root root   485740 Jun 27 18:06 bookofdreams.txt\n",
            "drwxr-xr-x 1 root root     4096 Jun 25 17:02 .config\n",
            "-rw-r--r-- 1 root root       52 Jun 27 18:56 .envrc\n",
            "-rw-r--r-- 1 root root      592 Jun 27 18:09 header.txt\n",
            "-rw-r--r-- 1 root root        9 Jun 27 19:14 print_time.py\n",
            "drwxr-xr-x 1 root root     4096 Jun 17 16:18 sample_data\n",
            "-rw-r--r-- 1 root root        9 Jun 27 19:15 sp\n"
          ],
          "name": "stdout"
        }
      ]
    },
    {
      "cell_type": "code",
      "metadata": {
        "id": "mqf15GgHM97Q",
        "colab_type": "code",
        "colab": {}
      },
      "source": [
        "path = pathlib.Path('/content/sp')"
      ],
      "execution_count": 76,
      "outputs": []
    },
    {
      "cell_type": "markdown",
      "metadata": {
        "id": "PrJqzFjsLQF1",
        "colab_type": "text"
      },
      "source": [
        "```\n",
        "json files\n",
        "    not immediately useable\n",
        "    parse into data structures\n",
        "    manually = lots of work\n",
        "    json module helps\n",
        "    pprint helps too\n",
        "\n",
        "    now can use data with original file structure \n",
        "    to e.g. change the resource whose access this policy controls to S3\n",
        "\n",
        "    can write python dict as json file with json.dump\n",
        "```"
      ]
    },
    {
      "cell_type": "code",
      "metadata": {
        "id": "3ZwPo-r0O4gM",
        "colab_type": "code",
        "colab": {}
      },
      "source": [
        "with open('service-policy.json', 'r') as opened_file:\n",
        "    policy = opened_file.readlines()"
      ],
      "execution_count": 77,
      "outputs": []
    },
    {
      "cell_type": "code",
      "metadata": {
        "id": "-_8NVx7JPE8C",
        "colab_type": "code",
        "colab": {
          "base_uri": "https://localhost:8080/",
          "height": 54
        },
        "outputId": "212e59d0-8627-4b76-9bb4-77d52fc635ff"
      },
      "source": [
        "print(policy)"
      ],
      "execution_count": 78,
      "outputs": [
        {
          "output_type": "stream",
          "text": [
            "['{\\n', '    \"Version\": \"2012-10-17\",\\n', '    \"Statement\": {\\n', '        \"Effect\": \"Allow\",\\n', '        \"Action\": \"service-prefix:action-name\",\\n', '        \"Resource\": \"*\",\\n', '        \"Condition\": {\\n', '            \"DateGreaterThan\": \\\\{\"aws:CurrentTime\": \"2017-07-01T00:00:00Z\"},\\n', '            \"DateLessThan\": \\\\{\"aws:CurrentTime\": \"2017-12-31T23:59:59Z\"}\\n', '        }\\n', '    }\\n', '}\\n']\n"
          ],
          "name": "stdout"
        }
      ]
    },
    {
      "cell_type": "code",
      "metadata": {
        "id": "pheACQjVPbrd",
        "colab_type": "code",
        "colab": {
          "base_uri": "https://localhost:8080/",
          "height": 143
        },
        "outputId": "505e9a16-63ea-4b62-a900-bd9ea8b5aa75"
      },
      "source": [
        "import json\n",
        "with open('service-policy.json', 'r') as opened_file:\n",
        "    policy = json.load(opened_file)\n",
        "\n",
        "from pprint import pprint\n",
        "pprint(policy)"
      ],
      "execution_count": 80,
      "outputs": [
        {
          "output_type": "stream",
          "text": [
            "{'Statement': {'Action': 'service-prefix:action-name',\n",
            "               'Condition': {'DateGreaterThan': {'aws:CurrentTime': '2017-07-01T00:00:00Z'},\n",
            "                             'DateLessThan': {'aws:CurrentTime': '2017-12-31T23:59:59Z'}},\n",
            "               'Effect': 'Allow',\n",
            "               'Resource': '*'},\n",
            " 'Version': '2012-10-17'}\n"
          ],
          "name": "stdout"
        }
      ]
    },
    {
      "cell_type": "code",
      "metadata": {
        "id": "E5_SlZwaPr3S",
        "colab_type": "code",
        "colab": {
          "base_uri": "https://localhost:8080/",
          "height": 35
        },
        "outputId": "ff8754c4-53df-4df9-9496-1e47a01bde90"
      },
      "source": [
        "policy['Statement']['Resource']"
      ],
      "execution_count": 81,
      "outputs": [
        {
          "output_type": "execute_result",
          "data": {
            "application/vnd.google.colaboratory.intrinsic": {
              "type": "string"
            },
            "text/plain": [
              "'*'"
            ]
          },
          "metadata": {
            "tags": []
          },
          "execution_count": 81
        }
      ]
    },
    {
      "cell_type": "code",
      "metadata": {
        "id": "_q6Lcs50QpRH",
        "colab_type": "code",
        "colab": {
          "base_uri": "https://localhost:8080/",
          "height": 35
        },
        "outputId": "fe0bdd6b-fa7e-4c7b-da8b-94fae7366137"
      },
      "source": [
        "policy['Statement']['Resource'] = 'S3'\n",
        "policy['Statement']['Resource']"
      ],
      "execution_count": 82,
      "outputs": [
        {
          "output_type": "execute_result",
          "data": {
            "application/vnd.google.colaboratory.intrinsic": {
              "type": "string"
            },
            "text/plain": [
              "'S3'"
            ]
          },
          "metadata": {
            "tags": []
          },
          "execution_count": 82
        }
      ]
    },
    {
      "cell_type": "code",
      "metadata": {
        "id": "6iNmyLdnQvwg",
        "colab_type": "code",
        "colab": {
          "base_uri": "https://localhost:8080/",
          "height": 123
        },
        "outputId": "f2fd23a7-eef9-42f6-f2c5-f00e675e3d2c"
      },
      "source": [
        "policy"
      ],
      "execution_count": 84,
      "outputs": [
        {
          "output_type": "execute_result",
          "data": {
            "text/plain": [
              "{'Statement': {'Action': 'service-prefix:action-name',\n",
              "  'Condition': {'DateGreaterThan': {'aws:CurrentTime': '2017-07-01T00:00:00Z'},\n",
              "   'DateLessThan': {'aws:CurrentTime': '2017-12-31T23:59:59Z'}},\n",
              "  'Effect': 'Allow',\n",
              "  'Resource': 'S3'},\n",
              " 'Version': '2012-10-17'}"
            ]
          },
          "metadata": {
            "tags": []
          },
          "execution_count": 84
        }
      ]
    },
    {
      "cell_type": "code",
      "metadata": {
        "id": "7EhRLI_8Q5Es",
        "colab_type": "code",
        "colab": {
          "base_uri": "https://localhost:8080/",
          "height": 54
        },
        "outputId": "a90dfdaf-1cd7-4ed7-b3a3-ff6c3a2e1be8"
      },
      "source": [
        "print(policy)"
      ],
      "execution_count": 86,
      "outputs": [
        {
          "output_type": "stream",
          "text": [
            "{'Version': '2012-10-17', 'Statement': {'Effect': 'Allow', 'Action': 'service-prefix:action-name', 'Resource': 'S3', 'Condition': {'DateGreaterThan': {'aws:CurrentTime': '2017-07-01T00:00:00Z'}, 'DateLessThan': {'aws:CurrentTime': '2017-12-31T23:59:59Z'}}}}\n"
          ],
          "name": "stdout"
        }
      ]
    },
    {
      "cell_type": "code",
      "metadata": {
        "id": "UU-ydfHLQwZ2",
        "colab_type": "code",
        "colab": {
          "base_uri": "https://localhost:8080/",
          "height": 143
        },
        "outputId": "ba4eec58-e06a-4deb-b75a-e541ae23f402"
      },
      "source": [
        "pprint(policy)"
      ],
      "execution_count": 85,
      "outputs": [
        {
          "output_type": "stream",
          "text": [
            "{'Statement': {'Action': 'service-prefix:action-name',\n",
            "               'Condition': {'DateGreaterThan': {'aws:CurrentTime': '2017-07-01T00:00:00Z'},\n",
            "                             'DateLessThan': {'aws:CurrentTime': '2017-12-31T23:59:59Z'}},\n",
            "               'Effect': 'Allow',\n",
            "               'Resource': 'S3'},\n",
            " 'Version': '2012-10-17'}\n"
          ],
          "name": "stdout"
        }
      ]
    },
    {
      "cell_type": "markdown",
      "metadata": {
        "id": "iNphJupVRbHj",
        "colab_type": "text"
      },
      "source": [
        "```\n",
        "writing that 'S3' update to the json file\n",
        "```"
      ]
    },
    {
      "cell_type": "code",
      "metadata": {
        "id": "GXztAW07Q7b6",
        "colab_type": "code",
        "colab": {}
      },
      "source": [
        "with open('service-policy.json', 'w') as opened_file:\n",
        "    policy = json.dump(policy, opened_file)"
      ],
      "execution_count": 87,
      "outputs": []
    },
    {
      "cell_type": "markdown",
      "metadata": {
        "id": "Yyw70yzaYOp7",
        "colab_type": "text"
      },
      "source": [
        "```\n",
        "YAML\n",
        "    superset of JSON\n",
        "    PyYAML parses YAML files\n",
        "    Ansible \n",
        "        automates software config, mgt, deployment\n",
        "        playbooks are names for Ansible files\n",
        "            define actions to automate\n",
        "            use YAML format\n",
        "\n",
        "    PyYAML imports and exports YAML data\n",
        "\n",
        "    save Python data to file in YAML format \n",
        "```"
      ]
    },
    {
      "cell_type": "code",
      "metadata": {
        "id": "FdjHSKEQRSei",
        "colab_type": "code",
        "colab": {}
      },
      "source": [
        "import yaml\n",
        "with open('verify-apache.yml', 'r') as opened_file:\n",
        "    verify_apache = yaml.safe_load(opened_file)"
      ],
      "execution_count": 89,
      "outputs": []
    },
    {
      "cell_type": "code",
      "metadata": {
        "id": "4ElXdAcWb68_",
        "colab_type": "code",
        "colab": {
          "base_uri": "https://localhost:8080/",
          "height": 105
        },
        "outputId": "bd22a2a0-64e5-49c5-c153-2191b3fe1f12"
      },
      "source": [
        "pprint(verify_apache)"
      ],
      "execution_count": 91,
      "outputs": [
        {
          "output_type": "stream",
          "text": [
            "[{'hosts': 'webservers',\n",
            "  'remote_user': 'root',\n",
            "  'tasks': [{'name': 'ensure apache is at the latest version',\n",
            "             'yum': {'name': 'httpd', 'state': 'latest'}}],\n",
            "  'vars': {'http_port': 80, 'max_clients': 200}}]\n"
          ],
          "name": "stdout"
        }
      ]
    },
    {
      "cell_type": "code",
      "metadata": {
        "id": "RDvl5D9IcURv",
        "colab_type": "code",
        "colab": {}
      },
      "source": [
        "with open('verify_apache.yml', 'w') as opened_file:\n",
        "          yaml.dump(verify_apache, opened_file)"
      ],
      "execution_count": 92,
      "outputs": []
    },
    {
      "cell_type": "markdown",
      "metadata": {
        "id": "rrpPxD-ndfle",
        "colab_type": "text"
      },
      "source": [
        "```\n",
        "XML is another language for structured data represetation.\n",
        "\n",
        "Extensible Markup Language\n",
        "\n",
        "    historically a transport language\n",
        "        Real Simple Syndication feeds\n",
        "        RSS\n",
        "        track n notivy users of website updates\n",
        "\n",
        "    maps XML doc hierarchical structure to tree hierarchy\n",
        "        root = top\n",
        "            parent - child relationships \n",
        "\n",
        "    can walk down tree by iterating over child nodes"
      ]
    },
    {
      "cell_type": "code",
      "metadata": {
        "id": "Sx3XyOWeh9NR",
        "colab_type": "code",
        "colab": {
          "base_uri": "https://localhost:8080/",
          "height": 355
        },
        "outputId": "9d2f5f1a-caa9-4c43-ed85-b453f5dd7600"
      },
      "source": [
        "import xml.etree.ElementTree as ET\n",
        "tree = ET.parse('http_feeds.feedburner.com_oreilly_radar_atom.xml')"
      ],
      "execution_count": 111,
      "outputs": [
        {
          "output_type": "error",
          "ename": "FileNotFoundError",
          "evalue": "ignored",
          "traceback": [
            "\u001b[0;31m---------------------------------------------------------------------------\u001b[0m",
            "\u001b[0;31mFileNotFoundError\u001b[0m                         Traceback (most recent call last)",
            "\u001b[0;32m<ipython-input-111-8ee0a2af3a73>\u001b[0m in \u001b[0;36m<module>\u001b[0;34m()\u001b[0m\n\u001b[1;32m      1\u001b[0m \u001b[0;32mimport\u001b[0m \u001b[0mxml\u001b[0m\u001b[0;34m.\u001b[0m\u001b[0metree\u001b[0m\u001b[0;34m.\u001b[0m\u001b[0mElementTree\u001b[0m \u001b[0;32mas\u001b[0m \u001b[0mET\u001b[0m\u001b[0;34m\u001b[0m\u001b[0;34m\u001b[0m\u001b[0m\n\u001b[0;32m----> 2\u001b[0;31m \u001b[0mtree\u001b[0m \u001b[0;34m=\u001b[0m \u001b[0mET\u001b[0m\u001b[0;34m.\u001b[0m\u001b[0mparse\u001b[0m\u001b[0;34m(\u001b[0m\u001b[0;34m'http_feeds.feedburner.com_oreilly_radar_atom.xml'\u001b[0m\u001b[0;34m)\u001b[0m\u001b[0;34m\u001b[0m\u001b[0;34m\u001b[0m\u001b[0m\n\u001b[0m",
            "\u001b[0;32m/usr/lib/python3.6/xml/etree/ElementTree.py\u001b[0m in \u001b[0;36mparse\u001b[0;34m(source, parser)\u001b[0m\n\u001b[1;32m   1194\u001b[0m     \"\"\"\n\u001b[1;32m   1195\u001b[0m     \u001b[0mtree\u001b[0m \u001b[0;34m=\u001b[0m \u001b[0mElementTree\u001b[0m\u001b[0;34m(\u001b[0m\u001b[0;34m)\u001b[0m\u001b[0;34m\u001b[0m\u001b[0;34m\u001b[0m\u001b[0m\n\u001b[0;32m-> 1196\u001b[0;31m     \u001b[0mtree\u001b[0m\u001b[0;34m.\u001b[0m\u001b[0mparse\u001b[0m\u001b[0;34m(\u001b[0m\u001b[0msource\u001b[0m\u001b[0;34m,\u001b[0m \u001b[0mparser\u001b[0m\u001b[0;34m)\u001b[0m\u001b[0;34m\u001b[0m\u001b[0;34m\u001b[0m\u001b[0m\n\u001b[0m\u001b[1;32m   1197\u001b[0m     \u001b[0;32mreturn\u001b[0m \u001b[0mtree\u001b[0m\u001b[0;34m\u001b[0m\u001b[0;34m\u001b[0m\u001b[0m\n\u001b[1;32m   1198\u001b[0m \u001b[0;34m\u001b[0m\u001b[0m\n",
            "\u001b[0;32m/usr/lib/python3.6/xml/etree/ElementTree.py\u001b[0m in \u001b[0;36mparse\u001b[0;34m(self, source, parser)\u001b[0m\n\u001b[1;32m    584\u001b[0m         \u001b[0mclose_source\u001b[0m \u001b[0;34m=\u001b[0m \u001b[0;32mFalse\u001b[0m\u001b[0;34m\u001b[0m\u001b[0;34m\u001b[0m\u001b[0m\n\u001b[1;32m    585\u001b[0m         \u001b[0;32mif\u001b[0m \u001b[0;32mnot\u001b[0m \u001b[0mhasattr\u001b[0m\u001b[0;34m(\u001b[0m\u001b[0msource\u001b[0m\u001b[0;34m,\u001b[0m \u001b[0;34m\"read\"\u001b[0m\u001b[0;34m)\u001b[0m\u001b[0;34m:\u001b[0m\u001b[0;34m\u001b[0m\u001b[0;34m\u001b[0m\u001b[0m\n\u001b[0;32m--> 586\u001b[0;31m             \u001b[0msource\u001b[0m \u001b[0;34m=\u001b[0m \u001b[0mopen\u001b[0m\u001b[0;34m(\u001b[0m\u001b[0msource\u001b[0m\u001b[0;34m,\u001b[0m \u001b[0;34m\"rb\"\u001b[0m\u001b[0;34m)\u001b[0m\u001b[0;34m\u001b[0m\u001b[0;34m\u001b[0m\u001b[0m\n\u001b[0m\u001b[1;32m    587\u001b[0m             \u001b[0mclose_source\u001b[0m \u001b[0;34m=\u001b[0m \u001b[0;32mTrue\u001b[0m\u001b[0;34m\u001b[0m\u001b[0;34m\u001b[0m\u001b[0m\n\u001b[1;32m    588\u001b[0m         \u001b[0;32mtry\u001b[0m\u001b[0;34m:\u001b[0m\u001b[0;34m\u001b[0m\u001b[0;34m\u001b[0m\u001b[0m\n",
            "\u001b[0;31mFileNotFoundError\u001b[0m: [Errno 2] No such file or directory: 'http_feeds.feedburner.com_oreilly_radar_atom.xml'"
          ]
        }
      ]
    },
    {
      "cell_type": "markdown",
      "metadata": {
        "id": "MKEN8g_AkdCx",
        "colab_type": "text"
      },
      "source": [
        "```\n",
        "fuck this. another author who doesnt get that writing code in a book that doesnt work is counter productive.\n",
        "```"
      ]
    },
    {
      "cell_type": "markdown",
      "metadata": {
        "id": "KDwrHRNHkqIb",
        "colab_type": "text"
      },
      "source": [
        "```\n",
        "regular expression to search text\n",
        "\n",
        "apache http server \n",
        "    open source server of web content\n",
        "    saves log files \n",
        "        common format log files = Common Log Format CLF\n",
        "        log analysis tools understand this format\n",
        "\n",
        "        search for IP or time\n",
        "        search for multiple items\n",
        "```"
      ]
    },
    {
      "cell_type": "code",
      "metadata": {
        "id": "_PlGcImCiJEi",
        "colab_type": "code",
        "colab": {
          "base_uri": "https://localhost:8080/",
          "height": 35
        },
        "outputId": "7a7d0307-f2ff-48d3-9076-773142db59a6"
      },
      "source": [
        "import re\n",
        "line = '127.0.0.1 - rj [13/Nov/2019:14:34:30] \"GET HTTP/1.0\" 200'\n",
        "\n",
        "m = re.search(r'(?P<IP>\\d+\\.\\d+\\.\\d+)', line)\n",
        "m.group('IP')"
      ],
      "execution_count": 109,
      "outputs": [
        {
          "output_type": "execute_result",
          "data": {
            "application/vnd.google.colaboratory.intrinsic": {
              "type": "string"
            },
            "text/plain": [
              "'127.0.0'"
            ]
          },
          "metadata": {
            "tags": []
          },
          "execution_count": 109
        }
      ]
    },
    {
      "cell_type": "code",
      "metadata": {
        "id": "QVdsvJfjlyJ6",
        "colab_type": "code",
        "colab": {
          "base_uri": "https://localhost:8080/",
          "height": 34
        },
        "outputId": "e2beea3f-b46a-426d-b5e8-5b751fd17ed3"
      },
      "source": [
        "r = r'\\[(?P<Time>\\d\\d/\\w{3}/\\d{4}:\\d{2}:\\d{2}:\\d{2})\\]'\n",
        "re.search(r, line)"
      ],
      "execution_count": 110,
      "outputs": [
        {
          "output_type": "execute_result",
          "data": {
            "text/plain": [
              "<_sre.SRE_Match object; span=(15, 37), match='[13/Nov/2019:14:34:30]'>"
            ]
          },
          "metadata": {
            "tags": []
          },
          "execution_count": 110
        }
      ]
    },
    {
      "cell_type": "code",
      "metadata": {
        "id": "CAjZ43bpnQFJ",
        "colab_type": "code",
        "colab": {
          "base_uri": "https://localhost:8080/",
          "height": 35
        },
        "outputId": "c3d32895-0da6-4e78-bc20-550660b4bc5b"
      },
      "source": [
        "m = re.search(r, line)\n",
        "m.group('Time')\n"
      ],
      "execution_count": 112,
      "outputs": [
        {
          "output_type": "execute_result",
          "data": {
            "application/vnd.google.colaboratory.intrinsic": {
              "type": "string"
            },
            "text/plain": [
              "'13/Nov/2019:14:34:30'"
            ]
          },
          "metadata": {
            "tags": []
          },
          "execution_count": 112
        }
      ]
    },
    {
      "cell_type": "code",
      "metadata": {
        "id": "dgxMozG5vHk_",
        "colab_type": "code",
        "colab": {
          "base_uri": "https://localhost:8080/",
          "height": 54
        },
        "outputId": "336c85e7-e3e7-4f83-ed6b-0a3bb9e14917"
      },
      "source": [
        "r = r'(?P<IP>\\d+\\.\\d+\\.\\d+\\.\\d+)'\n",
        "\n",
        "r += r' - (?P<User>\\w+) '\n",
        "\n",
        "r += r'\\[(?P<Time>\\d\\d/\\w{3}/\\d{4}:\\d{2}:\\d{2}:\\d{2})\\]'\n",
        "\n",
        "r += r' (?P<Request>\".+\")'\n",
        "\n",
        "m = re.search(r, line)\n",
        "m"
      ],
      "execution_count": 114,
      "outputs": [
        {
          "output_type": "execute_result",
          "data": {
            "text/plain": [
              "<_sre.SRE_Match object; span=(0, 52), match='127.0.0.1 - rj [13/Nov/2019:14:34:30] \"GET HTTP/1>"
            ]
          },
          "metadata": {
            "tags": []
          },
          "execution_count": 114
        }
      ]
    },
    {
      "cell_type": "code",
      "metadata": {
        "id": "HLNXVwYIvo83",
        "colab_type": "code",
        "colab": {
          "base_uri": "https://localhost:8080/",
          "height": 35
        },
        "outputId": "9bf9f07e-3d4b-4408-9481-22a574c2bd17"
      },
      "source": [
        "m.group('IP')"
      ],
      "execution_count": 115,
      "outputs": [
        {
          "output_type": "execute_result",
          "data": {
            "application/vnd.google.colaboratory.intrinsic": {
              "type": "string"
            },
            "text/plain": [
              "'127.0.0.1'"
            ]
          },
          "metadata": {
            "tags": []
          },
          "execution_count": 115
        }
      ]
    },
    {
      "cell_type": "code",
      "metadata": {
        "id": "J9F8nKrlvxfZ",
        "colab_type": "code",
        "colab": {
          "base_uri": "https://localhost:8080/",
          "height": 35
        },
        "outputId": "cd0a7f3e-cab7-4c45-a40e-498a827307c3"
      },
      "source": [
        "m.group('User')"
      ],
      "execution_count": 116,
      "outputs": [
        {
          "output_type": "execute_result",
          "data": {
            "application/vnd.google.colaboratory.intrinsic": {
              "type": "string"
            },
            "text/plain": [
              "'rj'"
            ]
          },
          "metadata": {
            "tags": []
          },
          "execution_count": 116
        }
      ]
    },
    {
      "cell_type": "code",
      "metadata": {
        "id": "wT3bXL8lv2lB",
        "colab_type": "code",
        "colab": {
          "base_uri": "https://localhost:8080/",
          "height": 35
        },
        "outputId": "d77a999e-f6fe-4db4-9941-92293159cae5"
      },
      "source": [
        "m.group('Time')"
      ],
      "execution_count": 117,
      "outputs": [
        {
          "output_type": "execute_result",
          "data": {
            "application/vnd.google.colaboratory.intrinsic": {
              "type": "string"
            },
            "text/plain": [
              "'13/Nov/2019:14:34:30'"
            ]
          },
          "metadata": {
            "tags": []
          },
          "execution_count": 117
        }
      ]
    },
    {
      "cell_type": "code",
      "metadata": {
        "id": "bzvUK89sv5pK",
        "colab_type": "code",
        "colab": {
          "base_uri": "https://localhost:8080/",
          "height": 35
        },
        "outputId": "55bd06e0-5b76-4191-8483-73734ddea5ef"
      },
      "source": [
        "m.group('Request')"
      ],
      "execution_count": 118,
      "outputs": [
        {
          "output_type": "execute_result",
          "data": {
            "application/vnd.google.colaboratory.intrinsic": {
              "type": "string"
            },
            "text/plain": [
              "'\"GET HTTP/1.0\"'"
            ]
          },
          "metadata": {
            "tags": []
          },
          "execution_count": 118
        }
      ]
    },
    {
      "cell_type": "markdown",
      "metadata": {
        "id": "4gCzvQXR4GCN",
        "colab_type": "text"
      },
      "source": [
        "```\n",
        "dealing with large files\n",
        "    by reading and processing one line at a time\n",
        "    means python handles line endings \n",
        "        Windows \\r \\r\n",
        "        OSX \\n\n",
        "nesting with statements\n",
        "```"
      ]
    },
    {
      "cell_type": "code",
      "metadata": {
        "id": "FZLpelRAwHeE",
        "colab_type": "code",
        "colab": {}
      },
      "source": [
        "with open('big-data.txt', 'r') as source_file:\n",
        "    with open('big-data-corrected.txt', 'w') as target_file:\n",
        "        for line in source_file:\n",
        "            target_file.write(line)"
      ],
      "execution_count": null,
      "outputs": []
    },
    {
      "cell_type": "code",
      "metadata": {
        "id": "rA7FMoMp6enK",
        "colab_type": "code",
        "colab": {}
      },
      "source": [
        "def line_reader(file_path):\n",
        "    with open(file_path, 'r') as source_file:\n",
        "        for line in source_file:\n",
        "            yield line"
      ],
      "execution_count": 119,
      "outputs": []
    },
    {
      "cell_type": "code",
      "metadata": {
        "id": "R6UWBH1v6p78",
        "colab_type": "code",
        "colab": {
          "base_uri": "https://localhost:8080/",
          "height": 346
        },
        "outputId": "921f32b0-fa91-45dd-d1e3-79f26711e3d5"
      },
      "source": [
        "reader = line_reader('big-data.txt')\n",
        "with open('big-data-corrected.txt', 'w') as target_file:\n",
        "    for line in reader:\n",
        "        target_file.write(line)"
      ],
      "execution_count": 120,
      "outputs": [
        {
          "output_type": "error",
          "ename": "FileNotFoundError",
          "evalue": "ignored",
          "traceback": [
            "\u001b[0;31m---------------------------------------------------------------------------\u001b[0m",
            "\u001b[0;31mFileNotFoundError\u001b[0m                         Traceback (most recent call last)",
            "\u001b[0;32m<ipython-input-120-ed5645b9cd78>\u001b[0m in \u001b[0;36m<module>\u001b[0;34m()\u001b[0m\n\u001b[1;32m      1\u001b[0m \u001b[0mreader\u001b[0m \u001b[0;34m=\u001b[0m \u001b[0mline_reader\u001b[0m\u001b[0;34m(\u001b[0m\u001b[0;34m'big-data.txt'\u001b[0m\u001b[0;34m)\u001b[0m\u001b[0;34m\u001b[0m\u001b[0;34m\u001b[0m\u001b[0m\n\u001b[1;32m      2\u001b[0m \u001b[0;32mwith\u001b[0m \u001b[0mopen\u001b[0m\u001b[0;34m(\u001b[0m\u001b[0;34m'big-data-corrected.txt'\u001b[0m\u001b[0;34m,\u001b[0m \u001b[0;34m'w'\u001b[0m\u001b[0;34m)\u001b[0m \u001b[0;32mas\u001b[0m \u001b[0mtarget_file\u001b[0m\u001b[0;34m:\u001b[0m\u001b[0;34m\u001b[0m\u001b[0;34m\u001b[0m\u001b[0m\n\u001b[0;32m----> 3\u001b[0;31m     \u001b[0;32mfor\u001b[0m \u001b[0mline\u001b[0m \u001b[0;32min\u001b[0m \u001b[0mreader\u001b[0m\u001b[0;34m:\u001b[0m\u001b[0;34m\u001b[0m\u001b[0;34m\u001b[0m\u001b[0m\n\u001b[0m\u001b[1;32m      4\u001b[0m         \u001b[0mtarget_file\u001b[0m\u001b[0;34m.\u001b[0m\u001b[0mwrite\u001b[0m\u001b[0;34m(\u001b[0m\u001b[0mline\u001b[0m\u001b[0;34m)\u001b[0m\u001b[0;34m\u001b[0m\u001b[0;34m\u001b[0m\u001b[0m\n\u001b[1;32m      5\u001b[0m \u001b[0;34m\u001b[0m\u001b[0m\n",
            "\u001b[0;32m<ipython-input-119-af16309223dc>\u001b[0m in \u001b[0;36mline_reader\u001b[0;34m(file_path)\u001b[0m\n\u001b[1;32m      1\u001b[0m \u001b[0;32mdef\u001b[0m \u001b[0mline_reader\u001b[0m\u001b[0;34m(\u001b[0m\u001b[0mfile_path\u001b[0m\u001b[0;34m)\u001b[0m\u001b[0;34m:\u001b[0m\u001b[0;34m\u001b[0m\u001b[0;34m\u001b[0m\u001b[0m\n\u001b[0;32m----> 2\u001b[0;31m     \u001b[0;32mwith\u001b[0m \u001b[0mopen\u001b[0m\u001b[0;34m(\u001b[0m\u001b[0mfile_path\u001b[0m\u001b[0;34m,\u001b[0m \u001b[0;34m'r'\u001b[0m\u001b[0;34m)\u001b[0m \u001b[0;32mas\u001b[0m \u001b[0msource_file\u001b[0m\u001b[0;34m:\u001b[0m\u001b[0;34m\u001b[0m\u001b[0;34m\u001b[0m\u001b[0m\n\u001b[0m\u001b[1;32m      3\u001b[0m         \u001b[0;32mfor\u001b[0m \u001b[0mline\u001b[0m \u001b[0;32min\u001b[0m \u001b[0msource_file\u001b[0m\u001b[0;34m:\u001b[0m\u001b[0;34m\u001b[0m\u001b[0;34m\u001b[0m\u001b[0m\n\u001b[1;32m      4\u001b[0m             \u001b[0;32myield\u001b[0m \u001b[0mline\u001b[0m\u001b[0;34m\u001b[0m\u001b[0;34m\u001b[0m\u001b[0m\n",
            "\u001b[0;31mFileNotFoundError\u001b[0m: [Errno 2] No such file or directory: 'big-data.txt'"
          ]
        }
      ]
    },
    {
      "cell_type": "code",
      "metadata": {
        "id": "LDB9u2V668DL",
        "colab_type": "code",
        "colab": {}
      },
      "source": [
        "with open('bb141548a754113e.jpg', 'rb') as source_file:\n",
        "    while True:\n",
        "        chunk = source_file.read(1024)\n",
        "        if chunk:\n",
        "            process_data(chunk)\n",
        "        else:\n",
        "            break"
      ],
      "execution_count": null,
      "outputs": []
    },
    {
      "cell_type": "markdown",
      "metadata": {
        "id": "yKacg4f68r0c",
        "colab_type": "text"
      },
      "source": [
        "```\n",
        "encrypting text\n",
        "    \n",
        "    hash function = one way function encrypts to bit string\n",
        "        encrupt passwords\n",
        "        ensure pdf are unchd during transmission\n",
        "            hash on the document before\n",
        "            send result with document\n",
        "            recipient hashes doc when it arrives\n",
        "            ensures it is the same \n",
        "\n",
        "    hashlib\n",
        "        does the document transmission algorithm\n",
        "            SHA1\n",
        "            SHA224\n",
        "            SHA512\n",
        "            RSA MD5\n",
        "\n",
        "    cryptography\n",
        "        symmetric key encryption\n",
        "            for shared keys\n",
        "            algorithms\n",
        "                AES\n",
        "                fernet\n",
        "                blowfish\n",
        "                DES\n",
        "                Serpent\n",
        "                twofish\n",
        "            save keys in binary format\n",
        "                anyone with key can open\n",
        "        asymmetric key encryption\n",
        "```"
      ]
    },
    {
      "cell_type": "code",
      "metadata": {
        "id": "SDZjYAz98wJ2",
        "colab_type": "code",
        "colab": {
          "base_uri": "https://localhost:8080/",
          "height": 34
        },
        "outputId": "1a9b1046-e362-48e8-dfc4-20a517cbc114"
      },
      "source": [
        "import hashlib\n",
        "secret = 'this is the document or the password.'\n",
        "bsecret = secret.encode()\n",
        "bsecret"
      ],
      "execution_count": 127,
      "outputs": [
        {
          "output_type": "execute_result",
          "data": {
            "text/plain": [
              "b'this is the document or the password.'"
            ]
          },
          "metadata": {
            "tags": []
          },
          "execution_count": 127
        }
      ]
    },
    {
      "cell_type": "code",
      "metadata": {
        "id": "GuiI1r47-EcT",
        "colab_type": "code",
        "colab": {
          "base_uri": "https://localhost:8080/",
          "height": 34
        },
        "outputId": "2f696d3c-0b2d-4a4b-e2d0-8cba033852de"
      },
      "source": [
        "type(bsecret)"
      ],
      "execution_count": 128,
      "outputs": [
        {
          "output_type": "execute_result",
          "data": {
            "text/plain": [
              "bytes"
            ]
          },
          "metadata": {
            "tags": []
          },
          "execution_count": 128
        }
      ]
    },
    {
      "cell_type": "code",
      "metadata": {
        "id": "coHzDjze-lfY",
        "colab_type": "code",
        "colab": {
          "base_uri": "https://localhost:8080/",
          "height": 34
        },
        "outputId": "51611ee8-b7ff-42a3-ebbe-46f9685a9f83"
      },
      "source": [
        "m = hashlib.md5()\n",
        "m.update(bsecret)\n",
        "m.digest()"
      ],
      "execution_count": 131,
      "outputs": [
        {
          "output_type": "execute_result",
          "data": {
            "text/plain": [
              "b'\\x03\\xf3Y\\x08\\xee\\x9b\\xf1\\x03\\xcb\\x8b\\xe7\\xe8\\xbb\\xcc\\x8e\\xd3'"
            ]
          },
          "metadata": {
            "tags": []
          },
          "execution_count": 131
        }
      ]
    },
    {
      "cell_type": "code",
      "metadata": {
        "id": "yIYfxkNI-5J7",
        "colab_type": "code",
        "colab": {
          "base_uri": "https://localhost:8080/",
          "height": 178
        },
        "outputId": "3fdeac76-65b9-4db3-e2ae-1439b12c7d8d"
      },
      "source": [
        "!pip install cryptography\n",
        "from cryptography.fernet import Fernet"
      ],
      "execution_count": 134,
      "outputs": [
        {
          "output_type": "stream",
          "text": [
            "Collecting cryptography\n",
            "\u001b[?25l  Downloading https://files.pythonhosted.org/packages/3c/04/686efee2dcdd25aecf357992e7d9362f443eb182ecd623f882bc9f7a6bba/cryptography-2.9.2-cp35-abi3-manylinux2010_x86_64.whl (2.7MB)\n",
            "\u001b[K     |████████████████████████████████| 2.7MB 4.7MB/s \n",
            "\u001b[?25hRequirement already satisfied: cffi!=1.11.3,>=1.8 in /usr/local/lib/python3.6/dist-packages (from cryptography) (1.14.0)\n",
            "Requirement already satisfied: six>=1.4.1 in /usr/local/lib/python3.6/dist-packages (from cryptography) (1.12.0)\n",
            "Requirement already satisfied: pycparser in /usr/local/lib/python3.6/dist-packages (from cffi!=1.11.3,>=1.8->cryptography) (2.20)\n",
            "Installing collected packages: cryptography\n",
            "Successfully installed cryptography-2.9.2\n"
          ],
          "name": "stdout"
        }
      ]
    },
    {
      "cell_type": "code",
      "metadata": {
        "id": "5PoecD0RAixo",
        "colab_type": "code",
        "colab": {
          "base_uri": "https://localhost:8080/",
          "height": 34
        },
        "outputId": "1f9b1694-ea3d-4715-eb76-a3f5ea6dde91"
      },
      "source": [
        "key = Fernet.generate_key()\n",
        "key"
      ],
      "execution_count": 135,
      "outputs": [
        {
          "output_type": "execute_result",
          "data": {
            "text/plain": [
              "b'nZKIgMjcIBHWNsnBIZ_vmzLNedGOaHlDo4d4jXgD14E='"
            ]
          },
          "metadata": {
            "tags": []
          },
          "execution_count": 135
        }
      ]
    },
    {
      "cell_type": "code",
      "metadata": {
        "id": "cMuC9WtsAyKU",
        "colab_type": "code",
        "colab": {
          "base_uri": "https://localhost:8080/",
          "height": 72
        },
        "outputId": "70fd8f0e-bc62-4427-cb8b-96418e0dd01d"
      },
      "source": [
        "f = Fernet(key)\n",
        "print(f)\n",
        "message = b'Secrets go here'\n",
        "encrypted = f.encrypt(message)\n",
        "encrypted"
      ],
      "execution_count": 137,
      "outputs": [
        {
          "output_type": "stream",
          "text": [
            "<cryptography.fernet.Fernet object at 0x7efc04895c88>\n"
          ],
          "name": "stdout"
        },
        {
          "output_type": "execute_result",
          "data": {
            "text/plain": [
              "b'gAAAAABe99A7x8BtiTV6xQ7vA5GQ8zyntWFVA5uohg0xXpcbEWplmd28Wsk2Ojka-4tyP6IHHVqUn90y31itYGO1wM8Sj4Lv7g=='"
            ]
          },
          "metadata": {
            "tags": []
          },
          "execution_count": 137
        }
      ]
    },
    {
      "cell_type": "code",
      "metadata": {
        "id": "jNAkRAu5BPbQ",
        "colab_type": "code",
        "colab": {
          "base_uri": "https://localhost:8080/",
          "height": 52
        },
        "outputId": "88f0aa03-76a1-4cca-c61a-ae020a47db7c"
      },
      "source": [
        "f = Fernet(key)\n",
        "print(f)\n",
        "f.decrypt(encrypted)"
      ],
      "execution_count": 139,
      "outputs": [
        {
          "output_type": "stream",
          "text": [
            "<cryptography.fernet.Fernet object at 0x7efc05ce4d68>\n"
          ],
          "name": "stdout"
        },
        {
          "output_type": "execute_result",
          "data": {
            "text/plain": [
              "b'Secrets go here'"
            ]
          },
          "metadata": {
            "tags": []
          },
          "execution_count": 139
        }
      ]
    },
    {
      "cell_type": "code",
      "metadata": {
        "id": "pxQ2KPZEBZW1",
        "colab_type": "code",
        "colab": {
          "base_uri": "https://localhost:8080/",
          "height": 34
        },
        "outputId": "d6a00589-44c2-407f-a1f5-3a19f920335d"
      },
      "source": [
        "from cryptography.hazmat.backends import default_backend\n",
        "from cryptography.hazmat.primitives.asymmetric import rsa\n",
        "private_key = rsa.generate_private_key(public_exponent=65537,\n",
        "                                       key_size=4096,\n",
        "                                       backend=default_backend())\n",
        "private_key"
      ],
      "execution_count": 140,
      "outputs": [
        {
          "output_type": "execute_result",
          "data": {
            "text/plain": [
              "<cryptography.hazmat.backends.openssl.rsa._RSAPrivateKey at 0x7efc05caecc0>"
            ]
          },
          "metadata": {
            "tags": []
          },
          "execution_count": 140
        }
      ]
    },
    {
      "cell_type": "code",
      "metadata": {
        "id": "DGddY7_PCyvm",
        "colab_type": "code",
        "colab": {
          "base_uri": "https://localhost:8080/",
          "height": 54
        },
        "outputId": "19a300e4-71db-4635-db3a-818e94ccf60c"
      },
      "source": [
        "public_key = private_key.public_key\n",
        "public_key"
      ],
      "execution_count": 143,
      "outputs": [
        {
          "output_type": "execute_result",
          "data": {
            "text/plain": [
              "<bound method _RSAPrivateKey.public_key of <cryptography.hazmat.backends.openssl.rsa._RSAPrivateKey object at 0x7efc05caecc0>>"
            ]
          },
          "metadata": {
            "tags": []
          },
          "execution_count": 143
        }
      ]
    },
    {
      "cell_type": "code",
      "metadata": {
        "id": "2ctxQpZnC6AX",
        "colab_type": "code",
        "colab": {
          "base_uri": "https://localhost:8080/",
          "height": 34
        },
        "outputId": "5e11e871-785f-4ac8-f9ed-781456e2a6ba"
      },
      "source": [
        "public_key = private_key.public_key()\n",
        "public_key"
      ],
      "execution_count": 144,
      "outputs": [
        {
          "output_type": "execute_result",
          "data": {
            "text/plain": [
              "<cryptography.hazmat.backends.openssl.rsa._RSAPublicKey at 0x7efc05ce4b70>"
            ]
          },
          "metadata": {
            "tags": []
          },
          "execution_count": 144
        }
      ]
    },
    {
      "cell_type": "code",
      "metadata": {
        "id": "CO3Pp67nDBck",
        "colab_type": "code",
        "colab": {
          "base_uri": "https://localhost:8080/",
          "height": 34
        },
        "outputId": "2c300565-2254-4987-fc8c-8469bbdf8411"
      },
      "source": [
        "messsage = b'more secrets go here'\n",
        "from cryptography.hazmat.primitives.asymmetric import padding\n",
        "from cryptography.hazmat.primitives import hashes\n",
        "encrypted = public_key.encrypt(message, \n",
        "                               padding.OAEP(mgf=padding.MGF1(algorithm=hashes.SHA256()),\n",
        "                                            algorithm=hashes.SHA256(),\n",
        "                                            label=None))\n",
        "decrypted = private_key.decrypt(encrypted, \n",
        "                                padding.OAEP(mgf=padding.MGF1(algorithm=hashes.SHA256()),\n",
        "                                             algorithm=hashes.SHA256(),\n",
        "                                             label=None))\n",
        "decrypted"
      ],
      "execution_count": 150,
      "outputs": [
        {
          "output_type": "execute_result",
          "data": {
            "text/plain": [
              "b'Secrets go here'"
            ]
          },
          "metadata": {
            "tags": []
          },
          "execution_count": 150
        }
      ]
    },
    {
      "cell_type": "markdown",
      "metadata": {
        "id": "FjHzArmSFCT8",
        "colab_type": "text"
      },
      "source": [
        "```\n",
        "the os module\n",
        "    list directory contents\n",
        "    create dir\n",
        "    rename directory\n",
        "    change directory/file permissions\n",
        "    recursively create dir path\n",
        "    delete file\n",
        "    delete directory\n",
        "    delete tree of dirs\n",
        "        start at leaf work way up\n",
        "        stop with 1st non empty dir\n",
        "    get stats about file or dir\n",
        "        st_mode\n",
        "            file type\n",
        "            permissions\n",
        "        st_atime\n",
        "            time last accessed\n",
        "```"
      ]
    },
    {
      "cell_type": "markdown",
      "metadata": {
        "id": "ljTyxp5tHxyS",
        "colab_type": "text"
      },
      "source": [
        "```\n",
        "before start with os, \n",
        "notice path is /content and so \n",
        "if we mkdir /something, \n",
        "it will be at /something \n",
        "at the same level as the content directory \n",
        "or /content directory\n",
        "```"
      ]
    },
    {
      "cell_type": "code",
      "metadata": {
        "id": "pXOFEISSGq3H",
        "colab_type": "code",
        "colab": {
          "base_uri": "https://localhost:8080/",
          "height": 301
        },
        "outputId": "ecf77e99-438a-4c74-ce95-81ad5593cd04"
      },
      "source": [
        "!pwd\n",
        "!ls -la"
      ],
      "execution_count": 155,
      "outputs": [
        {
          "output_type": "stream",
          "text": [
            "/content\n",
            "total 20260\n",
            "drwxr-xr-x 1 root root     4096 Jun 27 22:35 .\n",
            "drwxr-xr-x 1 root root     4096 Jun 27 18:04 ..\n",
            "-rw-r--r-- 1 root root        0 Jun 27 22:35 big-data-corrected.txt\n",
            "-rw-r--r-- 1 root root 20211721 Jun 27 18:48 bookofdreamsghos00lang.pdf\n",
            "-rw-r--r-- 1 root root   485740 Jun 27 18:06 bookofdreams.txt\n",
            "drwxr-xr-x 1 root root     4096 Jun 25 17:02 .config\n",
            "-rw-r--r-- 1 root root       52 Jun 27 18:56 .envrc\n",
            "-rw-r--r-- 1 root root      592 Jun 27 18:09 header.txt\n",
            "-rw-r--r-- 1 root root        9 Jun 27 19:14 print_time.py\n",
            "drwxr-xr-x 1 root root     4096 Jun 17 16:18 sample_data\n",
            "-rw-r--r-- 1 root root      257 Jun 27 19:33 service-policy.json\n",
            "-rw-r--r-- 1 root root        9 Jun 27 19:15 sp\n",
            "-rw-r--r-- 1 root root      178 Jun 27 20:26 verify_apache.yml\n",
            "-rw-r--r-- 1 root root      192 Jun 27 20:20 verify-apache.yml\n"
          ],
          "name": "stdout"
        }
      ]
    },
    {
      "cell_type": "code",
      "metadata": {
        "id": "47jnyGzXEBpZ",
        "colab_type": "code",
        "colab": {
          "base_uri": "https://localhost:8080/",
          "height": 230
        },
        "outputId": "d84a2810-272a-498d-e940-9f3c96d03a22"
      },
      "source": [
        "import os\n",
        "os.listdir('.')"
      ],
      "execution_count": 152,
      "outputs": [
        {
          "output_type": "execute_result",
          "data": {
            "text/plain": [
              "['.config',\n",
              " 'bookofdreams.txt',\n",
              " 'print_time.py',\n",
              " 'service-policy.json',\n",
              " 'bookofdreamsghos00lang.pdf',\n",
              " 'verify-apache.yml',\n",
              " 'header.txt',\n",
              " 'sp',\n",
              " 'verify_apache.yml',\n",
              " '.envrc',\n",
              " 'big-data-corrected.txt',\n",
              " 'sample_data']"
            ]
          },
          "metadata": {
            "tags": []
          },
          "execution_count": 152
        }
      ]
    },
    {
      "cell_type": "markdown",
      "metadata": {
        "id": "iarsDUcaIOIg",
        "colab_type": "text"
      },
      "source": [
        "```\n",
        "so this creates /tmp/holding in the already exisitng /tmp dir which is same level as /content\n",
        "```"
      ]
    },
    {
      "cell_type": "code",
      "metadata": {
        "id": "snMmf6jfFhfn",
        "colab_type": "code",
        "colab": {
          "base_uri": "https://localhost:8080/",
          "height": 34
        },
        "outputId": "89aa3bd2-0e86-4eb0-8939-4ff5f54e7b3d"
      },
      "source": [
        "os.mkdir('/tmp/holding')\n",
        "os.listdir('../tmp')"
      ],
      "execution_count": 163,
      "outputs": [
        {
          "output_type": "execute_result",
          "data": {
            "text/plain": [
              "['holding', '.ipynb_checkpoints']"
            ]
          },
          "metadata": {
            "tags": []
          },
          "execution_count": 163
        }
      ]
    },
    {
      "cell_type": "code",
      "metadata": {
        "id": "k_I-rfRvGijM",
        "colab_type": "code",
        "colab": {
          "base_uri": "https://localhost:8080/",
          "height": 283
        },
        "outputId": "ed8a9736-0d52-4b91-ad14-cb6479e98ed1"
      },
      "source": [
        "os.mkdir('_crud_handler')\n",
        "os.listdir('.')"
      ],
      "execution_count": 167,
      "outputs": [
        {
          "output_type": "execute_result",
          "data": {
            "text/plain": [
              "['.config',\n",
              " 'bookofdreams.txt',\n",
              " 'print_time.py',\n",
              " 'service-policy.json',\n",
              " 'bookofdreamsghos00lang.pdf',\n",
              " '.ipynb_checkpoints',\n",
              " 'bob',\n",
              " 'verify-apache.yml',\n",
              " 'header.txt',\n",
              " 'sp',\n",
              " 'verify_apache.yml',\n",
              " '.envrc',\n",
              " 'big-data-corrected.txt',\n",
              " '_crud_handler',\n",
              " 'sample_data']"
            ]
          },
          "metadata": {
            "tags": []
          },
          "execution_count": 167
        }
      ]
    },
    {
      "cell_type": "code",
      "metadata": {
        "id": "rFCKaNHkI14r",
        "colab_type": "code",
        "colab": {
          "base_uri": "https://localhost:8080/",
          "height": 283
        },
        "outputId": "8f79bd3c-3d0f-484c-d9c4-3a198cf48ace"
      },
      "source": [
        "os.rename('_crud_handler', 'crud_handler')\n",
        "os.listdir('.')"
      ],
      "execution_count": 168,
      "outputs": [
        {
          "output_type": "execute_result",
          "data": {
            "text/plain": [
              "['.config',\n",
              " 'bookofdreams.txt',\n",
              " 'print_time.py',\n",
              " 'service-policy.json',\n",
              " 'bookofdreamsghos00lang.pdf',\n",
              " '.ipynb_checkpoints',\n",
              " 'bob',\n",
              " 'verify-apache.yml',\n",
              " 'header.txt',\n",
              " 'sp',\n",
              " 'verify_apache.yml',\n",
              " 'crud_handler',\n",
              " '.envrc',\n",
              " 'big-data-corrected.txt',\n",
              " 'sample_data']"
            ]
          },
          "metadata": {
            "tags": []
          },
          "execution_count": 168
        }
      ]
    },
    {
      "cell_type": "code",
      "metadata": {
        "id": "2WS73BHeJVgc",
        "colab_type": "code",
        "colab": {
          "base_uri": "https://localhost:8080/",
          "height": 34
        },
        "outputId": "efc7060c-ca1d-4bb8-cc28-898154ecd580"
      },
      "source": [
        "\n",
        "import os\n",
        "import stat\n",
        "\n",
        "st = os.stat('print_time.py')\n",
        "oct_perm = oct(st.st_mode)\n",
        "print(oct_perm)"
      ],
      "execution_count": 171,
      "outputs": [
        {
          "output_type": "stream",
          "text": [
            "0o100644\n"
          ],
          "name": "stdout"
        }
      ]
    },
    {
      "cell_type": "code",
      "metadata": {
        "id": "o2xH7L4xJi83",
        "colab_type": "code",
        "colab": {}
      },
      "source": [
        "os.chmod('print_time.py', 0o777)"
      ],
      "execution_count": 172,
      "outputs": []
    },
    {
      "cell_type": "code",
      "metadata": {
        "id": "iwdMxOp3KX6C",
        "colab_type": "code",
        "colab": {
          "base_uri": "https://localhost:8080/",
          "height": 34
        },
        "outputId": "3f853e71-d862-4862-f0c5-9a5309ad8a8d"
      },
      "source": [
        "st = os.stat('print_time.py')\n",
        "oct_perm = oct(st.st_mode)\n",
        "print(oct_perm)"
      ],
      "execution_count": 173,
      "outputs": [
        {
          "output_type": "stream",
          "text": [
            "0o100777\n"
          ],
          "name": "stdout"
        }
      ]
    },
    {
      "cell_type": "code",
      "metadata": {
        "id": "92Hyd3SOKcEI",
        "colab_type": "code",
        "colab": {
          "base_uri": "https://localhost:8080/",
          "height": 34
        },
        "outputId": "efad7dbf-ed4e-4610-efaa-dfe1d31c795f"
      },
      "source": [
        "os.chmod('print_time.py', 0o100644)\n",
        "st = os.stat('print_time.py')\n",
        "oct_perm = oct(st.st_mode)\n",
        "print(oct_perm)"
      ],
      "execution_count": 174,
      "outputs": [
        {
          "output_type": "stream",
          "text": [
            "0o100644\n"
          ],
          "name": "stdout"
        }
      ]
    },
    {
      "cell_type": "code",
      "metadata": {
        "id": "YL2NirXeKua3",
        "colab_type": "code",
        "colab": {}
      },
      "source": [
        "os.makedirs('/content/depps/eatme/blowme/saygoodbye')"
      ],
      "execution_count": 175,
      "outputs": []
    },
    {
      "cell_type": "code",
      "metadata": {
        "id": "fs_7tUagK-W5",
        "colab_type": "code",
        "colab": {
          "base_uri": "https://localhost:8080/",
          "height": 301
        },
        "outputId": "3cb36fc7-232e-4c92-d6d5-823dd0292a73"
      },
      "source": [
        "os.popen('cp print_time.py print_time1.py')\n",
        "os.listdir('.')"
      ],
      "execution_count": 179,
      "outputs": [
        {
          "output_type": "execute_result",
          "data": {
            "text/plain": [
              "['.config',\n",
              " 'bookofdreams.txt',\n",
              " 'print_time.py',\n",
              " 'service-policy.json',\n",
              " 'bookofdreamsghos00lang.pdf',\n",
              " 'depps',\n",
              " '.ipynb_checkpoints',\n",
              " 'bob',\n",
              " 'verify-apache.yml',\n",
              " 'header.txt',\n",
              " 'sp',\n",
              " 'verify_apache.yml',\n",
              " 'crud_handler',\n",
              " '.envrc',\n",
              " 'big-data-corrected.txt',\n",
              " 'sample_data']"
            ]
          },
          "metadata": {
            "tags": []
          },
          "execution_count": 179
        }
      ]
    },
    {
      "cell_type": "code",
      "metadata": {
        "id": "S1f_jQndL6No",
        "colab_type": "code",
        "colab": {}
      },
      "source": [
        "os.remove('print_time1.py')"
      ],
      "execution_count": 180,
      "outputs": []
    },
    {
      "cell_type": "code",
      "metadata": {
        "id": "VmcHGq4SMCFA",
        "colab_type": "code",
        "colab": {}
      },
      "source": [
        "os.rmdir('crud_handler')"
      ],
      "execution_count": 181,
      "outputs": []
    },
    {
      "cell_type": "code",
      "metadata": {
        "id": "OPxhqNwyMGbR",
        "colab_type": "code",
        "colab": {
          "base_uri": "https://localhost:8080/",
          "height": 828
        },
        "outputId": "086f3de6-4908-4991-db27-035f6fc69b7e"
      },
      "source": [
        "os.removedirs('/content/depps/eatme/blowme/saygoodbye')"
      ],
      "execution_count": 202,
      "outputs": [
        {
          "output_type": "stream",
          "text": [
            "ERROR:root:Internal Python error in the inspect module.\n",
            "Below is the traceback from this internal error.\n",
            "\n"
          ],
          "name": "stderr"
        },
        {
          "output_type": "stream",
          "text": [
            "Traceback (most recent call last):\n",
            "  File \"/usr/local/lib/python3.6/dist-packages/IPython/core/interactiveshell.py\", line 2882, in run_code\n",
            "    exec(code_obj, self.user_global_ns, self.user_ns)\n",
            "  File \"<ipython-input-202-9b2dbd11e896>\", line 1, in <module>\n",
            "    os.removedirs('/content/depps/eatme/blowme/saygoodbye')\n",
            "  File \"/usr/lib/python3.6/os.py\", line 238, in removedirs\n",
            "    rmdir(name)\n",
            "FileNotFoundError: [Errno 2] No such file or directory: '/content/depps/eatme/blowme/saygoodbye'\n",
            "\n",
            "During handling of the above exception, another exception occurred:\n",
            "\n",
            "Traceback (most recent call last):\n",
            "  File \"/usr/local/lib/python3.6/dist-packages/IPython/core/interactiveshell.py\", line 1823, in showtraceback\n",
            "    stb = value._render_traceback_()\n",
            "AttributeError: 'FileNotFoundError' object has no attribute '_render_traceback_'\n",
            "\n",
            "During handling of the above exception, another exception occurred:\n",
            "\n",
            "Traceback (most recent call last):\n",
            "  File \"/usr/local/lib/python3.6/dist-packages/IPython/core/ultratb.py\", line 1132, in get_records\n",
            "    return _fixed_getinnerframes(etb, number_of_lines_of_context, tb_offset)\n",
            "  File \"/usr/local/lib/python3.6/dist-packages/IPython/core/ultratb.py\", line 313, in wrapped\n",
            "    return f(*args, **kwargs)\n",
            "  File \"/usr/local/lib/python3.6/dist-packages/IPython/core/ultratb.py\", line 358, in _fixed_getinnerframes\n",
            "    records = fix_frame_records_filenames(inspect.getinnerframes(etb, context))\n",
            "  File \"/usr/lib/python3.6/inspect.py\", line 1490, in getinnerframes\n",
            "    frameinfo = (tb.tb_frame,) + getframeinfo(tb, context)\n",
            "  File \"/usr/lib/python3.6/inspect.py\", line 1448, in getframeinfo\n",
            "    filename = getsourcefile(frame) or getfile(frame)\n",
            "  File \"/usr/lib/python3.6/inspect.py\", line 696, in getsourcefile\n",
            "    if getattr(getmodule(object, filename), '__loader__', None) is not None:\n",
            "  File \"/usr/lib/python3.6/inspect.py\", line 725, in getmodule\n",
            "    file = getabsfile(object, _filename)\n",
            "  File \"/usr/lib/python3.6/inspect.py\", line 709, in getabsfile\n",
            "    return os.path.normcase(os.path.abspath(_filename))\n",
            "  File \"/usr/lib/python3.6/posixpath.py\", line 383, in abspath\n",
            "    cwd = os.getcwd()\n",
            "FileNotFoundError: [Errno 2] No such file or directory\n"
          ],
          "name": "stdout"
        },
        {
          "output_type": "error",
          "ename": "FileNotFoundError",
          "evalue": "ignored",
          "traceback": [
            "\u001b[0;31m---------------------------------------------------------------------------\u001b[0m"
          ]
        }
      ]
    },
    {
      "cell_type": "code",
      "metadata": {
        "id": "7fizss6jMVwJ",
        "colab_type": "code",
        "colab": {
          "base_uri": "https://localhost:8080/",
          "height": 54
        },
        "outputId": "335d5936-7703-4b14-bb19-5f6b62e77dad"
      },
      "source": [
        "os.stat('print_time.py')"
      ],
      "execution_count": 183,
      "outputs": [
        {
          "output_type": "execute_result",
          "data": {
            "text/plain": [
              "os.stat_result(st_mode=33188, st_ino=3932233, st_dev=51, st_nlink=1, st_uid=0, st_gid=0, st_size=9, st_atime=1593301649, st_mtime=1593285249, st_ctime=1593301407)"
            ]
          },
          "metadata": {
            "tags": []
          },
          "execution_count": 183
        }
      ]
    },
    {
      "cell_type": "markdown",
      "metadata": {
        "id": "0Qv88OK2Xmvl",
        "colab_type": "text"
      },
      "source": [
        "```\n",
        "manage files / dir with os.path\n",
        "    get current working dir\n",
        "    split leaf of path from present path\n",
        "    return parent path\n",
        "    return leaf name\n",
        "    walk up a directory tree\n",
        "        not much here bcos already at top\n",
        "```"
      ]
    },
    {
      "cell_type": "code",
      "metadata": {
        "id": "gVTzbAviYJCk",
        "colab_type": "code",
        "colab": {}
      },
      "source": [
        "import os"
      ],
      "execution_count": 184,
      "outputs": []
    },
    {
      "cell_type": "code",
      "metadata": {
        "id": "MqTYPSC-YLux",
        "colab_type": "code",
        "colab": {
          "base_uri": "https://localhost:8080/",
          "height": 35
        },
        "outputId": "823c1bb4-4db5-4312-cb12-5f054af07268"
      },
      "source": [
        "curr_dir = os.getcwd()\n",
        "curr_dir"
      ],
      "execution_count": 190,
      "outputs": [
        {
          "output_type": "execute_result",
          "data": {
            "application/vnd.google.colaboratory.intrinsic": {
              "type": "string"
            },
            "text/plain": [
              "'/content'"
            ]
          },
          "metadata": {
            "tags": []
          },
          "execution_count": 190
        }
      ]
    },
    {
      "cell_type": "code",
      "metadata": {
        "id": "z3iJZo_uYOyd",
        "colab_type": "code",
        "colab": {
          "base_uri": "https://localhost:8080/",
          "height": 34
        },
        "outputId": "b8503bb9-7c2f-4938-ca1c-56292b00e707"
      },
      "source": [
        "os.path.split(curr_dir)"
      ],
      "execution_count": 192,
      "outputs": [
        {
          "output_type": "execute_result",
          "data": {
            "text/plain": [
              "('/', 'content')"
            ]
          },
          "metadata": {
            "tags": []
          },
          "execution_count": 192
        }
      ]
    },
    {
      "cell_type": "code",
      "metadata": {
        "id": "1oDRNgXZYrk9",
        "colab_type": "code",
        "colab": {
          "base_uri": "https://localhost:8080/",
          "height": 35
        },
        "outputId": "62fb01a9-84d4-4821-db28-eef413a47ae1"
      },
      "source": [
        "os.path.dirname(curr_dir)"
      ],
      "execution_count": 195,
      "outputs": [
        {
          "output_type": "execute_result",
          "data": {
            "application/vnd.google.colaboratory.intrinsic": {
              "type": "string"
            },
            "text/plain": [
              "'/'"
            ]
          },
          "metadata": {
            "tags": []
          },
          "execution_count": 195
        }
      ]
    },
    {
      "cell_type": "code",
      "metadata": {
        "id": "XeK4R2puYueH",
        "colab_type": "code",
        "colab": {
          "base_uri": "https://localhost:8080/",
          "height": 35
        },
        "outputId": "1b8ef5db-aaa8-47de-8400-b1bccd9bd885"
      },
      "source": [
        "os.path.basename(curr_dir)"
      ],
      "execution_count": 196,
      "outputs": [
        {
          "output_type": "execute_result",
          "data": {
            "application/vnd.google.colaboratory.intrinsic": {
              "type": "string"
            },
            "text/plain": [
              "'content'"
            ]
          },
          "metadata": {
            "tags": []
          },
          "execution_count": 196
        }
      ]
    },
    {
      "cell_type": "code",
      "metadata": {
        "id": "iGc11zlWZAqJ",
        "colab_type": "code",
        "colab": {
          "base_uri": "https://localhost:8080/",
          "height": 34
        },
        "outputId": "bf6375c7-6226-47f2-8fcf-0e627769b5dd"
      },
      "source": [
        "while os.path.basename(curr_dir):\n",
        "    curr_dir = os.path.dirname(curr_dir)\n",
        "    print(curr_dir)"
      ],
      "execution_count": 197,
      "outputs": [
        {
          "output_type": "stream",
          "text": [
            "/\n"
          ],
          "name": "stdout"
        }
      ]
    },
    {
      "cell_type": "code",
      "metadata": {
        "id": "GAPJPn_rZo4N",
        "colab_type": "code",
        "colab": {
          "base_uri": "https://localhost:8080/",
          "height": 123
        },
        "outputId": "9365ff35-d5ba-4c3b-e659-1c0f11ff6f8a"
      },
      "source": [
        "path = '/content/depps/eatme/blowme/saygoodbye'\n",
        "if not os.path.exists(path):\n",
        "    os.makedirs(path)\n",
        "os.chdir(path)\n",
        "curr_dir = os.getcwd()\n",
        "print(curr_dir)\n",
        "while os.path.basename(curr_dir):\n",
        "    curr_dir = os.path.dirname(curr_dir)\n",
        "    print(curr_dir)"
      ],
      "execution_count": 207,
      "outputs": [
        {
          "output_type": "stream",
          "text": [
            "/content/depps/eatme/blowme/saygoodbye\n",
            "/content/depps/eatme/blowme\n",
            "/content/depps/eatme\n",
            "/content/depps\n",
            "/content\n",
            "/\n"
          ],
          "name": "stdout"
        }
      ]
    },
    {
      "cell_type": "markdown",
      "metadata": {
        "id": "ddJLsGSPb-Vu",
        "colab_type": "text"
      },
      "source": [
        "```\n",
        "example 2\n",
        "    dotfiles ending in 'rc' configure tool at runtime and are stuffed in hierarchy someplace\n",
        "    tool looks for environement variable defining which rc file to use\n",
        "    tool by default will look in \n",
        "        working dir\n",
        "        then user home dir\n",
        "    file var in ex is the file Python automatically creates when running file\n",
        "        it has relative path to the curr working dir not absolute path\n",
        "        so will expand that path to abs\n",
        "        then use that abs path to look for rc file\n",
        "        envir var will not have abs path either\n",
        "        so will expand that too to abs\n",
        "\n",
        "steps\n",
        "    1 check envir var exists in curr envir\n",
        "    2 use join to construct path with envir var name = $EXAMPLE_DIR/.examplerc\n",
        "    3 expand env var to insert into path\n",
        "    4 check see if file exists\n",
        "    5 check curr wd: construct path using curr wd\n",
        "    6 check user home dir: use expander func to get path to home dir\n",
        "    7 check dir of THIS FILE: epxand the rel path stored in file to abs path\n",
        "    8 use dirname to get path to dir hodling curr file\n",
        "\n",
        "\n",
        "interrogate stats about a path: \n",
        "is it a ...\n",
        "    file?\n",
        "    dir?\n",
        "    link?\n",
        "    mount?\n",
        "what is\n",
        "    size?\n",
        "    time last access?\n",
        "    time last modif?\n",
        "\n",
        "can walk down dir tree and report size / last access of files inside; use this to find large files\n",
        "    1 what are dir contents\n",
        "    2 get full path of item in parent dir\n",
        "    3 check if path represents a file\n",
        "    4 last time file accessed?\n",
        "    5 size of file?\n",
        "    6 parth is dir?\n",
        "    7 tree from this dir on down \n",
        "\n",
        "```"
      ]
    },
    {
      "cell_type": "code",
      "metadata": {
        "id": "INxraky3d4XF",
        "colab_type": "code",
        "colab": {
          "base_uri": "https://localhost:8080/",
          "height": 54
        },
        "outputId": "d86b7bd2-b90f-4d64-936f-119822ee8df1"
      },
      "source": [
        "os.environ"
      ],
      "execution_count": 204,
      "outputs": [
        {
          "output_type": "execute_result",
          "data": {
            "text/plain": [
              "environ({'ENV': '/root/.bashrc', 'GCS_READ_CACHE_BLOCK_SIZE_MB': '16', 'CLOUDSDK_CONFIG': '/content/.config', 'CUDA_VERSION': '10.1.243', 'PATH': '/usr/local/nvidia/bin:/usr/local/cuda/bin:/usr/local/sbin:/usr/local/bin:/usr/sbin:/usr/bin:/sbin:/bin:/tools/node/bin:/tools/google-cloud-sdk/bin:/opt/bin', 'HOME': '/root', 'LD_LIBRARY_PATH': '/usr/local/nvidia/lib:/usr/local/nvidia/lib64', 'LANG': 'en_US.UTF-8', 'SHELL': '/bin/bash', 'LIBRARY_PATH': '/usr/local/cuda/lib64/stubs', 'CUDA_PKG_VERSION': '10-1=10.1.243-1', 'SHLVL': '1', 'GCE_METADATA_TIMEOUT': '0', 'NCCL_VERSION': '2.4.8', 'NVIDIA_VISIBLE_DEVICES': 'all', 'TF_FORCE_GPU_ALLOW_GROWTH': 'true', 'DEBIAN_FRONTEND': 'noninteractive', 'CUDNN_VERSION': '7.6.5.32', 'LAST_FORCED_REBUILD': '20200609', 'JPY_PARENT_PID': '18', 'PYTHONPATH': '/env/python', 'DATALAB_SETTINGS_OVERRIDES': '{\"kernelManagerProxyPort\":6000,\"kernelManagerProxyHost\":\"172.28.0.3\",\"jupyterArgs\":[\"--ip=\\\\\"172.28.0.2\\\\\"\"]}', 'NO_GCE_CHECK': 'True', 'GLIBCXX_FORCE_NEW': '1', 'NVIDIA_DRIVER_CAPABILITIES': 'compute,utility', '_': '/tools/node/bin/node', 'LD_PRELOAD': '/usr/lib/x86_64-linux-gnu/libtcmalloc.so.4', 'NVIDIA_REQUIRE_CUDA': 'cuda>=10.1 brand=tesla,driver>=384,driver<385 brand=tesla,driver>=396,driver<397 brand=tesla,driver>=410,driver<411', 'OLDPWD': '/', 'HOSTNAME': '7d177d8dd516', 'COLAB_GPU': '0', 'PWD': '/', 'CLOUDSDK_PYTHON': 'python3', 'GLIBCPP_FORCE_NEW': '1', 'PYTHONWARNINGS': 'ignore:::pip._internal.cli.base_command', 'TBE_CREDS_ADDR': '172.28.0.1:8008', 'TERM': 'xterm-color', 'CLICOLOR': '1', 'PAGER': 'cat', 'GIT_PAGER': 'cat', 'MPLBACKEND': 'module://ipykernel.pylab.backend_inline'})"
            ]
          },
          "metadata": {
            "tags": []
          },
          "execution_count": 204
        }
      ]
    },
    {
      "cell_type": "code",
      "metadata": {
        "id": "Dg_sjnGUaII-",
        "colab_type": "code",
        "colab": {}
      },
      "source": [
        "def find_rc(rc_name='.examplerc'): \n",
        "    var_name = 'EXAMPLERC_DIR' \n",
        "    if var_name in os.environ: #1\n",
        "        var_path = os.path.join(f'${var_name}', rc_name) #2\n",
        "        config_path = os.path.expandvars(var_path) #3\n",
        "        print(f'Checking {config_path}')\n",
        "        if os.path.exists(config_path): #4\n",
        "            return config_path\n",
        "\n",
        "    config_path = os.path.join(os.getcwd(), rc_name) #5\n",
        "    print(f'checking {config_path}')\n",
        "    if os.path.exists(config_path):\n",
        "        return config_path\n",
        "\n",
        "    home_dir = os.path.expanduser('-/') #6\n",
        "    config_path = os.path.join(home_dir, rc_name)\n",
        "    print(f'Checking {config_path}')\n",
        "    if os.path.exists(config_path):\n",
        "        return config_path\n",
        "\n",
        "    file_path = os.path.abspath('__file__') #7\n",
        "    parent_path = os.path.dirname(file_path) #8\n",
        "\n",
        "    config_path = os.path.join(parent_path, rc_name)\n",
        "    print(f'Checking {config_path}')\n",
        "    if os.path.exists(config_path):\n",
        "        return config_path\n",
        "\n",
        "    print(f'File {rc_name} has not been found')"
      ],
      "execution_count": 213,
      "outputs": []
    },
    {
      "cell_type": "code",
      "metadata": {
        "id": "0flp8LTGfL10",
        "colab_type": "code",
        "colab": {
          "base_uri": "https://localhost:8080/",
          "height": 87
        },
        "outputId": "8f053b6f-fa6e-4049-9dc8-b84df093d8e1"
      },
      "source": [
        "find_rc()"
      ],
      "execution_count": 214,
      "outputs": [
        {
          "output_type": "stream",
          "text": [
            "checking /content/depps/eatme/blowme/saygoodbye/.examplerc\n",
            "Checking -/.examplerc\n",
            "Checking /content/depps/eatme/blowme/saygoodbye/.examplerc\n",
            "File .examplerc has not been found\n"
          ],
          "name": "stdout"
        }
      ]
    },
    {
      "cell_type": "code",
      "metadata": {
        "id": "GL2qwTIrjhs7",
        "colab_type": "code",
        "colab": {
          "base_uri": "https://localhost:8080/",
          "height": 35
        },
        "outputId": "6ed0d0bd-287d-4640-e96f-8e3e893aded4"
      },
      "source": [
        "path = '/content/depps/eatme/blowme/saygoodbye'\n",
        "if not os.path.exists(path):\n",
        "    os.makedirs(path)\n",
        "os.chdir(path)\n",
        "os.getcwd()"
      ],
      "execution_count": 224,
      "outputs": [
        {
          "output_type": "execute_result",
          "data": {
            "application/vnd.google.colaboratory.intrinsic": {
              "type": "string"
            },
            "text/plain": [
              "'/content/depps/eatme/blowme/saygoodbye'"
            ]
          },
          "metadata": {
            "tags": []
          },
          "execution_count": 224
        }
      ]
    },
    {
      "cell_type": "code",
      "metadata": {
        "id": "cbBwGWG3kmjf",
        "colab_type": "code",
        "colab": {
          "base_uri": "https://localhost:8080/",
          "height": 34
        },
        "outputId": "2ff57771-96b3-4a42-d5aa-b1d97fcdc8c1"
      },
      "source": [
        "%%writefile print_time.py\n",
        "#!/usr/bin/env_python\n",
        "import datetime\n",
        "print(datetime.datetime.now().time())"
      ],
      "execution_count": 226,
      "outputs": [
        {
          "output_type": "stream",
          "text": [
            "Overwriting print_time.py\n"
          ],
          "name": "stdout"
        }
      ]
    },
    {
      "cell_type": "markdown",
      "metadata": {
        "id": "qLjvJ19llHja",
        "colab_type": "text"
      },
      "source": [
        ""
      ]
    },
    {
      "cell_type": "code",
      "metadata": {
        "id": "Vq5BOvt4hjcY",
        "colab_type": "code",
        "colab": {
          "base_uri": "https://localhost:8080/",
          "height": 34
        },
        "outputId": "d163b794-fc75-4cbe-da92-020cbd763faa"
      },
      "source": [
        "%%writefile os_path_walk.py\n",
        "#!/usr/bin/env_python\n",
        "import fire, os\n",
        "def walk_path(parent_path):\n",
        "    print(f'Checking: {parent_path}')\n",
        "    childs = os.listdir(parent_path) #1\n",
        "\n",
        "    for child in childs:\n",
        "        child_path = os.path.join(parent_path, child) #2\n",
        "        if os.path.isfile(child_path): #3\n",
        "            last_access = os.path.getatime(child_path) #4\n",
        "            size = os.path.getasize(child_path) #5\n",
        "            print(f'file: {child_path}')\n",
        "            print(f'\\tlast accessed: {last_access}')\n",
        "            print(f'\\tsize: {size}')\n",
        "        elif os.path.isdir(child_path): #6\n",
        "            walk_path(child_path) #7\n",
        "\n",
        "if __name__ == '__main__':\n",
        "    fire.Fire()"
      ],
      "execution_count": 228,
      "outputs": [
        {
          "output_type": "stream",
          "text": [
            "Overwriting os_path_walk.py\n"
          ],
          "name": "stdout"
        }
      ]
    },
    {
      "cell_type": "code",
      "metadata": {
        "id": "WRT2Ryo3oL_0",
        "colab_type": "code",
        "colab": {}
      },
      "source": [
        "os.chdir('/content')"
      ],
      "execution_count": 229,
      "outputs": []
    },
    {
      "cell_type": "code",
      "metadata": {
        "id": "TbhVlM9Ro4NH",
        "colab_type": "code",
        "colab": {
          "base_uri": "https://localhost:8080/",
          "height": 250
        },
        "outputId": "daae8b8c-1134-4669-fb4b-7d2032c539c1"
      },
      "source": [
        "!pip install fire"
      ],
      "execution_count": 231,
      "outputs": [
        {
          "output_type": "stream",
          "text": [
            "Collecting fire\n",
            "\u001b[?25l  Downloading https://files.pythonhosted.org/packages/34/a7/0e22e70778aca01a52b9c899d9c145c6396d7b613719cd63db97ffa13f2f/fire-0.3.1.tar.gz (81kB)\n",
            "\r\u001b[K     |████                            | 10kB 18.6MB/s eta 0:00:01\r\u001b[K     |████████                        | 20kB 2.9MB/s eta 0:00:01\r\u001b[K     |████████████▏                   | 30kB 3.7MB/s eta 0:00:01\r\u001b[K     |████████████████▏               | 40kB 3.9MB/s eta 0:00:01\r\u001b[K     |████████████████████▏           | 51kB 3.4MB/s eta 0:00:01\r\u001b[K     |████████████████████████▎       | 61kB 3.8MB/s eta 0:00:01\r\u001b[K     |████████████████████████████▎   | 71kB 4.1MB/s eta 0:00:01\r\u001b[K     |████████████████████████████████| 81kB 3.2MB/s \n",
            "\u001b[?25hRequirement already satisfied: six in /usr/local/lib/python3.6/dist-packages (from fire) (1.12.0)\n",
            "Requirement already satisfied: termcolor in /usr/local/lib/python3.6/dist-packages (from fire) (1.1.0)\n",
            "Building wheels for collected packages: fire\n",
            "  Building wheel for fire (setup.py) ... \u001b[?25l\u001b[?25hdone\n",
            "  Created wheel for fire: filename=fire-0.3.1-py2.py3-none-any.whl size=111005 sha256=582345e3ead08fd13b1635d141820777c90a59c048de4240322c14c02ea4464b\n",
            "  Stored in directory: /root/.cache/pip/wheels/c1/61/df/768b03527bf006b546dce284eb4249b185669e65afc5fbb2ac\n",
            "Successfully built fire\n",
            "Installing collected packages: fire\n",
            "Successfully installed fire-0.3.1\n"
          ],
          "name": "stdout"
        }
      ]
    },
    {
      "cell_type": "markdown",
      "metadata": {
        "id": "TG9IgxH4ptwt",
        "colab_type": "text"
      },
      "source": [
        "```\n",
        "walking directory trees using os.walk\n",
        "\n",
        "    returns a generator\n",
        "    that returns a tuple for each iteration\n",
        "    tuple is a path = list of directories and list of files\n",
        "\n",
        "\n",
        "rewrite previous example this way\n",
        "and so dont have to test if files or dirs \n",
        "and dont have to recursively call walk_path with each subdir\n",
        "```"
      ]
    },
    {
      "cell_type": "code",
      "metadata": {
        "id": "XCqshfpyps4h",
        "colab_type": "code",
        "colab": {}
      },
      "source": [
        "def walk_path(parent_path):\n",
        "    for parent_path, directories, files in os.walk(parent_path):\n",
        "        print(f'Checking: {parent_path}')\n",
        "        for file_name in files:\n",
        "            file_path = os.path.join(parent_path, file_name)\n",
        "            last_access = os.path.getatime(file_path)\n",
        "            size = os.path.getsize(file_path)\n",
        "            print(f'file: {file_path}')\n",
        "            print(f'\\tlast accessed: {last_access}')\n",
        "            print(f'\\tsize: {size}')\n",
        "            "
      ],
      "execution_count": 240,
      "outputs": []
    },
    {
      "cell_type": "code",
      "metadata": {
        "id": "NumZ3cAsq0Hi",
        "colab_type": "code",
        "colab": {
          "base_uri": "https://localhost:8080/",
          "height": 105
        },
        "outputId": "62fe17cb-fbd1-47fe-aaac-55978de3034e"
      },
      "source": [
        "path = '/content/depps/eatme/blowme/saygoodbye'\n",
        "walk_path(path)"
      ],
      "execution_count": 242,
      "outputs": [
        {
          "output_type": "stream",
          "text": [
            "Checking: /content/depps/eatme/blowme/saygoodbye\n",
            "file: /content/depps/eatme/blowme/saygoodbye/print_time.py\n",
            "\tlast accessed: 1593308247.5887058\n",
            "\tsize: 75\n",
            "Checking: /content/depps/eatme/blowme/saygoodbye/.ipynb_checkpoints\n"
          ],
          "name": "stdout"
        }
      ]
    },
    {
      "cell_type": "markdown",
      "metadata": {
        "id": "mm62MZs-rKNc",
        "colab_type": "text"
      },
      "source": [
        "```\n",
        "paths represented as objects with pathlib\n",
        "this rewrites example 2.2\n",
        "1 pathlib doesnt expand env vars; grab value of env var from os.environ\n",
        "2 create pathlib.Path object for this OS\n",
        "3 construct pathlib.Path objects followed by parent path with /'s and strings\n",
        "4 pathlib.Path obj has an exists method\n",
        "5 call as_postix to return path as string\n",
        "    can return pathlib.Path object instead\n",
        "6 class method pathlib.Path.cwd object for curr wd.  \n",
        "    this obj used to  create config_path by joining with string rc_name\n",
        "7 class method pathlib.Path.home returns a pathlib.Path obj for curr users home dir\n",
        "8 create pathlib.Path obj using rel path stored in file and call this rel path 'resolve' method to get abs path\n",
        "9 return parent pathlib.Path obj from the obj itself\n",
        "```"
      ]
    },
    {
      "cell_type": "code",
      "metadata": {
        "id": "daCwTzDaq3Y0",
        "colab_type": "code",
        "colab": {}
      },
      "source": [
        "def find_rc(rc_name='.examplerc'):\n",
        "\n",
        "    # check for env var\n",
        "    var_name = 'EXAMPLERC_DIR'\n",
        "    example_dir = os.environ.get(var_name) #1\n",
        "    if example_dir:\n",
        "        dir_path = pathlib.Path(example_dir) #2\n",
        "        config_path = dir_path / rc_name #3\n",
        "        print(f'Checking {config_path}')\n",
        "        if config_path.exists(): #4\n",
        "            return config_path.as_postix() #5\n",
        "\n",
        "    # check the current wd\n",
        "    config_path = pathlib.Path.cwd() / rc_name #6\n",
        "    print(f'Checking {config_path}')\n",
        "    if config_path.exists(): \n",
        "        return config_path.as_postix()\n",
        "\n",
        "    # check user home dir\n",
        "    config_path = pathlib.Path.home() / rc_name #7\n",
        "    print(f'Checking {config_path}')\n",
        "    if config_path.exists(): \n",
        "        return config_path.as_postix()\n",
        "\n",
        "    # check dir of THIS FILE\n",
        "    file_path = pathlib.Path('__file__').resolve() #8\n",
        "    parent_path = file_path.parent #9\n",
        "    config_path = parent_path / rc_name \n",
        "    print(f'Checking {config_path}')\n",
        "    if config_path.exists(): \n",
        "        return config_path.as_postix()\n",
        "    print(f'file {rc_name} has not been found')"
      ],
      "execution_count": 246,
      "outputs": []
    },
    {
      "cell_type": "code",
      "metadata": {
        "id": "nLaiLXAHug__",
        "colab_type": "code",
        "colab": {
          "base_uri": "https://localhost:8080/",
          "height": 34
        },
        "outputId": "fe3127eb-0a3b-4c1a-91a6-f61a43ac9ddf"
      },
      "source": [
        "find_rc"
      ],
      "execution_count": 247,
      "outputs": [
        {
          "output_type": "execute_result",
          "data": {
            "text/plain": [
              "<function __main__.find_rc>"
            ]
          },
          "metadata": {
            "tags": []
          },
          "execution_count": 247
        }
      ]
    }
  ]
}